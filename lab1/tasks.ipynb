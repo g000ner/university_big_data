{
 "cells": [
  {
   "cell_type": "code",
   "execution_count": 3,
   "id": "3457eae2-a9f8-410e-a235-fd88ac9f7522",
   "metadata": {},
   "outputs": [
    {
     "name": "stdout",
     "output_type": "stream",
     "text": [
      "Defaulting to user installation because normal site-packages is not writeable\n",
      "Collecting pyspark==3.0.0\n",
      "  Downloading pyspark-3.0.0.tar.gz (204.7 MB)\n",
      "     |████████████████████████████████| 204.7 MB 22 kB/s              \n",
      "\u001b[?25h  Preparing metadata (setup.py) ... \u001b[?25ldone\n",
      "\u001b[?25hCollecting py4j==0.10.9\n",
      "  Downloading py4j-0.10.9-py2.py3-none-any.whl (198 kB)\n",
      "     |████████████████████████████████| 198 kB 5.1 MB/s            \n",
      "\u001b[?25hBuilding wheels for collected packages: pyspark\n",
      "  Building wheel for pyspark (setup.py) ... \u001b[?25ldone\n",
      "\u001b[?25h  Created wheel for pyspark: filename=pyspark-3.0.0-py2.py3-none-any.whl size=205046113 sha256=6bb22c5ca7c25b058a1c23655ae2cc9437ea4a486608744513d16bada4f083ae\n",
      "  Stored in directory: /home/kisel/.cache/pip/wheels/92/da/33/2bda9255ee3867975ac7ae7688d298a6d3f5dbd6fd57490d0f\n",
      "Successfully built pyspark\n",
      "Installing collected packages: py4j, pyspark\n",
      "  Attempting uninstall: py4j\n",
      "    Found existing installation: py4j 0.10.9.5\n",
      "    Uninstalling py4j-0.10.9.5:\n",
      "      Successfully uninstalled py4j-0.10.9.5\n",
      "  Attempting uninstall: pyspark\n",
      "    Found existing installation: pyspark 3.2.4\n",
      "    Uninstalling pyspark-3.2.4:\n",
      "      Successfully uninstalled pyspark-3.2.4\n",
      "Successfully installed py4j-0.10.9 pyspark-3.0.0\n"
     ]
    }
   ],
   "source": [
    "!pip3 install pyspark==3.0.0"
   ]
  },
  {
   "cell_type": "code",
   "execution_count": 3,
   "id": "7a81e7f8-c079-451d-9edf-b9763666a9c2",
   "metadata": {},
   "outputs": [
    {
     "data": {
      "text/html": [
       "\n",
       "        <div>\n",
       "            <p><b>SparkContext</b></p>\n",
       "\n",
       "            <p><a href=\"http://172.25.160.54:4040\">Spark UI</a></p>\n",
       "\n",
       "            <dl>\n",
       "              <dt>Version</dt>\n",
       "                <dd><code>v3.0.0</code></dd>\n",
       "              <dt>Master</dt>\n",
       "                <dd><code>local[1]</code></dd>\n",
       "              <dt>AppName</dt>\n",
       "                <dd><code>Lab1</code></dd>\n",
       "            </dl>\n",
       "        </div>\n",
       "        "
      ],
      "text/plain": [
       "<SparkContext master=local[1] appName=Lab1>"
      ]
     },
     "execution_count": 3,
     "metadata": {},
     "output_type": "execute_result"
    }
   ],
   "source": [
    "from pyspark import SparkContext, SparkConf\n",
    "app_name = \"Lab1\"\n",
    "conf = SparkConf().setAppName(app_name).setMaster('local[1]')\n",
    "sc = SparkContext(conf=conf)\n",
    "sc"
   ]
  },
  {
   "cell_type": "code",
   "execution_count": 4,
   "id": "e647ec07-8fbd-4cbf-b26b-d580b8bd087d",
   "metadata": {},
   "outputs": [],
   "source": [
    "from typing import NamedTuple\n",
    "from datetime import datetime\n",
    "from functools import reduce"
   ]
  },
  {
   "cell_type": "code",
   "execution_count": 5,
   "id": "90253152-5d9e-4739-85b5-21e77c37803e",
   "metadata": {},
   "outputs": [],
   "source": [
    "def initStation(stations):\n",
    "    class Station(NamedTuple):\n",
    "        station_id: int\n",
    "        name: str\n",
    "        lat: float\n",
    "        long: float\n",
    "        dockcount: int\n",
    "        landmark: str\n",
    "        installation: str\n",
    "    \n",
    "    for station in stations:\n",
    "        yield Station(\n",
    "            station_id = int(station[0]),\n",
    "            name = station[1],\n",
    "            lat = float(station[2]),\n",
    "            long = float(station[3]),\n",
    "            dockcount = int(station[4]),\n",
    "            landmark = station[5],\n",
    "            installation = datetime.strptime(station[6], '%m/%d/%Y')\n",
    "        )\n",
    "\n",
    "def initTrip(trips):\n",
    "    class Trip(NamedTuple):\n",
    "        trip_id: int\n",
    "        duration: int\n",
    "        start_date: datetime\n",
    "        start_station_name: str\n",
    "        start_station_id: int\n",
    "        end_date: datetime\n",
    "        end_station_name: str\n",
    "        end_station_id: int\n",
    "        bike_id: int\n",
    "        subscription_type: str\n",
    "        zip_code: str\n",
    "        \n",
    "    for trip in trips:\n",
    "        try:\n",
    "            yield Trip(                             \n",
    "             trip_id = int(trip[0]),\n",
    "             duration = int(trip[1]),\n",
    "             start_date = datetime.strptime(trip[2], '%m/%d/%Y %H:%M'),\n",
    "             start_station_name = trip[3],\n",
    "             start_station_id = int(trip[4]),\n",
    "             end_date = datetime.strptime(trip[5], '%m/%d/%Y %H:%M'),\n",
    "             end_station_name = trip[6],\n",
    "             end_station_id = trip[7],\n",
    "             bike_id = int(trip[8]),\n",
    "             subscription_type = trip[9],\n",
    "             zip_code = trip[10]\n",
    "            ) \n",
    "        except:\n",
    "            pass"
   ]
  },
  {
   "cell_type": "code",
   "execution_count": 7,
   "id": "f7d74936-afda-4380-979b-bb1ba3468b55",
   "metadata": {},
   "outputs": [],
   "source": [
    "trip_data = sc.textFile(\"trip.csv\")\n",
    "station_data = sc.textFile(\"station.csv\")"
   ]
  },
  {
   "cell_type": "code",
   "execution_count": 12,
   "id": "893b6c28-fb64-4ae1-825b-9586ed81c1c1",
   "metadata": {},
   "outputs": [
    {
     "data": {
      "text/plain": [
       "'id,duration,start_date,start_station_name,start_station_id,end_date,end_station_name,end_station_id,bike_id,subscription_type,zip_code'"
      ]
     },
     "execution_count": 12,
     "metadata": {},
     "output_type": "execute_result"
    }
   ],
   "source": [
    "trip_data.first()"
   ]
  },
  {
   "cell_type": "code",
   "execution_count": 36,
   "id": "fdf1cbc3-5530-4a01-896b-47e396aeb868",
   "metadata": {},
   "outputs": [],
   "source": [
    "def get_data_without_headers(data):\n",
    "    headers = data.first()\n",
    "    table_data = data.filter(lambda row: row != headers).map(lambda row: row.split(\",\"))\n",
    "    return table_data\n",
    "\n",
    "trips = get_data_without_headers(trip_data)\n",
    "stations = get_data_without_headers(station_data)"
   ]
  },
  {
   "cell_type": "code",
   "execution_count": 31,
   "id": "0d3c4def-c533-43ab-9ef3-a049a4771b7e",
   "metadata": {},
   "outputs": [
    {
     "data": {
      "text/plain": [
       "[['4576',\n",
       "  '63',\n",
       "  '8/29/2013 14:13',\n",
       "  'South Van Ness at Market',\n",
       "  '66',\n",
       "  '8/29/2013 14:14',\n",
       "  'South Van Ness at Market',\n",
       "  '66',\n",
       "  '520',\n",
       "  'Subscriber',\n",
       "  '94127'],\n",
       " ['4607',\n",
       "  '70',\n",
       "  '8/29/2013 14:42',\n",
       "  'San Jose City Hall',\n",
       "  '10',\n",
       "  '8/29/2013 14:43',\n",
       "  'San Jose City Hall',\n",
       "  '10',\n",
       "  '661',\n",
       "  'Subscriber',\n",
       "  '95138'],\n",
       " ['4130',\n",
       "  '71',\n",
       "  '8/29/2013 10:16',\n",
       "  'Mountain View City Hall',\n",
       "  '27',\n",
       "  '8/29/2013 10:17',\n",
       "  'Mountain View City Hall',\n",
       "  '27',\n",
       "  '48',\n",
       "  'Subscriber',\n",
       "  '97214']]"
      ]
     },
     "execution_count": 31,
     "metadata": {},
     "output_type": "execute_result"
    }
   ],
   "source": [
    "trips.take(3)"
   ]
  },
  {
   "cell_type": "code",
   "execution_count": 37,
   "id": "70f4edf2-040e-4dc1-a368-16bf04b56340",
   "metadata": {},
   "outputs": [],
   "source": [
    "stations_mapped = stations.mapPartitions(initStation)"
   ]
  },
  {
   "cell_type": "code",
   "execution_count": 38,
   "id": "4e45c96e-0852-45be-bda1-89a47cfd293e",
   "metadata": {},
   "outputs": [
    {
     "data": {
      "text/plain": [
       "Station(station_id=2, name='San Jose Diridon Caltrain Station', lat=37.329732, long=-121.90178200000001, dockcount=27, landmark='San Jose', installation=datetime.datetime(2013, 8, 6, 0, 0))"
      ]
     },
     "execution_count": 38,
     "metadata": {},
     "output_type": "execute_result"
    }
   ],
   "source": [
    "stations_mapped.first()"
   ]
  },
  {
   "cell_type": "code",
   "execution_count": 39,
   "id": "8ffc4838-df68-4a5f-bb12-017ae46923ca",
   "metadata": {},
   "outputs": [],
   "source": [
    "trips_mapped= trips.mapPartitions(initTrip)"
   ]
  },
  {
   "cell_type": "code",
   "execution_count": 40,
   "id": "fff47287-f09c-4fbf-9924-75686f68c139",
   "metadata": {},
   "outputs": [
    {
     "data": {
      "text/plain": [
       "Trip(trip_id=4576, duration=63, start_date=datetime.datetime(2013, 8, 29, 14, 13), start_station_name='South Van Ness at Market', start_station_id=66, end_date=datetime.datetime(2013, 8, 29, 14, 14), end_station_name='South Van Ness at Market', end_station_id='66', bike_id=520, subscription_type='Subscriber', zip_code='94127')"
      ]
     },
     "execution_count": 40,
     "metadata": {},
     "output_type": "execute_result"
    }
   ],
   "source": [
    "trips_mapped.first()"
   ]
  },
  {
   "cell_type": "markdown",
   "id": "ce9a15b7-54b8-46b2-ab03-4d0cdddf6b32",
   "metadata": {},
   "source": [
    "# 1. Найти велосипед с максимальным временем пробега."
   ]
  },
  {
   "cell_type": "code",
   "execution_count": 43,
   "id": "39537d49-5256-4e75-8f16-ae615b5df9cb",
   "metadata": {},
   "outputs": [
    {
     "data": {
      "text/plain": [
       "535"
      ]
     },
     "execution_count": 43,
     "metadata": {},
     "output_type": "execute_result"
    }
   ],
   "source": [
    "bike_max_mileage = trips_mapped.keyBy(lambda x: x.bike_id)\n",
    "bike_duration = bike_max_mileage.mapValues(lambda x: x.duration).reduceByKey(lambda x1, x2: x1 + x2)\n",
    "bike_duration_top = bike_duration.top(1, key=lambda x: x[1])[0][0]\n",
    "bike_duration_top"
   ]
  },
  {
   "cell_type": "markdown",
   "id": "b5ec529e-001c-4d0a-91fb-ba2e716af795",
   "metadata": {},
   "source": [
    "# 2. Найти наибольшее геодезическое расстояние между станциями."
   ]
  },
  {
   "cell_type": "code",
   "execution_count": 48,
   "id": "a5cd6b82-7813-4e7e-a093-439611b15494",
   "metadata": {},
   "outputs": [
    {
     "data": {
      "text/plain": [
       "Trip(trip_id=4576, duration=63, start_date=datetime.datetime(2013, 8, 29, 14, 13), start_station_name='South Van Ness at Market', start_station_id=66, end_date=datetime.datetime(2013, 8, 29, 14, 14), end_station_name='South Van Ness at Market', end_station_id='66', bike_id=520, subscription_type='Subscriber', zip_code='94127')"
      ]
     },
     "execution_count": 48,
     "metadata": {},
     "output_type": "execute_result"
    }
   ],
   "source": [
    "trips_mapped.first()"
   ]
  },
  {
   "cell_type": "code",
   "execution_count": 70,
   "id": "b26de22d-5acf-43db-bad0-2feea64ef658",
   "metadata": {},
   "outputs": [
    {
     "data": {
      "text/plain": [
       "[((66, '67'), 83),\n",
       " ((4, '5'), 109),\n",
       " ((10, '11'), 114),\n",
       " ((49, '54'), 125),\n",
       " ((6, '4'), 126)]"
      ]
     },
     "execution_count": 70,
     "metadata": {},
     "output_type": "execute_result"
    }
   ],
   "source": [
    "trips_stations = trips_mapped.filter(lambda trip: str(trip.start_station_id) != str(trip.end_station_id))\\\n",
    "                             .keyBy(lambda trip: (trip.start_station_id, trip.end_station_id))\\\n",
    "                             .mapValues(lambda trip: trip.duration)\n",
    "trips_stations.take(5)"
   ]
  },
  {
   "cell_type": "code",
   "execution_count": 71,
   "id": "2160a6d4-c631-4e1e-8b94-2105e685a6a3",
   "metadata": {},
   "outputs": [],
   "source": [
    "query = trips_stations\\\n",
    "    .aggregateByKey(\n",
    "        (0.0, 0.0),\n",
    "        lambda acc, value: (acc[0] + value, acc[1] + 1),\n",
    "        lambda acc1, acc2: (acc1[0] + acc2[0], acc1[1] + acc2[1]),)\\\n",
    "    .mapValues(lambda values: values[0] / values[1])"
   ]
  },
  {
   "cell_type": "code",
   "execution_count": 72,
   "id": "806a40c6-12ef-42a0-9aee-35c153c27497",
   "metadata": {},
   "outputs": [
    {
     "data": {
      "text/plain": [
       "[(229914.0, (26, '16')),\n",
       " (179212.5, (32, '63')),\n",
       " (169308.0, (80, '36')),\n",
       " (156461.03603603604, (66, '62')),\n",
       " (101207.5, (28, '2'))]"
      ]
     },
     "execution_count": 72,
     "metadata": {},
     "output_type": "execute_result"
    }
   ],
   "source": [
    "query.map(lambda x: x[::-1]).top(5)"
   ]
  },
  {
   "cell_type": "markdown",
   "id": "8ba08211-a70d-4621-a998-944b847fb752",
   "metadata": {},
   "source": [
    "# 3. Найти путь велосипеда с максимальным временем пробега через станции."
   ]
  },
  {
   "cell_type": "code",
   "execution_count": 74,
   "id": "9de4d182-e93b-463d-8c6b-7d6858f3773d",
   "metadata": {},
   "outputs": [
    {
     "data": {
      "text/plain": [
       "('Post at Kearney', 'San Francisco Caltrain (Townsend at 4th)')"
      ]
     },
     "execution_count": 74,
     "metadata": {},
     "output_type": "execute_result"
    }
   ],
   "source": [
    "bike_path = trips_mapped.filter(lambda x: x.bike_id == bike_duration_top)\\\n",
    "                        .sortBy(lambda x: x.start_date)\\\n",
    "                        .map(lambda x: (x.start_station_name, x.end_station_name))\n",
    "\n",
    "bike_path.first()"
   ]
  },
  {
   "cell_type": "markdown",
   "id": "515f70f0-0b35-4e17-a682-330d9c3bf154",
   "metadata": {
    "tags": []
   },
   "source": [
    "# 4. Найти количество велосипедов в системе."
   ]
  },
  {
   "cell_type": "code",
   "execution_count": null,
   "id": "3be03487-4ea9-4b9d-98dd-be6567dae828",
   "metadata": {},
   "outputs": [
    {
     "data": {
      "text/plain": [
       "700"
      ]
     },
     "execution_count": 76,
     "metadata": {},
     "output_type": "execute_result"
    }
   ],
   "source": [
    "count_bikes = trips_mapped.map(lambda x: x.bike_id).distinct().count()\n",
    "count_bikes"
   ]
  },
  {
   "cell_type": "markdown",
   "id": "1e8d99a9-4e08-4177-9a92-52154cebdc3f",
   "metadata": {},
   "source": [
    "# 5. Найти пользователей потративших на поездки более 3 часов."
   ]
  },
  {
   "cell_type": "code",
   "execution_count": 82,
   "id": "8ae802fb-774d-4ef4-8553-7a8a0f72d441",
   "metadata": {},
   "outputs": [
    {
     "data": {
      "text/plain": [
       "['58553',\n",
       " '94301',\n",
       " '94039',\n",
       " '94133',\n",
       " '93726',\n",
       " '94123',\n",
       " '4517',\n",
       " '29200',\n",
       " '45322',\n",
       " '94080']"
      ]
     },
     "execution_count": 82,
     "metadata": {},
     "output_type": "execute_result"
    }
   ],
   "source": [
    "users = trips_mapped.filter(lambda x: x.duration > (3 * 60 * 60))\\\n",
    "                    .map(lambda x: x.zip_code)\\\n",
    "                    .filter(lambda x: x != \"\")\\\n",
    "                    .distinct()\n",
    "users.take(10)"
   ]
  },
  {
   "cell_type": "code",
   "execution_count": null,
   "id": "632b70cb-544b-4c9b-bf64-64588db97324",
   "metadata": {},
   "outputs": [],
   "source": []
  }
 ],
 "metadata": {
  "kernelspec": {
   "display_name": "Python 3",
   "language": "python",
   "name": "python3"
  },
  "language_info": {
   "codemirror_mode": {
    "name": "ipython",
    "version": 3
   },
   "file_extension": ".py",
   "mimetype": "text/x-python",
   "name": "python",
   "nbconvert_exporter": "python",
   "pygments_lexer": "ipython3",
   "version": "3.6.9"
  }
 },
 "nbformat": 4,
 "nbformat_minor": 5
}
