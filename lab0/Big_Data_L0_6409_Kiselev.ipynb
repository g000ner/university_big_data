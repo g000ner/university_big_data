{
  "nbformat": 4,
  "nbformat_minor": 0,
  "metadata": {
    "colab": {
      "provenance": []
    },
    "kernelspec": {
      "name": "python3",
      "display_name": "Python 3"
    }
  },
  "cells": [
    {
      "cell_type": "markdown",
      "metadata": {
        "id": "82OvPKEiEqjc"
      },
      "source": [
        "# Введение в MapReduce модель на Python\n"
      ]
    },
    {
      "cell_type": "code",
      "metadata": {
        "id": "JQ2cvXLjICmI"
      },
      "source": [
        "from typing import NamedTuple # requires python 3.6+\n",
        "from typing import Iterator\n",
        "import random"
      ],
      "execution_count": 2,
      "outputs": []
    },
    {
      "cell_type": "code",
      "metadata": {
        "id": "yjPHumVwEyEg"
      },
      "source": [
        "def MAP(_, row:NamedTuple):\n",
        "  if (row.gender == 'female'):\n",
        "    yield (row.age, row)\n",
        "\n",
        "def REDUCE(age:str, rows:Iterator[NamedTuple]):\n",
        "  sum = 0\n",
        "  count = 0\n",
        "  for row in rows:\n",
        "    sum += row.social_contacts\n",
        "    count += 1\n",
        "  if (count > 0):\n",
        "    yield (age, sum/count)\n",
        "  else:\n",
        "    yield (age, 0)"
      ],
      "execution_count": null,
      "outputs": []
    },
    {
      "cell_type": "markdown",
      "metadata": {
        "id": "vBKMgpG_ilaZ"
      },
      "source": [
        "Модель элемента данных"
      ]
    },
    {
      "cell_type": "code",
      "metadata": {
        "id": "Rv-XIjhTJPx3"
      },
      "source": [
        "class User(NamedTuple):\n",
        "  id: int\n",
        "  age: str\n",
        "  social_contacts: int\n",
        "  gender: str"
      ],
      "execution_count": null,
      "outputs": []
    },
    {
      "cell_type": "code",
      "metadata": {
        "id": "5KV0Ze2vQgu5"
      },
      "source": [
        "input_collection = [\n",
        "    User(id=0, age=55, gender='male', social_contacts=20),\n",
        "    User(id=1, age=25, gender='female', social_contacts=240),\n",
        "    User(id=2, age=25, gender='female', social_contacts=500),\n",
        "    User(id=3, age=33, gender='female', social_contacts=800)\n",
        "]"
      ],
      "execution_count": null,
      "outputs": []
    },
    {
      "cell_type": "markdown",
      "metadata": {
        "id": "YFeqzyZxZIFZ"
      },
      "source": [
        "Функция RECORDREADER моделирует чтение элементов с диска или по сети."
      ]
    },
    {
      "cell_type": "code",
      "metadata": {
        "id": "S5HR4E_GQoMJ"
      },
      "source": [
        "def RECORDREADER():\n",
        "  return [(u.id, u) for u in input_collection]"
      ],
      "execution_count": null,
      "outputs": []
    },
    {
      "cell_type": "code",
      "metadata": {
        "id": "NeEoWla-ROUy",
        "colab": {
          "base_uri": "https://localhost:8080/"
        },
        "outputId": "ff61b5b7-c88b-4917-ccbc-dc7045432a01"
      },
      "source": [
        "list(RECORDREADER())"
      ],
      "execution_count": null,
      "outputs": [
        {
          "output_type": "execute_result",
          "data": {
            "text/plain": [
              "[(0, User(id=0, age=55, social_contacts=20, gender='male')),\n",
              " (1, User(id=1, age=25, social_contacts=240, gender='female')),\n",
              " (2, User(id=2, age=25, social_contacts=500, gender='female')),\n",
              " (3, User(id=3, age=33, social_contacts=800, gender='female'))]"
            ]
          },
          "metadata": {},
          "execution_count": 6
        }
      ]
    },
    {
      "cell_type": "code",
      "metadata": {
        "id": "YB8orgPSZs8M"
      },
      "source": [
        "def flatten(nested_iterable):\n",
        "  for iterable in nested_iterable:\n",
        "    for element in iterable:\n",
        "      yield element"
      ],
      "execution_count": null,
      "outputs": []
    },
    {
      "cell_type": "code",
      "metadata": {
        "id": "74oyvDLaRmd5",
        "colab": {
          "base_uri": "https://localhost:8080/",
          "height": 68
        },
        "outputId": "c6147702-7153-47c7-a574-d5fe6abe29a8"
      },
      "source": [
        "map_output = flatten(map(lambda x: MAP(*x), RECORDREADER()))\n",
        "map_output = list(map_output) # materialize\n",
        "map_output"
      ],
      "execution_count": null,
      "outputs": [
        {
          "output_type": "execute_result",
          "data": {
            "text/plain": [
              "[(25, User(id=1, age=25, social_contacts=240, gender='female')),\n",
              " (25, User(id=2, age=25, social_contacts=500, gender='female')),\n",
              " (33, User(id=3, age=33, social_contacts=800, gender='female'))]"
            ]
          },
          "metadata": {
            "tags": []
          },
          "execution_count": 22
        }
      ]
    },
    {
      "cell_type": "code",
      "metadata": {
        "id": "8ncYDJ3-VzDn"
      },
      "source": [
        "def groupbykey(iterable):\n",
        "  t = {}\n",
        "  for (k2, v2) in iterable:\n",
        "    t[k2] = t.get(k2, []) + [v2]\n",
        "  return t.items()"
      ],
      "execution_count": null,
      "outputs": []
    },
    {
      "cell_type": "code",
      "metadata": {
        "id": "cKzY_6COWOA2",
        "colab": {
          "base_uri": "https://localhost:8080/",
          "height": 85
        },
        "outputId": "e6791b12-e409-47e9-bcd4-e9f8ca8611bd"
      },
      "source": [
        "shuffle_output = groupbykey(map_output)\n",
        "shuffle_output = list(shuffle_output)\n",
        "shuffle_output"
      ],
      "execution_count": null,
      "outputs": [
        {
          "output_type": "execute_result",
          "data": {
            "text/plain": [
              "[(25,\n",
              "  [User(id=1, age=25, social_contacts=240, gender='female'),\n",
              "   User(id=2, age=25, social_contacts=500, gender='female')]),\n",
              " (33, [User(id=3, age=33, social_contacts=800, gender='female')])]"
            ]
          },
          "metadata": {
            "tags": []
          },
          "execution_count": 24
        }
      ]
    },
    {
      "cell_type": "code",
      "metadata": {
        "id": "NlA7lkDDYL0t",
        "colab": {
          "base_uri": "https://localhost:8080/",
          "height": 34
        },
        "outputId": "6b25d03f-5c92-4f3b-f500-6d70acd598b7"
      },
      "source": [
        "reduce_output = flatten(map(lambda x: REDUCE(*x), shuffle_output))\n",
        "reduce_output = list(reduce_output)\n",
        "reduce_output"
      ],
      "execution_count": null,
      "outputs": [
        {
          "output_type": "execute_result",
          "data": {
            "text/plain": [
              "[(25, 370.0), (33, 800.0)]"
            ]
          },
          "metadata": {
            "tags": []
          },
          "execution_count": 25
        }
      ]
    },
    {
      "cell_type": "markdown",
      "metadata": {
        "id": "xf6qhHEtd6bI"
      },
      "source": [
        "Все действия одним конвейером!"
      ]
    },
    {
      "cell_type": "code",
      "metadata": {
        "id": "dZaQGYxCdpw5",
        "colab": {
          "base_uri": "https://localhost:8080/",
          "height": 34
        },
        "outputId": "3f5c6425-e5c5-49d2-b2cd-ce58a9acc33c"
      },
      "source": [
        "list(flatten(map(lambda x: REDUCE(*x), groupbykey(flatten(map(lambda x: MAP(*x), RECORDREADER()))))))"
      ],
      "execution_count": null,
      "outputs": [
        {
          "output_type": "execute_result",
          "data": {
            "text/plain": [
              "[(25, 370.0), (33, 800.0)]"
            ]
          },
          "metadata": {
            "tags": []
          },
          "execution_count": 26
        }
      ]
    },
    {
      "cell_type": "markdown",
      "metadata": {
        "id": "Vq3EWRIpwSiJ"
      },
      "source": [
        "# **MapReduce**\n",
        "Выделим общую для всех пользователей часть системы в отдельную функцию высшего порядка. Это наиболее простая модель MapReduce, без учёта распределённого хранения данных.\n",
        "\n",
        "Пользователь для решения своей задачи реализует RECORDREADER, MAP, REDUCE."
      ]
    },
    {
      "cell_type": "code",
      "metadata": {
        "id": "V1PZeQMwwVjc"
      },
      "source": [
        "def flatten(nested_iterable):\n",
        "  for iterable in nested_iterable:\n",
        "    for element in iterable:\n",
        "      yield element\n",
        "\n",
        "def groupbykey(iterable):\n",
        "  t = {}\n",
        "  for (k2, v2) in iterable:\n",
        "    t[k2] = t.get(k2, []) + [v2]\n",
        "  return t.items()\n",
        "\n",
        "def MapReduce(RECORDREADER, MAP, REDUCE):\n",
        "  return flatten(map(lambda x: REDUCE(*x), groupbykey(flatten(map(lambda x: MAP(*x), RECORDREADER())))))"
      ],
      "execution_count": null,
      "outputs": []
    },
    {
      "cell_type": "markdown",
      "metadata": {
        "id": "iFIVrimep678"
      },
      "source": [
        "## Спецификация MapReduce\n",
        "\n",
        "\n",
        "\n",
        "```\n",
        "f (k1, v1) -> (k2,v2)*\n",
        "g (k2, v2*) -> (k3,v3)*\n",
        "\n",
        "mapreduce ((k1,v1)*) -> (k3,v3)*\n",
        "groupby ((k2,v2)*) -> (k2,v2*)*\n",
        "flatten (e2**) -> e2*\n",
        "\n",
        "mapreduce .map(f).flatten.groupby(k2).map(g).flatten\n",
        "```\n",
        "\n",
        "\n"
      ]
    },
    {
      "cell_type": "markdown",
      "metadata": {
        "id": "QtTFyqke3KGe"
      },
      "source": [
        "# Примеры"
      ]
    },
    {
      "cell_type": "markdown",
      "metadata": {
        "id": "BNhh5763w5Vn"
      },
      "source": [
        "## SQL"
      ]
    },
    {
      "cell_type": "code",
      "metadata": {
        "id": "QkyurnvGxBGk",
        "colab": {
          "base_uri": "https://localhost:8080/",
          "height": 34
        },
        "outputId": "84761282-d2ba-435a-e8d7-a85150730e10"
      },
      "source": [
        "from typing import NamedTuple # requires python 3.6+\n",
        "from typing import Iterator\n",
        "\n",
        "class User(NamedTuple):\n",
        "  id: int\n",
        "  age: str\n",
        "  social_contacts: int\n",
        "  gender: str\n",
        "\n",
        "input_collection = [\n",
        "    User(id=0, age=55, gender='male', social_contacts=20),\n",
        "    User(id=1, age=25, gender='female', social_contacts=240),\n",
        "    User(id=2, age=25, gender='female', social_contacts=500),\n",
        "    User(id=3, age=33, gender='female', social_contacts=800)\n",
        "]\n",
        "\n",
        "def MAP(_, row:NamedTuple):\n",
        "  if (row.gender == 'female'):\n",
        "    yield (row.age, row)\n",
        "\n",
        "def REDUCE(age:str, rows:Iterator[NamedTuple]):\n",
        "  sum = 0\n",
        "  count = 0\n",
        "  for row in rows:\n",
        "    sum += row.social_contacts\n",
        "    count += 1\n",
        "  if (count > 0):\n",
        "    yield (age, sum/count)\n",
        "  else:\n",
        "    yield (age, 0)\n",
        "\n",
        "def RECORDREADER():\n",
        "  return [(u.id, u) for u in input_collection]\n",
        "\n",
        "output = MapReduce(RECORDREADER, MAP, REDUCE)\n",
        "output = list(output)\n",
        "output"
      ],
      "execution_count": null,
      "outputs": [
        {
          "output_type": "execute_result",
          "data": {
            "text/plain": [
              "[(25, 370.0), (33, 800.0)]"
            ]
          },
          "metadata": {
            "tags": []
          },
          "execution_count": 28
        }
      ]
    },
    {
      "cell_type": "markdown",
      "metadata": {
        "id": "kNKYIeerx0nY"
      },
      "source": [
        "## Matrix-Vector multiplication"
      ]
    },
    {
      "cell_type": "code",
      "metadata": {
        "id": "rwcntRcCyi1V",
        "colab": {
          "base_uri": "https://localhost:8080/",
          "height": 102
        },
        "outputId": "606737ab-6b55-455c-931f-4fc45155f8a9"
      },
      "source": [
        "from typing import Iterator\n",
        "import numpy as np\n",
        "\n",
        "mat = np.ones((5,4))\n",
        "vec = np.random.rand(4) # in-memory vector in all map tasks\n",
        "\n",
        "def MAP(coordinates:(int, int), value:int):\n",
        "  i, j = coordinates\n",
        "  yield (i, value*vec[j])\n",
        "\n",
        "def REDUCE(i:int, products:Iterator[NamedTuple]):\n",
        "  sum = 0\n",
        "  for p in products:\n",
        "    sum += p\n",
        "  yield (i, sum)\n",
        "\n",
        "def RECORDREADER():\n",
        "  for i in range(mat.shape[0]):\n",
        "    for j in range(mat.shape[1]):\n",
        "      yield ((i, j), mat[i,j])\n",
        "\n",
        "output = MapReduce(RECORDREADER, MAP, REDUCE)\n",
        "output = list(output)\n",
        "output"
      ],
      "execution_count": null,
      "outputs": [
        {
          "output_type": "execute_result",
          "data": {
            "text/plain": [
              "[(0, 2.905589809636405),\n",
              " (1, 2.905589809636405),\n",
              " (2, 2.905589809636405),\n",
              " (3, 2.905589809636405),\n",
              " (4, 2.905589809636405)]"
            ]
          },
          "metadata": {
            "tags": []
          },
          "execution_count": 29
        }
      ]
    },
    {
      "cell_type": "markdown",
      "metadata": {
        "id": "ruZREYdi2o4O"
      },
      "source": [
        "## Inverted index"
      ]
    },
    {
      "cell_type": "code",
      "metadata": {
        "id": "vt9H9Alf3TYv",
        "colab": {
          "base_uri": "https://localhost:8080/",
          "height": 102
        },
        "outputId": "51aeffc9-e111-4607-bd84-cfcc7b56f238"
      },
      "source": [
        "from typing import Iterator\n",
        "\n",
        "d1 = \"it is what it is\"\n",
        "d2 = \"what is it\"\n",
        "d3 = \"it is a banana\"\n",
        "documents = [d1, d2, d3]\n",
        "\n",
        "def RECORDREADER():\n",
        "  for (docid, document) in enumerate(documents):\n",
        "    yield (\"{}\".format(docid), document)\n",
        "\n",
        "def MAP(docId:str, body:str):\n",
        "  for word in set(body.split(' ')):\n",
        "    yield (word, docId)\n",
        "\n",
        "def REDUCE(word:str, docIds:Iterator[str]):\n",
        "  yield (word, sorted(docIds))\n",
        "\n",
        "output = MapReduce(RECORDREADER, MAP, REDUCE)\n",
        "output = list(output)\n",
        "output"
      ],
      "execution_count": null,
      "outputs": [
        {
          "output_type": "execute_result",
          "data": {
            "text/plain": [
              "[('what', ['0', '1']),\n",
              " ('is', ['0', '1', '2']),\n",
              " ('it', ['0', '1', '2']),\n",
              " ('a', ['2']),\n",
              " ('banana', ['2'])]"
            ]
          },
          "metadata": {
            "tags": []
          },
          "execution_count": 30
        }
      ]
    },
    {
      "cell_type": "markdown",
      "metadata": {
        "id": "R7az-6DA6qr2"
      },
      "source": [
        "## WordCount"
      ]
    },
    {
      "cell_type": "code",
      "metadata": {
        "id": "dN-nbtgG6uYG",
        "colab": {
          "base_uri": "https://localhost:8080/",
          "height": 34
        },
        "outputId": "24117576-7931-401d-a581-28e246b23453"
      },
      "source": [
        "from typing import Iterator\n",
        "\n",
        "d1 = \"\"\"\n",
        "it is what it is\n",
        "it is what it is\n",
        "it is what it is\"\"\"\n",
        "d2 = \"\"\"\n",
        "what is it\n",
        "what is it\"\"\"\n",
        "d3 = \"\"\"\n",
        "it is a banana\"\"\"\n",
        "documents = [d1, d2, d3]\n",
        "\n",
        "def RECORDREADER():\n",
        "  for (docid, document) in enumerate(documents):\n",
        "    for (lineid, line) in enumerate(document.split('\\n')):\n",
        "      yield (\"{}:{}\".format(docid,lineid), line)\n",
        "\n",
        "def MAP(docId:str, line:str):\n",
        "  for word in line.split(\" \"):\n",
        "    yield (word, 1)\n",
        "\n",
        "def REDUCE(word:str, counts:Iterator[int]):\n",
        "  sum = 0\n",
        "  for c in counts:\n",
        "    sum += c\n",
        "  yield (word, sum)\n",
        "\n",
        "output = MapReduce(RECORDREADER, MAP, REDUCE)\n",
        "output = list(output)\n",
        "output"
      ],
      "execution_count": null,
      "outputs": [
        {
          "output_type": "execute_result",
          "data": {
            "text/plain": [
              "[('', 3), ('it', 9), ('is', 9), ('what', 5), ('a', 1), ('banana', 1)]"
            ]
          },
          "metadata": {
            "tags": []
          },
          "execution_count": 31
        }
      ]
    },
    {
      "cell_type": "markdown",
      "metadata": {
        "id": "h-jRAcYCAkkk"
      },
      "source": [
        "# MapReduce Distributed\n",
        "\n",
        "Добавляется в модель фабрика RECORDREARER-ов --- INPUTFORMAT, функция распределения промежуточных результатов по партициям PARTITIONER, и функция COMBINER для частичной аггрегации промежуточных результатов до распределения по новым партициям."
      ]
    },
    {
      "cell_type": "code",
      "metadata": {
        "id": "nw-b-xJsApgW"
      },
      "source": [
        "def flatten(nested_iterable):\n",
        "  for iterable in nested_iterable:\n",
        "    for element in iterable:\n",
        "      yield element\n",
        "\n",
        "def groupbykey(iterable):\n",
        "  t = {}\n",
        "  for (k2, v2) in iterable:\n",
        "    t[k2] = t.get(k2, []) + [v2]\n",
        "  return t.items()\n",
        "\n",
        "def groupbykey_distributed(map_partitions, PARTITIONER):\n",
        "  global reducers\n",
        "  partitions = [dict() for _ in range(reducers)]\n",
        "  for map_partition in map_partitions:\n",
        "    for (k2, v2) in map_partition:\n",
        "      p = partitions[PARTITIONER(k2)]\n",
        "      p[k2] = p.get(k2, []) + [v2]\n",
        "  return [(partition_id, sorted(partition.items(), key=lambda x: x[0])) for (partition_id, partition) in enumerate(partitions)]\n",
        "\n",
        "def PARTITIONER(obj):\n",
        "  global reducers\n",
        "  return hash(obj) % reducers\n",
        "\n",
        "def MapReduceDistributed(INPUTFORMAT, MAP, REDUCE, PARTITIONER=PARTITIONER, COMBINER=None):\n",
        "  map_partitions = map(lambda record_reader: flatten(map(lambda k1v1: MAP(*k1v1), record_reader)), INPUTFORMAT())\n",
        "  if COMBINER != None:\n",
        "    map_partitions = map(lambda map_partition: flatten(map(lambda k2v2: COMBINER(*k2v2), groupbykey(map_partition))), map_partitions)\n",
        "  reduce_partitions = groupbykey_distributed(map_partitions, PARTITIONER) # shuffle\n",
        "  reduce_outputs = map(lambda reduce_partition: (reduce_partition[0], flatten(map(lambda reduce_input_group: REDUCE(*reduce_input_group), reduce_partition[1]))), reduce_partitions)\n",
        "\n",
        "  print(\"{} key-value pairs were sent over a network.\".format(sum([len(vs) for (k,vs) in flatten([partition for (partition_id, partition) in reduce_partitions])])))\n",
        "  return reduce_outputs"
      ],
      "execution_count": 4,
      "outputs": []
    },
    {
      "cell_type": "markdown",
      "metadata": {
        "id": "kxirlf3XqZxY"
      },
      "source": [
        "## Спецификация MapReduce Distributed\n",
        "\n",
        "\n",
        "```\n",
        "f (k1, v1) -> (k2,v2)*\n",
        "g (k2, v2*) -> (k3,v3)*\n",
        "\n",
        "e1 (k1, v1)\n",
        "e2 (k2, v2)\n",
        "partition1 (k2, v2)*\n",
        "partition2 (k2, v2*)*\n",
        "\n",
        "flatmap (e1->e2*, e1*) -> partition1*\n",
        "groupby (partition1*) -> partition2*\n",
        "\n",
        "mapreduce ((k1,v1)*) -> (k3,v3)*\n",
        "mapreduce .flatmap(f).groupby(k2).flatmap(g)\n",
        "```\n",
        "\n"
      ]
    },
    {
      "cell_type": "markdown",
      "metadata": {
        "id": "CWYw_CpbbY3C"
      },
      "source": [
        "## WordCount"
      ]
    },
    {
      "cell_type": "code",
      "metadata": {
        "id": "uR_zfGFkMZlp",
        "colab": {
          "base_uri": "https://localhost:8080/"
        },
        "outputId": "65723f27-efbd-4fc3-b591-4c3176c3d1c6"
      },
      "source": [
        "from typing import Iterator\n",
        "import numpy as np\n",
        "\n",
        "d1 = \"\"\"\n",
        "it is what it is\n",
        "it is what it is\n",
        "it is what it is\"\"\"\n",
        "d2 = \"\"\"\n",
        "what is it\n",
        "what is it\"\"\"\n",
        "d3 = \"\"\"\n",
        "it is a banana\"\"\"\n",
        "documents = [d1, d2, d3, d1, d2, d3]\n",
        "\n",
        "maps = 3\n",
        "reducers = 2\n",
        "\n",
        "def INPUTFORMAT():\n",
        "  global maps\n",
        "\n",
        "  def RECORDREADER(split):\n",
        "    for (docid, document) in enumerate(split):\n",
        "      for (lineid, line) in enumerate(document.split('\\n')):\n",
        "        yield (\"{}:{}\".format(docid,lineid), line)\n",
        "\n",
        "  split_size =  int(np.ceil(len(documents)/maps))\n",
        "  for i in range(0, len(documents), split_size):\n",
        "    yield RECORDREADER(documents[i:i+split_size])\n",
        "\n",
        "def MAP(docId:str, line:str):\n",
        "  for word in line.split(\" \"):\n",
        "    yield (word, 1)\n",
        "\n",
        "def REDUCE(word:str, counts:Iterator[int]):\n",
        "  sum = 0\n",
        "  for c in counts:\n",
        "    sum += c\n",
        "  yield (word, sum)\n",
        "\n",
        "# try to set COMBINER=REDUCER and look at the number of values sent over the network\n",
        "partitioned_output = MapReduceDistributed(INPUTFORMAT, MAP, REDUCE, COMBINER=None)\n",
        "partitioned_output = [(partition_id, list(partition)) for (partition_id, partition) in partitioned_output]\n",
        "partitioned_output"
      ],
      "execution_count": 14,
      "outputs": [
        {
          "output_type": "stream",
          "name": "stdout",
          "text": [
            "56 key-value pairs were sent over a network.\n"
          ]
        },
        {
          "output_type": "execute_result",
          "data": {
            "text/plain": [
              "[(0, [('', 6), ('is', 18), ('what', 10)]),\n",
              " (1, [('a', 2), ('banana', 2), ('it', 18)])]"
            ]
          },
          "metadata": {},
          "execution_count": 14
        }
      ]
    },
    {
      "cell_type": "markdown",
      "metadata": {
        "id": "gCJGx8IQ87xS"
      },
      "source": [
        "## TeraSort"
      ]
    },
    {
      "cell_type": "code",
      "metadata": {
        "id": "P2v8v1v_8_YR",
        "colab": {
          "base_uri": "https://localhost:8080/"
        },
        "outputId": "b07ef4e6-a45e-474c-8e41-1ce846274d6d"
      },
      "source": [
        "import numpy as np\n",
        "\n",
        "input_values = np.random.rand(30)\n",
        "maps = 3\n",
        "reducers = 2\n",
        "min_value = 0.0\n",
        "max_value = 1.0\n",
        "\n",
        "def INPUTFORMAT():\n",
        "  global maps\n",
        "\n",
        "  def RECORDREADER(split):\n",
        "    for value in split:\n",
        "        yield (value, None)\n",
        "\n",
        "  split_size =  int(np.ceil(len(input_values)/maps))\n",
        "  for i in range(0, len(input_values), split_size):\n",
        "    yield RECORDREADER(input_values[i:i+split_size])\n",
        "\n",
        "def MAP(value:int, _):\n",
        "  yield (value, None)\n",
        "\n",
        "def PARTITIONER(key):\n",
        "  global reducers\n",
        "  global max_value\n",
        "  global min_value\n",
        "  bucket_size = (max_value-min_value)/reducers\n",
        "  bucket_id = 0\n",
        "  while((key>(bucket_id+1)*bucket_size) and ((bucket_id+1)*bucket_size<max_value)):\n",
        "    bucket_id += 1\n",
        "  return bucket_id\n",
        "\n",
        "def REDUCE(value:int, _):\n",
        "  yield (None,value)\n",
        "\n",
        "partitioned_output = MapReduceDistributed(INPUTFORMAT, MAP, REDUCE, COMBINER=None, PARTITIONER=PARTITIONER)\n",
        "partitioned_output = [(partition_id, list(partition)) for (partition_id, partition) in partitioned_output]\n",
        "partitioned_output"
      ],
      "execution_count": 6,
      "outputs": [
        {
          "output_type": "stream",
          "name": "stdout",
          "text": [
            "30 key-value pairs were sent over a network.\n"
          ]
        },
        {
          "output_type": "execute_result",
          "data": {
            "text/plain": [
              "[(0,\n",
              "  [(None, 0.0686096003285891),\n",
              "   (None, 0.08264341190771929),\n",
              "   (None, 0.08561885174475892),\n",
              "   (None, 0.10246395536698094),\n",
              "   (None, 0.10687044632898024),\n",
              "   (None, 0.11369969473542374),\n",
              "   (None, 0.1168462531945138),\n",
              "   (None, 0.1535724862549932),\n",
              "   (None, 0.1598159711471303),\n",
              "   (None, 0.16299294636632766),\n",
              "   (None, 0.2120978097247842),\n",
              "   (None, 0.2392076802464106),\n",
              "   (None, 0.25589509000525523),\n",
              "   (None, 0.2630935334369232),\n",
              "   (None, 0.38688909234296043),\n",
              "   (None, 0.4063354331851803),\n",
              "   (None, 0.41348287790359073),\n",
              "   (None, 0.42213008949931585),\n",
              "   (None, 0.4486865281856742)]),\n",
              " (1,\n",
              "  [(None, 0.602023832572674),\n",
              "   (None, 0.6430626698752681),\n",
              "   (None, 0.6448693695056031),\n",
              "   (None, 0.6449217963679532),\n",
              "   (None, 0.6768028099934498),\n",
              "   (None, 0.7253640431297059),\n",
              "   (None, 0.9059535695192993),\n",
              "   (None, 0.9706825402480044),\n",
              "   (None, 0.9710131351844195),\n",
              "   (None, 0.9839337152768212),\n",
              "   (None, 0.991514360505179)])]"
            ]
          },
          "metadata": {},
          "execution_count": 6
        }
      ]
    },
    {
      "cell_type": "code",
      "metadata": {
        "id": "MQhoJaVZI93G"
      },
      "source": [],
      "execution_count": null,
      "outputs": []
    },
    {
      "cell_type": "markdown",
      "metadata": {
        "id": "Iy65YJTH99iT"
      },
      "source": [
        "# Упражнения\n",
        "Упражнения взяты из Rajaraman A., Ullman J. D. Mining of massive datasets. – Cambridge University Press, 2011.\n",
        "\n",
        "\n",
        "Для выполнения заданий переопределите функции RECORDREADER, MAP, REDUCE. Для модели распределённой системы может потребоваться переопределение функций PARTITION и COMBINER."
      ]
    },
    {
      "cell_type": "markdown",
      "metadata": {
        "id": "cfvAeZm3S8S8"
      },
      "source": [
        "### Максимальное значение ряда\n",
        "\n",
        "Разработайте MapReduce алгоритм, который находит максимальное число входного списка чисел."
      ]
    },
    {
      "cell_type": "code",
      "metadata": {
        "id": "3GRA1JR-Tkbg",
        "colab": {
          "base_uri": "https://localhost:8080/"
        },
        "outputId": "30743fcb-fc5b-4720-dacd-e36476bcc0a4"
      },
      "source": [
        "import random\n",
        "\n",
        "def MAP(num_list):\n",
        "    return max(num_list)\n",
        "\n",
        "\n",
        "def REDUCE(num_list):\n",
        "    return max(num_list)\n",
        "\n",
        "\n",
        "def RECORDREADER(count):\n",
        "    return [random.randint(0, 100) for i in range(count)]\n",
        "\n",
        "\n",
        "record = RECORDREADER(100)\n",
        "print(record)\n",
        "\n",
        "part_count = 5\n",
        "record_partitional = [record[d:d + part_count] for d in range(0, len(record), part_count)]\n",
        "print(record_partitional)\n",
        "\n",
        "print(REDUCE(list(map(lambda x: MAP(x), record_partitional))))"
      ],
      "execution_count": null,
      "outputs": [
        {
          "output_type": "stream",
          "name": "stdout",
          "text": [
            "[68, 75, 22, 40, 6, 65, 25, 81, 23, 54, 0, 88, 54, 93, 81, 96, 79, 98, 30, 59, 91, 60, 18, 99, 62, 32, 75, 29, 83, 10, 53, 60, 8, 30, 46, 49, 16, 53, 65, 73, 90, 61, 86, 77, 79, 21, 46, 26, 40, 71, 79, 56, 77, 9, 31, 54, 59, 25, 50, 94, 81, 17, 26, 43, 20, 58, 79, 57, 25, 1, 84, 43, 17, 56, 34, 74, 17, 0, 75, 97, 54, 55, 73, 31, 40, 28, 34, 43, 44, 27, 94, 70, 99, 38, 97, 38, 31, 62, 74, 72]\n",
            "[[68, 75, 22, 40, 6], [65, 25, 81, 23, 54], [0, 88, 54, 93, 81], [96, 79, 98, 30, 59], [91, 60, 18, 99, 62], [32, 75, 29, 83, 10], [53, 60, 8, 30, 46], [49, 16, 53, 65, 73], [90, 61, 86, 77, 79], [21, 46, 26, 40, 71], [79, 56, 77, 9, 31], [54, 59, 25, 50, 94], [81, 17, 26, 43, 20], [58, 79, 57, 25, 1], [84, 43, 17, 56, 34], [74, 17, 0, 75, 97], [54, 55, 73, 31, 40], [28, 34, 43, 44, 27], [94, 70, 99, 38, 97], [38, 31, 62, 74, 72]]\n",
            "99\n"
          ]
        }
      ]
    },
    {
      "cell_type": "markdown",
      "metadata": {
        "id": "k86bXnqZTk-U"
      },
      "source": [
        "### Арифметическое среднее\n",
        "\n",
        "Разработайте MapReduce алгоритм, который находит арифметическое среднее.\n",
        "\n",
        "$$\\overline{X} = \\frac{1}{n}\\sum_{i=0}^{n} x_i$$\n"
      ]
    },
    {
      "cell_type": "code",
      "metadata": {
        "id": "MPoY5pkfUNZf",
        "colab": {
          "base_uri": "https://localhost:8080/"
        },
        "outputId": "11f6aec6-3457-4ffc-c122-bdf3dcf22f24"
      },
      "source": [
        "def MAP(num):\n",
        "    return (1, num)\n",
        "\n",
        "\n",
        "def REDUCE(key, nums: Iterator[NamedTuple]):\n",
        "    sum = 0\n",
        "    count = 0\n",
        "    for n in nums:\n",
        "        sum += n\n",
        "        count += 1\n",
        "    yield sum / count\n",
        "\n",
        "\n",
        "def RECORDREADER(count):\n",
        "    return [random.randint(0, 100) for i in range(count)]\n",
        "\n",
        "\n",
        "map_output = list(map(lambda x: MAP(x), RECORDREADER(100)))\n",
        "print(map_output)\n",
        "\n",
        "shuffle_output = groupbykey(map_output)\n",
        "shuffle_output = list(shuffle_output)\n",
        "\n",
        "print(shuffle_output)\n",
        "\n",
        "reduce_output = list(flatten(map(lambda x: REDUCE(*x), shuffle_output)))\n",
        "print(reduce_output)"
      ],
      "execution_count": null,
      "outputs": [
        {
          "output_type": "stream",
          "name": "stdout",
          "text": [
            "[(1, 65), (1, 6), (1, 25), (1, 73), (1, 9), (1, 51), (1, 90), (1, 70), (1, 48), (1, 71), (1, 98), (1, 71), (1, 73), (1, 26), (1, 57), (1, 75), (1, 26), (1, 67), (1, 73), (1, 1), (1, 55), (1, 86), (1, 23), (1, 85), (1, 65), (1, 45), (1, 85), (1, 75), (1, 80), (1, 55), (1, 37), (1, 24), (1, 16), (1, 21), (1, 37), (1, 17), (1, 92), (1, 91), (1, 63), (1, 7), (1, 77), (1, 93), (1, 97), (1, 18), (1, 57), (1, 70), (1, 46), (1, 54), (1, 33), (1, 33), (1, 39), (1, 38), (1, 94), (1, 11), (1, 8), (1, 24), (1, 72), (1, 89), (1, 51), (1, 20), (1, 7), (1, 60), (1, 70), (1, 44), (1, 0), (1, 77), (1, 49), (1, 52), (1, 12), (1, 41), (1, 49), (1, 57), (1, 5), (1, 91), (1, 16), (1, 29), (1, 65), (1, 31), (1, 35), (1, 91), (1, 7), (1, 54), (1, 17), (1, 71), (1, 91), (1, 98), (1, 64), (1, 12), (1, 82), (1, 93), (1, 11), (1, 60), (1, 91), (1, 97), (1, 53), (1, 24), (1, 7), (1, 51), (1, 95), (1, 14)]\n",
            "[(1, [65, 6, 25, 73, 9, 51, 90, 70, 48, 71, 98, 71, 73, 26, 57, 75, 26, 67, 73, 1, 55, 86, 23, 85, 65, 45, 85, 75, 80, 55, 37, 24, 16, 21, 37, 17, 92, 91, 63, 7, 77, 93, 97, 18, 57, 70, 46, 54, 33, 33, 39, 38, 94, 11, 8, 24, 72, 89, 51, 20, 7, 60, 70, 44, 0, 77, 49, 52, 12, 41, 49, 57, 5, 91, 16, 29, 65, 31, 35, 91, 7, 54, 17, 71, 91, 98, 64, 12, 82, 93, 11, 60, 91, 97, 53, 24, 7, 51, 95, 14])]\n",
            "[51.31]\n"
          ]
        }
      ]
    },
    {
      "cell_type": "markdown",
      "metadata": {
        "id": "xanzszhsIlLe"
      },
      "source": [
        "### GroupByKey на основе сортировки\n",
        "\n",
        "Реализуйте groupByKey на основе сортировки, проверьте его работу на примерах"
      ]
    },
    {
      "cell_type": "code",
      "metadata": {
        "id": "hQPn3USsIkEC",
        "colab": {
          "base_uri": "https://localhost:8080/"
        },
        "outputId": "cbc1f6c3-9d46-48c8-b975-e38931b8756f"
      },
      "source": [
        "def group_by_key(iterable):\n",
        "    sorted_data = sorted(iterable, key=lambda x: x[0])\n",
        "    grouped_data = {}\n",
        "    for key, value in sorted_data:\n",
        "        if key not in grouped_data:\n",
        "            grouped_data[key] = [value]\n",
        "        else:\n",
        "            grouped_data[key].append(value)\n",
        "    result = []\n",
        "    for key, value in grouped_data.items():\n",
        "        result.append((key, value))\n",
        "    return result\n",
        "\n",
        "def MAP(num):\n",
        "    return (1, num)\n",
        "\n",
        "\n",
        "def REDUCE(key, nums: Iterator[NamedTuple]):\n",
        "    sum = 0\n",
        "    count = 0\n",
        "    for n in nums:\n",
        "        sum += n\n",
        "        count += 1\n",
        "    yield sum / count\n",
        "\n",
        "\n",
        "def RECORDREADER(count):\n",
        "    return [random.randint(0, 100) for i in range(count)]\n",
        "\n",
        "map_output = list(map(lambda x: MAP(x), RECORDREADER(100)))\n",
        "print(map_output)\n",
        "\n",
        "shuffle_output = group_by_key(map_output)\n",
        "shuffle_output = list(shuffle_output)\n",
        "\n",
        "print(shuffle_output)\n",
        "\n",
        "reduce_output = list(flatten(map(lambda x: REDUCE(*x), shuffle_output)))\n",
        "print(reduce_output)"
      ],
      "execution_count": null,
      "outputs": [
        {
          "output_type": "stream",
          "name": "stdout",
          "text": [
            "[(1, 31), (1, 47), (1, 41), (1, 35), (1, 93), (1, 2), (1, 60), (1, 7), (1, 14), (1, 39), (1, 44), (1, 83), (1, 97), (1, 97), (1, 81), (1, 54), (1, 80), (1, 5), (1, 3), (1, 61), (1, 91), (1, 47), (1, 77), (1, 84), (1, 18), (1, 65), (1, 1), (1, 90), (1, 98), (1, 41), (1, 30), (1, 56), (1, 8), (1, 24), (1, 70), (1, 13), (1, 95), (1, 4), (1, 79), (1, 67), (1, 70), (1, 78), (1, 3), (1, 5), (1, 4), (1, 56), (1, 42), (1, 96), (1, 4), (1, 88), (1, 95), (1, 23), (1, 13), (1, 6), (1, 39), (1, 48), (1, 9), (1, 42), (1, 18), (1, 66), (1, 21), (1, 22), (1, 77), (1, 11), (1, 55), (1, 68), (1, 80), (1, 94), (1, 15), (1, 69), (1, 49), (1, 64), (1, 74), (1, 91), (1, 77), (1, 49), (1, 48), (1, 35), (1, 71), (1, 83), (1, 72), (1, 96), (1, 73), (1, 67), (1, 90), (1, 96), (1, 55), (1, 52), (1, 47), (1, 39), (1, 54), (1, 12), (1, 14), (1, 45), (1, 14), (1, 94), (1, 79), (1, 52), (1, 33), (1, 11)]\n",
            "[(1, [31, 47, 41, 35, 93, 2, 60, 7, 14, 39, 44, 83, 97, 97, 81, 54, 80, 5, 3, 61, 91, 47, 77, 84, 18, 65, 1, 90, 98, 41, 30, 56, 8, 24, 70, 13, 95, 4, 79, 67, 70, 78, 3, 5, 4, 56, 42, 96, 4, 88, 95, 23, 13, 6, 39, 48, 9, 42, 18, 66, 21, 22, 77, 11, 55, 68, 80, 94, 15, 69, 49, 64, 74, 91, 77, 49, 48, 35, 71, 83, 72, 96, 73, 67, 90, 96, 55, 52, 47, 39, 54, 12, 14, 45, 14, 94, 79, 52, 33, 11])]\n",
            "[50.85]\n"
          ]
        }
      ]
    },
    {
      "cell_type": "markdown",
      "metadata": {
        "id": "5SgEjCZyGnu6"
      },
      "source": [
        "### Drop duplicates (set construction, unique elements, distinct)\n",
        "\n",
        "Реализуйте распределённую операцию исключения дубликатов"
      ]
    },
    {
      "cell_type": "code",
      "metadata": {
        "id": "okjbyApjGhMt",
        "colab": {
          "base_uri": "https://localhost:8080/"
        },
        "outputId": "c6bf50c1-0142-4f88-d95c-3a2605bbedee"
      },
      "source": [
        "def flatten(nested_iterable):\n",
        "  for iterable in nested_iterable:\n",
        "    for element in iterable:\n",
        "      yield element\n",
        "\n",
        "def groupbykey(iterable):\n",
        "  t = {}\n",
        "  for (k2, v2) in iterable:\n",
        "    t[k2] = t.get(k2, []) + [v2]\n",
        "  return t.items()\n",
        "\n",
        "def groupbykey_distributed(map_partitions, PARTITIONER):\n",
        "  global reducers\n",
        "  partitions = [dict() for _ in range(reducers)]\n",
        "  for map_partition in map_partitions:\n",
        "    for (k2, v2) in map_partition:\n",
        "      p = partitions[PARTITIONER(k2)]\n",
        "      p[k2] = p.get(k2, []) + [v2]\n",
        "  return [(partition_id, sorted(partition.items(), key=lambda x: x[0])) for (partition_id, partition) in enumerate(partitions)]\n",
        "\n",
        "def PARTITIONER(obj):\n",
        "  global reducers\n",
        "  return hash(obj) % reducers\n",
        "\n",
        "def MapReduceDistributed(INPUTFORMAT, MAP, REDUCE, PARTITIONER=PARTITIONER, COMBINER=None):\n",
        "  map_partitions = map(lambda record_reader: flatten(map(lambda k1v1: MAP(*k1v1), record_reader)), INPUTFORMAT())\n",
        "  if COMBINER != None:\n",
        "    map_partitions = map(lambda map_partition: flatten(map(lambda k2v2: COMBINER(*k2v2), groupbykey(map_partition))), map_partitions)\n",
        "  reduce_partitions = groupbykey_distributed(map_partitions, PARTITIONER) # shuffle\n",
        "  reduce_outputs = map(lambda reduce_partition: (reduce_partition[0], flatten(map(lambda reduce_input_group: REDUCE(*reduce_input_group), reduce_partition[1]))), reduce_partitions)\n",
        "\n",
        "  print(\"{} key-value pairs were sent over a network.\".format(sum([len(vs) for (k,vs) in flatten([partition for (partition_id, partition) in reduce_partitions])])))\n",
        "  return reduce_outputs\n",
        "\n",
        "\n",
        "# ===================================================================================================================================================================================\n",
        "\n",
        "from typing import Iterator\n",
        "import numpy as np\n",
        "\n",
        "d1 = \"\"\"\n",
        "it is what it is\n",
        "it is what it is\n",
        "it is what it is\"\"\"\n",
        "d2 = \"\"\"\n",
        "what is it\n",
        "what is it\"\"\"\n",
        "d3 = \"\"\"\n",
        "it is a banana\"\"\"\n",
        "documents = [d1, d2, d3, d1, d2, d3]\n",
        "\n",
        "maps = 3\n",
        "reducers = 2\n",
        "\n",
        "def INPUTFORMAT():\n",
        "  global maps\n",
        "\n",
        "  def RECORDREADER(split):\n",
        "    for (docid, document) in enumerate(split):\n",
        "      for (lineid, line) in enumerate(document.split('\\n')):\n",
        "        yield (\"{}:{}\".format(docid,lineid), line)\n",
        "\n",
        "  split_size =  int(np.ceil(len(documents)/maps))\n",
        "  for i in range(0, len(documents), split_size):\n",
        "    yield RECORDREADER(documents[i:i+split_size])\n",
        "\n",
        "def MAP(docId:str, line:str):\n",
        "  for word in line.split(\" \"):\n",
        "    yield (word, word)\n",
        "\n",
        "def REDUCE(key:str, value:Iterator[str]):\n",
        "  yield key\n",
        "\n",
        "# try to set COMBINER=REDUCER and look at the number of values sent over the network\n",
        "partitioned_output = MapReduceDistributed(INPUTFORMAT, MAP, REDUCE, COMBINER=None)\n",
        "partitioned_output = [(partition_id, list(partition)) for (partition_id, partition) in partitioned_output]\n",
        "partitioned_output"
      ],
      "execution_count": 29,
      "outputs": [
        {
          "output_type": "stream",
          "name": "stdout",
          "text": [
            "56 key-value pairs were sent over a network.\n"
          ]
        },
        {
          "output_type": "execute_result",
          "data": {
            "text/plain": [
              "[(0, ['', 'is', 'what']), (1, ['a', 'banana', 'it'])]"
            ]
          },
          "metadata": {},
          "execution_count": 29
        }
      ]
    },
    {
      "cell_type": "markdown",
      "metadata": {
        "id": "e7sRGoTXuJze"
      },
      "source": [
        "#Операторы реляционной алгебры\n",
        "### Selection (Выборка)\n",
        "\n",
        "**The Map Function**: Для  каждого кортежа $t \\in R$ вычисляется истинность предиката $C$. В случае истины создаётся пара ключ-значение $(t, t)$. В паре ключ и значение одинаковы, равны $t$.\n",
        "\n",
        "**The Reduce Function:** Роль функции Reduce выполняет функция идентичности, которая возвращает то же значение, что получила на вход.\n",
        "\n"
      ]
    },
    {
      "cell_type": "code",
      "metadata": {
        "id": "4nKIKe59uIfc",
        "colab": {
          "base_uri": "https://localhost:8080/"
        },
        "outputId": "981ed60e-028a-453e-8498-643cfe288b55"
      },
      "source": [
        "from collections import defaultdict\n",
        "\n",
        "def MAP(el_list):\n",
        "    mapped_result = defaultdict(list)\n",
        "    for t in el_list:\n",
        "        if C(t):  # Предикат C\n",
        "            mapped_result[t].append(t)\n",
        "    return mapped_result.items()\n",
        "\n",
        "\n",
        "def REDUCE(mapped_items):\n",
        "    reduced_result = []\n",
        "    print(mapped_items)\n",
        "    for values in mapped_items:\n",
        "        for value in values:\n",
        "            reduced_result.append(value[0])\n",
        "    return reduced_result\n",
        "\n",
        "def C(t):\n",
        "    return t[0] % 2 == 0  # Выбираем только кортежи с четным первым элементом\n",
        "\n",
        "\n",
        "def RECORDREADER(count):\n",
        "    return [(random.randint(0, 100), random.randint(0, 100), random.randint(0, 100)) for i in range(count)]\n",
        "\n",
        "record = RECORDREADER(100)\n",
        "print(record)\n",
        "\n",
        "part_count = 5\n",
        "record_partitional = [record[d:d + part_count] for d in range(0, len(record), part_count)]\n",
        "print(record_partitional)\n",
        "\n",
        "print(REDUCE(list(map(lambda x: MAP(x), record_partitional))))"
      ],
      "execution_count": 50,
      "outputs": [
        {
          "output_type": "stream",
          "name": "stdout",
          "text": [
            "[(80, 25, 24), (97, 29, 22), (70, 24, 10), (1, 34, 66), (74, 32, 97), (61, 23, 95), (44, 100, 90), (19, 18, 11), (41, 51, 76), (8, 22, 31), (55, 23, 8), (2, 99, 13), (31, 21, 13), (91, 65, 44), (93, 73, 86), (24, 43, 88), (86, 45, 18), (75, 65, 14), (0, 66, 89), (26, 46, 94), (85, 83, 62), (93, 90, 72), (45, 45, 95), (71, 98, 93), (7, 10, 52), (99, 30, 97), (40, 30, 45), (80, 100, 38), (100, 91, 27), (3, 67, 20), (50, 4, 44), (84, 100, 88), (33, 97, 50), (100, 100, 87), (36, 41, 60), (94, 75, 6), (79, 73, 35), (63, 78, 79), (41, 83, 84), (71, 73, 37), (72, 62, 99), (33, 62, 57), (66, 3, 67), (32, 59, 9), (94, 42, 71), (95, 24, 17), (19, 16, 28), (85, 96, 14), (8, 38, 42), (86, 45, 57), (88, 39, 47), (3, 21, 70), (0, 73, 66), (52, 61, 81), (91, 89, 30), (26, 36, 49), (54, 98, 87), (3, 61, 14), (80, 100, 30), (93, 1, 50), (48, 11, 13), (3, 46, 10), (32, 90, 49), (65, 9, 69), (64, 95, 57), (99, 33, 68), (66, 75, 56), (15, 77, 79), (92, 82, 90), (49, 1, 25), (33, 9, 45), (14, 40, 61), (38, 4, 64), (73, 3, 65), (54, 99, 24), (55, 47, 47), (83, 39, 19), (59, 22, 66), (77, 52, 28), (54, 33, 97), (10, 70, 32), (81, 86, 7), (30, 75, 41), (71, 63, 72), (43, 91, 1), (50, 91, 44), (96, 18, 39), (45, 31, 10), (11, 20, 81), (38, 64, 22), (79, 47, 73), (83, 67, 14), (45, 61, 75), (23, 26, 3), (49, 84, 57), (24, 24, 46), (63, 89, 11), (88, 67, 12), (97, 28, 3), (25, 49, 35)]\n",
            "[[(80, 25, 24), (97, 29, 22), (70, 24, 10), (1, 34, 66), (74, 32, 97)], [(61, 23, 95), (44, 100, 90), (19, 18, 11), (41, 51, 76), (8, 22, 31)], [(55, 23, 8), (2, 99, 13), (31, 21, 13), (91, 65, 44), (93, 73, 86)], [(24, 43, 88), (86, 45, 18), (75, 65, 14), (0, 66, 89), (26, 46, 94)], [(85, 83, 62), (93, 90, 72), (45, 45, 95), (71, 98, 93), (7, 10, 52)], [(99, 30, 97), (40, 30, 45), (80, 100, 38), (100, 91, 27), (3, 67, 20)], [(50, 4, 44), (84, 100, 88), (33, 97, 50), (100, 100, 87), (36, 41, 60)], [(94, 75, 6), (79, 73, 35), (63, 78, 79), (41, 83, 84), (71, 73, 37)], [(72, 62, 99), (33, 62, 57), (66, 3, 67), (32, 59, 9), (94, 42, 71)], [(95, 24, 17), (19, 16, 28), (85, 96, 14), (8, 38, 42), (86, 45, 57)], [(88, 39, 47), (3, 21, 70), (0, 73, 66), (52, 61, 81), (91, 89, 30)], [(26, 36, 49), (54, 98, 87), (3, 61, 14), (80, 100, 30), (93, 1, 50)], [(48, 11, 13), (3, 46, 10), (32, 90, 49), (65, 9, 69), (64, 95, 57)], [(99, 33, 68), (66, 75, 56), (15, 77, 79), (92, 82, 90), (49, 1, 25)], [(33, 9, 45), (14, 40, 61), (38, 4, 64), (73, 3, 65), (54, 99, 24)], [(55, 47, 47), (83, 39, 19), (59, 22, 66), (77, 52, 28), (54, 33, 97)], [(10, 70, 32), (81, 86, 7), (30, 75, 41), (71, 63, 72), (43, 91, 1)], [(50, 91, 44), (96, 18, 39), (45, 31, 10), (11, 20, 81), (38, 64, 22)], [(79, 47, 73), (83, 67, 14), (45, 61, 75), (23, 26, 3), (49, 84, 57)], [(24, 24, 46), (63, 89, 11), (88, 67, 12), (97, 28, 3), (25, 49, 35)]]\n",
            "[dict_items([((80, 25, 24), [(80, 25, 24)]), ((70, 24, 10), [(70, 24, 10)]), ((74, 32, 97), [(74, 32, 97)])]), dict_items([((44, 100, 90), [(44, 100, 90)]), ((8, 22, 31), [(8, 22, 31)])]), dict_items([((2, 99, 13), [(2, 99, 13)])]), dict_items([((24, 43, 88), [(24, 43, 88)]), ((86, 45, 18), [(86, 45, 18)]), ((0, 66, 89), [(0, 66, 89)]), ((26, 46, 94), [(26, 46, 94)])]), dict_items([]), dict_items([((40, 30, 45), [(40, 30, 45)]), ((80, 100, 38), [(80, 100, 38)]), ((100, 91, 27), [(100, 91, 27)])]), dict_items([((50, 4, 44), [(50, 4, 44)]), ((84, 100, 88), [(84, 100, 88)]), ((100, 100, 87), [(100, 100, 87)]), ((36, 41, 60), [(36, 41, 60)])]), dict_items([((94, 75, 6), [(94, 75, 6)])]), dict_items([((72, 62, 99), [(72, 62, 99)]), ((66, 3, 67), [(66, 3, 67)]), ((32, 59, 9), [(32, 59, 9)]), ((94, 42, 71), [(94, 42, 71)])]), dict_items([((8, 38, 42), [(8, 38, 42)]), ((86, 45, 57), [(86, 45, 57)])]), dict_items([((88, 39, 47), [(88, 39, 47)]), ((0, 73, 66), [(0, 73, 66)]), ((52, 61, 81), [(52, 61, 81)])]), dict_items([((26, 36, 49), [(26, 36, 49)]), ((54, 98, 87), [(54, 98, 87)]), ((80, 100, 30), [(80, 100, 30)])]), dict_items([((48, 11, 13), [(48, 11, 13)]), ((32, 90, 49), [(32, 90, 49)]), ((64, 95, 57), [(64, 95, 57)])]), dict_items([((66, 75, 56), [(66, 75, 56)]), ((92, 82, 90), [(92, 82, 90)])]), dict_items([((14, 40, 61), [(14, 40, 61)]), ((38, 4, 64), [(38, 4, 64)]), ((54, 99, 24), [(54, 99, 24)])]), dict_items([((54, 33, 97), [(54, 33, 97)])]), dict_items([((10, 70, 32), [(10, 70, 32)]), ((30, 75, 41), [(30, 75, 41)])]), dict_items([((50, 91, 44), [(50, 91, 44)]), ((96, 18, 39), [(96, 18, 39)]), ((38, 64, 22), [(38, 64, 22)])]), dict_items([]), dict_items([((24, 24, 46), [(24, 24, 46)]), ((88, 67, 12), [(88, 67, 12)])])]\n",
            "[(80, 25, 24), (70, 24, 10), (74, 32, 97), (44, 100, 90), (8, 22, 31), (2, 99, 13), (24, 43, 88), (86, 45, 18), (0, 66, 89), (26, 46, 94), (40, 30, 45), (80, 100, 38), (100, 91, 27), (50, 4, 44), (84, 100, 88), (100, 100, 87), (36, 41, 60), (94, 75, 6), (72, 62, 99), (66, 3, 67), (32, 59, 9), (94, 42, 71), (8, 38, 42), (86, 45, 57), (88, 39, 47), (0, 73, 66), (52, 61, 81), (26, 36, 49), (54, 98, 87), (80, 100, 30), (48, 11, 13), (32, 90, 49), (64, 95, 57), (66, 75, 56), (92, 82, 90), (14, 40, 61), (38, 4, 64), (54, 99, 24), (54, 33, 97), (10, 70, 32), (30, 75, 41), (50, 91, 44), (96, 18, 39), (38, 64, 22), (24, 24, 46), (88, 67, 12)]\n"
          ]
        }
      ]
    },
    {
      "cell_type": "markdown",
      "metadata": {
        "id": "w27Ca-_Ku85V"
      },
      "source": [
        "### Projection (Проекция)\n",
        "\n",
        "Проекция на множество атрибутов $S$.\n",
        "\n",
        "**The Map Function:** Для каждого кортежа $t \\in R$ создайте кортеж $t′$, исключая  из $t$ те значения, атрибуты которых не принадлежат  $S$. Верните пару $(t′, t′)$.\n",
        "\n",
        "**The Reduce Function:** Для каждого ключа $t′$, созданного любой Map задачей, вы получаете одну или несколько пар $(t′, t′)$. Reduce функция преобразует $(t′, [t′, t′, . . . , t′])$ в $(t′, t′)$, так, что для ключа $t′$ возвращается одна пара  $(t′, t′)$."
      ]
    },
    {
      "cell_type": "code",
      "metadata": {
        "id": "BEvuY4GqvhS6",
        "colab": {
          "base_uri": "https://localhost:8080/"
        },
        "outputId": "f0f78415-f28a-4127-80c1-eff71647e430"
      },
      "source": [
        "S = set([1 ,12, 56])\n",
        "\n",
        "def MAP(t):\n",
        "  res_list = []\n",
        "  for el in t:\n",
        "    if el in S:\n",
        "      res_list.append(el)\n",
        "    res = tuple(res_list)\n",
        "    return (res, res)\n",
        "\n",
        "\n",
        "def REDUCE(key, values: Iterator[NamedTuple]):\n",
        "    return (key, key)\n",
        "\n",
        "def RECORDREADER(count):\n",
        "    return [(random.randint(0, 100), random.randint(0, 100), random.randint(0, 100)) for i in range(count)]\n",
        "\n",
        "def group_by_key(iterable):\n",
        "  t = {}\n",
        "  for (k2, v2) in iterable:\n",
        "    t[k2] = t.get(k2, []) + [v2]\n",
        "  return t.items()\n",
        "\n",
        "record = RECORDREADER(100)\n",
        "print(record)\n",
        "map_output = list(map(lambda x: MAP(x), RECORDREADER(100)))\n",
        "print(map_output)\n",
        "\n",
        "shuffle_output = group_by_key(map_output)\n",
        "shuffle_output = list(shuffle_output)\n",
        "\n",
        "print(shuffle_output)\n",
        "\n",
        "reduce_output = list(map(lambda x: REDUCE(*x)[0], shuffle_output))\n",
        "print(reduce_output)"
      ],
      "execution_count": 80,
      "outputs": [
        {
          "output_type": "stream",
          "name": "stdout",
          "text": [
            "[(18, 88, 100), (61, 24, 65), (8, 56, 80), (18, 27, 35), (54, 90, 74), (60, 42, 72), (76, 25, 34), (4, 17, 84), (71, 7, 16), (99, 33, 70), (35, 31, 95), (29, 46, 39), (92, 24, 87), (26, 58, 13), (88, 40, 41), (49, 58, 45), (59, 7, 12), (27, 33, 24), (64, 85, 86), (56, 96, 47), (52, 74, 22), (81, 96, 82), (23, 46, 20), (85, 90, 51), (27, 82, 67), (15, 35, 20), (15, 87, 53), (39, 5, 41), (55, 4, 22), (73, 95, 61), (15, 70, 99), (90, 49, 70), (75, 90, 83), (50, 95, 98), (87, 3, 31), (59, 71, 34), (23, 19, 6), (75, 53, 100), (28, 47, 35), (7, 41, 89), (56, 30, 63), (94, 84, 37), (8, 17, 98), (99, 41, 1), (56, 85, 41), (92, 86, 21), (33, 88, 2), (31, 60, 70), (39, 63, 33), (20, 57, 9), (60, 26, 23), (44, 66, 20), (99, 99, 60), (67, 42, 76), (24, 49, 33), (30, 100, 98), (100, 77, 82), (35, 70, 49), (7, 27, 13), (55, 13, 10), (39, 8, 64), (75, 7, 64), (40, 67, 27), (46, 64, 65), (65, 57, 60), (90, 17, 30), (14, 98, 14), (46, 73, 54), (0, 85, 50), (83, 70, 85), (85, 77, 45), (21, 80, 44), (91, 99, 27), (98, 6, 56), (43, 81, 0), (85, 21, 32), (6, 51, 4), (92, 81, 73), (3, 27, 68), (3, 47, 50), (8, 4, 26), (31, 19, 46), (52, 84, 89), (94, 29, 89), (69, 2, 86), (13, 54, 46), (9, 31, 90), (77, 28, 46), (36, 91, 12), (93, 74, 98), (61, 88, 48), (71, 49, 19), (89, 39, 3), (56, 89, 53), (13, 92, 98), (53, 83, 56), (76, 48, 12), (73, 21, 85), (83, 40, 90), (31, 52, 88)]\n",
            "[((), ()), ((), ()), ((), ()), ((), ()), ((), ()), ((), ()), ((), ()), ((), ()), ((), ()), ((), ()), ((), ()), ((56,), (56,)), ((), ()), ((), ()), ((), ()), ((), ()), ((), ()), ((), ()), ((), ()), ((), ()), ((), ()), ((), ()), ((), ()), ((), ()), ((), ()), ((), ()), ((), ()), ((), ()), ((), ()), ((), ()), ((), ()), ((), ()), ((), ()), ((), ()), ((), ()), ((), ()), ((), ()), ((), ()), ((), ()), ((), ()), ((), ()), ((), ()), ((), ()), ((), ()), ((), ()), ((), ()), ((), ()), ((), ()), ((), ()), ((), ()), ((), ()), ((), ()), ((), ()), ((), ()), ((), ()), ((), ()), ((), ()), ((), ()), ((), ()), ((), ()), ((), ()), ((), ()), ((), ()), ((), ()), ((), ()), ((), ()), ((), ()), ((), ()), ((), ()), ((), ()), ((), ()), ((), ()), ((), ()), ((), ()), ((), ()), ((), ()), ((), ()), ((), ()), ((), ()), ((), ()), ((), ()), ((), ()), ((), ()), ((), ()), ((), ()), ((), ()), ((), ()), ((), ()), ((), ()), ((), ()), ((), ()), ((), ()), ((), ()), ((), ()), ((), ()), ((), ()), ((), ()), ((), ()), ((), ()), ((), ())]\n",
            "[((), [(), (), (), (), (), (), (), (), (), (), (), (), (), (), (), (), (), (), (), (), (), (), (), (), (), (), (), (), (), (), (), (), (), (), (), (), (), (), (), (), (), (), (), (), (), (), (), (), (), (), (), (), (), (), (), (), (), (), (), (), (), (), (), (), (), (), (), (), (), (), (), (), (), (), (), (), (), (), (), (), (), (), (), (), (), (), (), (), (), (), (), (), (), (), (), (), (), (), ()]), ((56,), [(56,)])]\n",
            "[(), (56,)]\n"
          ]
        }
      ]
    },
    {
      "cell_type": "markdown",
      "metadata": {
        "id": "7gau6lKXvn2R"
      },
      "source": [
        "### Union (Объединение)\n",
        "\n",
        "**The Map Function:** Превратите каждый входной кортеж $t$ в пару ключ-значение $(t, t)$.\n",
        "\n",
        "**The Reduce Function:** С каждым ключом $t$ будет ассоциировано одно или два значений. В обоих случаях создайте $(t, t)$ в качестве выходного значения."
      ]
    },
    {
      "cell_type": "code",
      "metadata": {
        "id": "Sns7a5agv3nw",
        "colab": {
          "base_uri": "https://localhost:8080/"
        },
        "outputId": "713e3347-7ade-4c0a-e45b-d3cbf8996e4f"
      },
      "source": [
        "def MAP(t):\n",
        "  return (t, t)\n",
        "\n",
        "\n",
        "def REDUCE(key, values: Iterator[NamedTuple]):\n",
        "    return (key, key)\n",
        "\n",
        "def RECORDREADER(count):\n",
        "    return [(random.randint(0, 100), random.randint(0, 100), random.randint(0, 100)) for i in range(count)]\n",
        "\n",
        "def group_by_key(iterable):\n",
        "  t = {}\n",
        "  for (k2, v2) in iterable:\n",
        "    t[k2] = t.get(k2, []) + [v2]\n",
        "  return t.items()\n",
        "\n",
        "record = RECORDREADER(100)\n",
        "print(record)\n",
        "map_output = list(map(lambda x: MAP(x), RECORDREADER(100)))\n",
        "print(map_output)\n",
        "\n",
        "shuffle_output = group_by_key(map_output)\n",
        "shuffle_output = list(shuffle_output)\n",
        "\n",
        "print(shuffle_output)\n",
        "\n",
        "reduce_output = list(map(lambda x: REDUCE(*x)[0], shuffle_output))\n",
        "print(reduce_output)"
      ],
      "execution_count": 86,
      "outputs": [
        {
          "output_type": "stream",
          "name": "stdout",
          "text": [
            "[(9, 54, 14), (89, 58, 97), (97, 58, 30), (98, 53, 8), (16, 52, 50), (98, 77, 50), (50, 0, 18), (23, 40, 96), (24, 81, 52), (28, 50, 30), (93, 24, 98), (84, 27, 9), (26, 18, 72), (39, 77, 11), (87, 29, 67), (25, 87, 31), (85, 42, 28), (78, 27, 23), (76, 51, 76), (55, 51, 72), (60, 91, 24), (96, 24, 27), (16, 1, 12), (5, 38, 33), (10, 1, 11), (59, 37, 45), (82, 45, 65), (73, 6, 47), (59, 79, 74), (25, 73, 93), (3, 11, 36), (61, 51, 48), (7, 53, 54), (77, 98, 24), (100, 19, 50), (28, 24, 41), (60, 52, 39), (52, 79, 13), (42, 86, 44), (97, 84, 52), (74, 39, 85), (94, 12, 71), (80, 21, 43), (17, 77, 30), (58, 38, 77), (54, 80, 59), (46, 82, 6), (21, 37, 20), (95, 24, 24), (61, 46, 5), (82, 83, 20), (83, 23, 94), (77, 95, 86), (20, 71, 17), (31, 43, 37), (8, 18, 5), (45, 78, 1), (23, 38, 36), (27, 10, 10), (8, 70, 97), (12, 27, 76), (54, 1, 79), (67, 34, 45), (40, 67, 83), (40, 82, 26), (8, 71, 8), (92, 28, 98), (1, 77, 21), (23, 70, 94), (67, 9, 41), (48, 36, 8), (93, 35, 57), (18, 26, 59), (30, 3, 31), (97, 0, 96), (79, 10, 39), (0, 27, 28), (45, 6, 9), (21, 51, 83), (56, 78, 57), (81, 4, 13), (41, 45, 71), (43, 99, 95), (78, 12, 81), (5, 30, 64), (63, 56, 100), (99, 36, 19), (58, 77, 7), (13, 75, 48), (91, 24, 5), (59, 87, 32), (78, 46, 86), (44, 51, 84), (15, 76, 89), (77, 16, 42), (19, 0, 48), (62, 82, 74), (48, 54, 97), (95, 23, 1), (76, 99, 38)]\n",
            "[((88, 30, 14), (88, 30, 14)), ((17, 90, 77), (17, 90, 77)), ((93, 55, 6), (93, 55, 6)), ((92, 73, 11), (92, 73, 11)), ((45, 82, 14), (45, 82, 14)), ((59, 46, 74), (59, 46, 74)), ((89, 36, 2), (89, 36, 2)), ((29, 48, 81), (29, 48, 81)), ((86, 54, 47), (86, 54, 47)), ((15, 98, 0), (15, 98, 0)), ((8, 74, 29), (8, 74, 29)), ((65, 49, 23), (65, 49, 23)), ((94, 83, 89), (94, 83, 89)), ((76, 7, 71), (76, 7, 71)), ((0, 50, 42), (0, 50, 42)), ((54, 84, 46), (54, 84, 46)), ((25, 17, 48), (25, 17, 48)), ((40, 36, 55), (40, 36, 55)), ((77, 6, 7), (77, 6, 7)), ((73, 30, 83), (73, 30, 83)), ((19, 66, 88), (19, 66, 88)), ((83, 27, 63), (83, 27, 63)), ((21, 24, 64), (21, 24, 64)), ((2, 97, 49), (2, 97, 49)), ((33, 12, 95), (33, 12, 95)), ((43, 6, 61), (43, 6, 61)), ((42, 58, 67), (42, 58, 67)), ((52, 39, 40), (52, 39, 40)), ((42, 61, 74), (42, 61, 74)), ((15, 60, 63), (15, 60, 63)), ((96, 0, 33), (96, 0, 33)), ((58, 59, 40), (58, 59, 40)), ((82, 47, 30), (82, 47, 30)), ((63, 61, 25), (63, 61, 25)), ((16, 43, 31), (16, 43, 31)), ((90, 23, 95), (90, 23, 95)), ((29, 40, 57), (29, 40, 57)), ((75, 73, 46), (75, 73, 46)), ((31, 70, 69), (31, 70, 69)), ((43, 28, 20), (43, 28, 20)), ((99, 1, 54), (99, 1, 54)), ((56, 27, 16), (56, 27, 16)), ((18, 99, 9), (18, 99, 9)), ((11, 81, 31), (11, 81, 31)), ((79, 74, 100), (79, 74, 100)), ((59, 79, 83), (59, 79, 83)), ((52, 59, 3), (52, 59, 3)), ((24, 26, 73), (24, 26, 73)), ((36, 29, 73), (36, 29, 73)), ((32, 74, 20), (32, 74, 20)), ((66, 13, 81), (66, 13, 81)), ((89, 86, 83), (89, 86, 83)), ((46, 87, 30), (46, 87, 30)), ((9, 15, 3), (9, 15, 3)), ((43, 85, 99), (43, 85, 99)), ((85, 71, 56), (85, 71, 56)), ((25, 65, 40), (25, 65, 40)), ((98, 40, 59), (98, 40, 59)), ((85, 31, 88), (85, 31, 88)), ((83, 63, 26), (83, 63, 26)), ((5, 87, 23), (5, 87, 23)), ((51, 66, 66), (51, 66, 66)), ((48, 48, 89), (48, 48, 89)), ((0, 46, 96), (0, 46, 96)), ((94, 12, 58), (94, 12, 58)), ((54, 26, 24), (54, 26, 24)), ((71, 19, 84), (71, 19, 84)), ((1, 22, 27), (1, 22, 27)), ((77, 69, 0), (77, 69, 0)), ((87, 83, 70), (87, 83, 70)), ((78, 12, 75), (78, 12, 75)), ((25, 72, 45), (25, 72, 45)), ((68, 63, 60), (68, 63, 60)), ((83, 24, 8), (83, 24, 8)), ((94, 99, 94), (94, 99, 94)), ((93, 2, 26), (93, 2, 26)), ((54, 15, 93), (54, 15, 93)), ((34, 22, 69), (34, 22, 69)), ((8, 1, 80), (8, 1, 80)), ((61, 12, 53), (61, 12, 53)), ((92, 5, 9), (92, 5, 9)), ((67, 60, 40), (67, 60, 40)), ((6, 49, 73), (6, 49, 73)), ((64, 79, 0), (64, 79, 0)), ((36, 17, 25), (36, 17, 25)), ((53, 3, 78), (53, 3, 78)), ((57, 35, 97), (57, 35, 97)), ((13, 38, 97), (13, 38, 97)), ((90, 62, 96), (90, 62, 96)), ((54, 99, 14), (54, 99, 14)), ((52, 51, 33), (52, 51, 33)), ((89, 91, 96), (89, 91, 96)), ((24, 16, 61), (24, 16, 61)), ((3, 55, 29), (3, 55, 29)), ((91, 68, 25), (91, 68, 25)), ((74, 38, 82), (74, 38, 82)), ((48, 21, 40), (48, 21, 40)), ((34, 75, 95), (34, 75, 95)), ((0, 31, 19), (0, 31, 19)), ((89, 34, 52), (89, 34, 52))]\n",
            "[((88, 30, 14), [(88, 30, 14)]), ((17, 90, 77), [(17, 90, 77)]), ((93, 55, 6), [(93, 55, 6)]), ((92, 73, 11), [(92, 73, 11)]), ((45, 82, 14), [(45, 82, 14)]), ((59, 46, 74), [(59, 46, 74)]), ((89, 36, 2), [(89, 36, 2)]), ((29, 48, 81), [(29, 48, 81)]), ((86, 54, 47), [(86, 54, 47)]), ((15, 98, 0), [(15, 98, 0)]), ((8, 74, 29), [(8, 74, 29)]), ((65, 49, 23), [(65, 49, 23)]), ((94, 83, 89), [(94, 83, 89)]), ((76, 7, 71), [(76, 7, 71)]), ((0, 50, 42), [(0, 50, 42)]), ((54, 84, 46), [(54, 84, 46)]), ((25, 17, 48), [(25, 17, 48)]), ((40, 36, 55), [(40, 36, 55)]), ((77, 6, 7), [(77, 6, 7)]), ((73, 30, 83), [(73, 30, 83)]), ((19, 66, 88), [(19, 66, 88)]), ((83, 27, 63), [(83, 27, 63)]), ((21, 24, 64), [(21, 24, 64)]), ((2, 97, 49), [(2, 97, 49)]), ((33, 12, 95), [(33, 12, 95)]), ((43, 6, 61), [(43, 6, 61)]), ((42, 58, 67), [(42, 58, 67)]), ((52, 39, 40), [(52, 39, 40)]), ((42, 61, 74), [(42, 61, 74)]), ((15, 60, 63), [(15, 60, 63)]), ((96, 0, 33), [(96, 0, 33)]), ((58, 59, 40), [(58, 59, 40)]), ((82, 47, 30), [(82, 47, 30)]), ((63, 61, 25), [(63, 61, 25)]), ((16, 43, 31), [(16, 43, 31)]), ((90, 23, 95), [(90, 23, 95)]), ((29, 40, 57), [(29, 40, 57)]), ((75, 73, 46), [(75, 73, 46)]), ((31, 70, 69), [(31, 70, 69)]), ((43, 28, 20), [(43, 28, 20)]), ((99, 1, 54), [(99, 1, 54)]), ((56, 27, 16), [(56, 27, 16)]), ((18, 99, 9), [(18, 99, 9)]), ((11, 81, 31), [(11, 81, 31)]), ((79, 74, 100), [(79, 74, 100)]), ((59, 79, 83), [(59, 79, 83)]), ((52, 59, 3), [(52, 59, 3)]), ((24, 26, 73), [(24, 26, 73)]), ((36, 29, 73), [(36, 29, 73)]), ((32, 74, 20), [(32, 74, 20)]), ((66, 13, 81), [(66, 13, 81)]), ((89, 86, 83), [(89, 86, 83)]), ((46, 87, 30), [(46, 87, 30)]), ((9, 15, 3), [(9, 15, 3)]), ((43, 85, 99), [(43, 85, 99)]), ((85, 71, 56), [(85, 71, 56)]), ((25, 65, 40), [(25, 65, 40)]), ((98, 40, 59), [(98, 40, 59)]), ((85, 31, 88), [(85, 31, 88)]), ((83, 63, 26), [(83, 63, 26)]), ((5, 87, 23), [(5, 87, 23)]), ((51, 66, 66), [(51, 66, 66)]), ((48, 48, 89), [(48, 48, 89)]), ((0, 46, 96), [(0, 46, 96)]), ((94, 12, 58), [(94, 12, 58)]), ((54, 26, 24), [(54, 26, 24)]), ((71, 19, 84), [(71, 19, 84)]), ((1, 22, 27), [(1, 22, 27)]), ((77, 69, 0), [(77, 69, 0)]), ((87, 83, 70), [(87, 83, 70)]), ((78, 12, 75), [(78, 12, 75)]), ((25, 72, 45), [(25, 72, 45)]), ((68, 63, 60), [(68, 63, 60)]), ((83, 24, 8), [(83, 24, 8)]), ((94, 99, 94), [(94, 99, 94)]), ((93, 2, 26), [(93, 2, 26)]), ((54, 15, 93), [(54, 15, 93)]), ((34, 22, 69), [(34, 22, 69)]), ((8, 1, 80), [(8, 1, 80)]), ((61, 12, 53), [(61, 12, 53)]), ((92, 5, 9), [(92, 5, 9)]), ((67, 60, 40), [(67, 60, 40)]), ((6, 49, 73), [(6, 49, 73)]), ((64, 79, 0), [(64, 79, 0)]), ((36, 17, 25), [(36, 17, 25)]), ((53, 3, 78), [(53, 3, 78)]), ((57, 35, 97), [(57, 35, 97)]), ((13, 38, 97), [(13, 38, 97)]), ((90, 62, 96), [(90, 62, 96)]), ((54, 99, 14), [(54, 99, 14)]), ((52, 51, 33), [(52, 51, 33)]), ((89, 91, 96), [(89, 91, 96)]), ((24, 16, 61), [(24, 16, 61)]), ((3, 55, 29), [(3, 55, 29)]), ((91, 68, 25), [(91, 68, 25)]), ((74, 38, 82), [(74, 38, 82)]), ((48, 21, 40), [(48, 21, 40)]), ((34, 75, 95), [(34, 75, 95)]), ((0, 31, 19), [(0, 31, 19)]), ((89, 34, 52), [(89, 34, 52)])]\n",
            "[(88, 30, 14), (17, 90, 77), (93, 55, 6), (92, 73, 11), (45, 82, 14), (59, 46, 74), (89, 36, 2), (29, 48, 81), (86, 54, 47), (15, 98, 0), (8, 74, 29), (65, 49, 23), (94, 83, 89), (76, 7, 71), (0, 50, 42), (54, 84, 46), (25, 17, 48), (40, 36, 55), (77, 6, 7), (73, 30, 83), (19, 66, 88), (83, 27, 63), (21, 24, 64), (2, 97, 49), (33, 12, 95), (43, 6, 61), (42, 58, 67), (52, 39, 40), (42, 61, 74), (15, 60, 63), (96, 0, 33), (58, 59, 40), (82, 47, 30), (63, 61, 25), (16, 43, 31), (90, 23, 95), (29, 40, 57), (75, 73, 46), (31, 70, 69), (43, 28, 20), (99, 1, 54), (56, 27, 16), (18, 99, 9), (11, 81, 31), (79, 74, 100), (59, 79, 83), (52, 59, 3), (24, 26, 73), (36, 29, 73), (32, 74, 20), (66, 13, 81), (89, 86, 83), (46, 87, 30), (9, 15, 3), (43, 85, 99), (85, 71, 56), (25, 65, 40), (98, 40, 59), (85, 31, 88), (83, 63, 26), (5, 87, 23), (51, 66, 66), (48, 48, 89), (0, 46, 96), (94, 12, 58), (54, 26, 24), (71, 19, 84), (1, 22, 27), (77, 69, 0), (87, 83, 70), (78, 12, 75), (25, 72, 45), (68, 63, 60), (83, 24, 8), (94, 99, 94), (93, 2, 26), (54, 15, 93), (34, 22, 69), (8, 1, 80), (61, 12, 53), (92, 5, 9), (67, 60, 40), (6, 49, 73), (64, 79, 0), (36, 17, 25), (53, 3, 78), (57, 35, 97), (13, 38, 97), (90, 62, 96), (54, 99, 14), (52, 51, 33), (89, 91, 96), (24, 16, 61), (3, 55, 29), (91, 68, 25), (74, 38, 82), (48, 21, 40), (34, 75, 95), (0, 31, 19), (89, 34, 52)]\n"
          ]
        }
      ]
    },
    {
      "cell_type": "markdown",
      "metadata": {
        "id": "dQ8TuEbjv4J8"
      },
      "source": [
        "### Intersection (Пересечение)\n",
        "\n",
        "**The Map Function:** Превратите каждый кортеж $t$ в пары ключ-значение $(t, t)$.\n",
        "\n",
        "**The Reduce Function:** Если для ключа $t$ есть список из двух элементов $[t, t]$ $-$ создайте пару $(t, t)$. Иначе, ничего не создавайте."
      ]
    },
    {
      "cell_type": "code",
      "metadata": {
        "id": "XKlBZh4IwERR",
        "colab": {
          "base_uri": "https://localhost:8080/"
        },
        "outputId": "94358799-b501-47e1-f257-af5b97e3adb5"
      },
      "source": [
        "def MAP(t):\n",
        "  return (t, t)\n",
        "\n",
        "\n",
        "def REDUCE(key, values: Iterator[NamedTuple]):\n",
        "  if len(values) == 2:\n",
        "    return (key, key)\n",
        "\n",
        "def RECORDREADER(count):\n",
        "    return [(random.randint(0, 3), random.randint(0, 3)) for i in range(count)]\n",
        "\n",
        "def group_by_key(iterable):\n",
        "  t = {}\n",
        "  for (k2, v2) in iterable:\n",
        "    t[k2] = t.get(k2, []) + [v2]\n",
        "  return t.items()\n",
        "\n",
        "record = RECORDREADER(100)\n",
        "print(record)\n",
        "map_output = list(map(lambda x: MAP(x), RECORDREADER(100)))\n",
        "print(map_output)\n",
        "\n",
        "shuffle_output = group_by_key(map_output)\n",
        "shuffle_output = list(shuffle_output)\n",
        "\n",
        "print(shuffle_output)\n",
        "\n",
        "reduce_output = [el[0] for el in list(map(lambda x: REDUCE(*x), shuffle_output)) if el is not None]\n",
        "print(reduce_output)"
      ],
      "execution_count": 120,
      "outputs": [
        {
          "output_type": "stream",
          "name": "stdout",
          "text": [
            "[(0, 2), (0, 3), (1, 2), (2, 1), (2, 0), (1, 2), (1, 3), (3, 2), (2, 1), (0, 1), (0, 2), (3, 2), (0, 1), (1, 3), (2, 1), (2, 2), (1, 1), (2, 0), (2, 3), (2, 1), (2, 1), (1, 2), (1, 3), (1, 0), (1, 1), (3, 0), (0, 2), (3, 0), (3, 0), (1, 0), (2, 0), (3, 2), (2, 3), (3, 1), (3, 3), (3, 2), (3, 0), (2, 0), (3, 2), (2, 3), (3, 1), (1, 2), (1, 3), (2, 0), (2, 1), (0, 1), (0, 3), (3, 1), (1, 0), (3, 2), (1, 3), (3, 3), (2, 0), (0, 0), (3, 2), (3, 2), (2, 0), (3, 2), (2, 0), (3, 0), (3, 2), (3, 3), (3, 2), (3, 1), (2, 1), (0, 2), (0, 2), (3, 1), (0, 1), (2, 2), (3, 1), (2, 0), (3, 3), (2, 2), (1, 3), (3, 3), (3, 2), (3, 0), (2, 0), (0, 2), (3, 2), (0, 0), (1, 1), (0, 3), (3, 3), (1, 2), (0, 2), (2, 2), (3, 1), (2, 1), (0, 0), (0, 1), (0, 3), (0, 3), (0, 0), (1, 1), (0, 3), (3, 0), (2, 2), (0, 1)]\n",
            "[((2, 2), (2, 2)), ((1, 1), (1, 1)), ((0, 0), (0, 0)), ((3, 3), (3, 3)), ((1, 0), (1, 0)), ((1, 0), (1, 0)), ((3, 3), (3, 3)), ((0, 3), (0, 3)), ((3, 2), (3, 2)), ((1, 3), (1, 3)), ((3, 3), (3, 3)), ((3, 2), (3, 2)), ((2, 2), (2, 2)), ((0, 0), (0, 0)), ((2, 0), (2, 0)), ((3, 1), (3, 1)), ((0, 2), (0, 2)), ((2, 0), (2, 0)), ((2, 2), (2, 2)), ((1, 2), (1, 2)), ((1, 2), (1, 2)), ((3, 2), (3, 2)), ((0, 3), (0, 3)), ((1, 3), (1, 3)), ((1, 1), (1, 1)), ((1, 2), (1, 2)), ((3, 1), (3, 1)), ((2, 3), (2, 3)), ((3, 2), (3, 2)), ((0, 0), (0, 0)), ((2, 0), (2, 0)), ((2, 0), (2, 0)), ((0, 2), (0, 2)), ((2, 1), (2, 1)), ((0, 0), (0, 0)), ((0, 0), (0, 0)), ((0, 1), (0, 1)), ((2, 3), (2, 3)), ((0, 2), (0, 2)), ((1, 0), (1, 0)), ((2, 2), (2, 2)), ((2, 3), (2, 3)), ((3, 3), (3, 3)), ((1, 0), (1, 0)), ((0, 1), (0, 1)), ((2, 0), (2, 0)), ((3, 0), (3, 0)), ((0, 2), (0, 2)), ((2, 0), (2, 0)), ((3, 1), (3, 1)), ((3, 1), (3, 1)), ((1, 2), (1, 2)), ((0, 0), (0, 0)), ((0, 1), (0, 1)), ((3, 1), (3, 1)), ((0, 2), (0, 2)), ((1, 3), (1, 3)), ((2, 3), (2, 3)), ((0, 1), (0, 1)), ((2, 0), (2, 0)), ((2, 3), (2, 3)), ((0, 0), (0, 0)), ((2, 2), (2, 2)), ((3, 1), (3, 1)), ((3, 3), (3, 3)), ((2, 2), (2, 2)), ((3, 0), (3, 0)), ((3, 0), (3, 0)), ((1, 1), (1, 1)), ((2, 1), (2, 1)), ((0, 2), (0, 2)), ((1, 3), (1, 3)), ((3, 3), (3, 3)), ((0, 2), (0, 2)), ((2, 3), (2, 3)), ((2, 0), (2, 0)), ((3, 3), (3, 3)), ((3, 2), (3, 2)), ((0, 0), (0, 0)), ((3, 0), (3, 0)), ((2, 2), (2, 2)), ((1, 0), (1, 0)), ((2, 2), (2, 2)), ((3, 3), (3, 3)), ((1, 2), (1, 2)), ((3, 0), (3, 0)), ((3, 2), (3, 2)), ((2, 2), (2, 2)), ((3, 2), (3, 2)), ((2, 2), (2, 2)), ((1, 2), (1, 2)), ((1, 0), (1, 0)), ((0, 3), (0, 3)), ((3, 2), (3, 2)), ((0, 0), (0, 0)), ((2, 2), (2, 2)), ((1, 1), (1, 1)), ((1, 0), (1, 0)), ((1, 0), (1, 0)), ((0, 0), (0, 0))]\n",
            "[((2, 2), [(2, 2), (2, 2), (2, 2), (2, 2), (2, 2), (2, 2), (2, 2), (2, 2), (2, 2), (2, 2), (2, 2)]), ((1, 1), [(1, 1), (1, 1), (1, 1), (1, 1)]), ((0, 0), [(0, 0), (0, 0), (0, 0), (0, 0), (0, 0), (0, 0), (0, 0), (0, 0), (0, 0), (0, 0)]), ((3, 3), [(3, 3), (3, 3), (3, 3), (3, 3), (3, 3), (3, 3), (3, 3), (3, 3)]), ((1, 0), [(1, 0), (1, 0), (1, 0), (1, 0), (1, 0), (1, 0), (1, 0), (1, 0)]), ((0, 3), [(0, 3), (0, 3), (0, 3)]), ((3, 2), [(3, 2), (3, 2), (3, 2), (3, 2), (3, 2), (3, 2), (3, 2), (3, 2)]), ((1, 3), [(1, 3), (1, 3), (1, 3), (1, 3)]), ((2, 0), [(2, 0), (2, 0), (2, 0), (2, 0), (2, 0), (2, 0), (2, 0), (2, 0)]), ((3, 1), [(3, 1), (3, 1), (3, 1), (3, 1), (3, 1), (3, 1)]), ((0, 2), [(0, 2), (0, 2), (0, 2), (0, 2), (0, 2), (0, 2), (0, 2)]), ((1, 2), [(1, 2), (1, 2), (1, 2), (1, 2), (1, 2), (1, 2)]), ((2, 3), [(2, 3), (2, 3), (2, 3), (2, 3), (2, 3), (2, 3)]), ((2, 1), [(2, 1), (2, 1)]), ((0, 1), [(0, 1), (0, 1), (0, 1), (0, 1)]), ((3, 0), [(3, 0), (3, 0), (3, 0), (3, 0), (3, 0)])]\n",
            "[(2, 1)]\n"
          ]
        }
      ]
    },
    {
      "cell_type": "markdown",
      "metadata": {
        "id": "AVOpqoY3wE5k"
      },
      "source": [
        "### Difference (Разница)\n",
        "\n",
        "**The Map Function:** Для кортежа $t \\in R$, создайте пару $(t, R)$, и для кортежа $t \\in S$, создайте пару $(t, S)$. Задумка заключается в том, чтобы значение пары было именем отношения $R$ or $S$, которому принадлежит кортеж (а лучше, единичный бит, по которому можно два отношения различить $R$ or $S$), а не весь набор атрибутов отношения.\n",
        "\n",
        "**The Reduce Function:** Для каждого ключа $t$, если соответствующее значение является списком $[R]$, создайте пару $(t, t)$. В иных случаях не предпринимайте действий."
      ]
    },
    {
      "cell_type": "code",
      "metadata": {
        "id": "QE_AC09lwZIZ",
        "colab": {
          "base_uri": "https://localhost:8080/"
        },
        "outputId": "8672fa9e-9038-4773-f873-b31ed0910ff4"
      },
      "source": [
        "rels = [1, 2]\n",
        "class Tuple: # класс кортежа, который хранит данные и имя представления из массива rels выше\n",
        "  def __init__(self, data: tuple, rel_id: int):\n",
        "    self.data = data\n",
        "    self.rel_id = rel_id\n",
        "\n",
        "def get_random_tuple(count):\n",
        "  data = tuple([(random.randint(0, 3), random.randint(0, 3)) for i in range(count)])\n",
        "  rel_id = rels[random.randint(0, len(rels) - 1)]\n",
        "  return Tuple(data, rel_id)\n",
        "\n",
        "\n",
        "def RECORDREADER(count):\n",
        "    return [get_random_tuple(3) for i in range(count)]\n",
        "\n",
        "def MAP(t: Tuple):\n",
        "  return (t.data, t.rel_id)\n",
        "\n",
        "def REDUCE(key, values: Iterator[NamedTuple]):\n",
        "  if values == [rels[0]]: # если соответствующее значение является списком  [R] , создайте пару  (t,t)\n",
        "    return (key, key)\n",
        "\n",
        "def group_by_key(iterable):\n",
        "  t = {}\n",
        "  for (k2, v2) in iterable:\n",
        "    t[k2] = t.get(k2, []) + [v2]\n",
        "  return t.items()\n",
        "\n",
        "record = RECORDREADER(100)\n",
        "print(record)\n",
        "map_output = list(map(lambda x: MAP(x), RECORDREADER(100)))\n",
        "print(map_output)\n",
        "\n",
        "shuffle_output = group_by_key(map_output)\n",
        "shuffle_output = list(shuffle_output)\n",
        "\n",
        "print(shuffle_output)\n",
        "\n",
        "reduce_output = [el[0] for el in list(map(lambda x: REDUCE(*x), shuffle_output)) if el is not None]\n",
        "print(reduce_output)"
      ],
      "execution_count": 128,
      "outputs": [
        {
          "output_type": "stream",
          "name": "stdout",
          "text": [
            "[<__main__.Tuple object at 0x7f3aea780fa0>, <__main__.Tuple object at 0x7f3aea781030>, <__main__.Tuple object at 0x7f3aea782dd0>, <__main__.Tuple object at 0x7f3aea781060>, <__main__.Tuple object at 0x7f3aea783e50>, <__main__.Tuple object at 0x7f3aea782fb0>, <__main__.Tuple object at 0x7f3aea782440>, <__main__.Tuple object at 0x7f3aea781540>, <__main__.Tuple object at 0x7f3aea782530>, <__main__.Tuple object at 0x7f3aea780ee0>, <__main__.Tuple object at 0x7f3aea7807c0>, <__main__.Tuple object at 0x7f3aea781840>, <__main__.Tuple object at 0x7f3aea898b20>, <__main__.Tuple object at 0x7f3aea89b6a0>, <__main__.Tuple object at 0x7f3aea89a4a0>, <__main__.Tuple object at 0x7f3aea898d60>, <__main__.Tuple object at 0x7f3aea899a80>, <__main__.Tuple object at 0x7f3aea89a9b0>, <__main__.Tuple object at 0x7f3aea8996c0>, <__main__.Tuple object at 0x7f3aea89ac20>, <__main__.Tuple object at 0x7f3aea89a560>, <__main__.Tuple object at 0x7f3aea8987c0>, <__main__.Tuple object at 0x7f3aea8993f0>, <__main__.Tuple object at 0x7f3aea899840>, <__main__.Tuple object at 0x7f3aea898a30>, <__main__.Tuple object at 0x7f3aea8983d0>, <__main__.Tuple object at 0x7f3aea8990f0>, <__main__.Tuple object at 0x7f3aea899f00>, <__main__.Tuple object at 0x7f3aea898ac0>, <__main__.Tuple object at 0x7f3aea899090>, <__main__.Tuple object at 0x7f3aea899570>, <__main__.Tuple object at 0x7f3aea899690>, <__main__.Tuple object at 0x7f3aea89ad10>, <__main__.Tuple object at 0x7f3aea898310>, <__main__.Tuple object at 0x7f3aea899510>, <__main__.Tuple object at 0x7f3aea8984f0>, <__main__.Tuple object at 0x7f3aea8986d0>, <__main__.Tuple object at 0x7f3aea899600>, <__main__.Tuple object at 0x7f3aea898130>, <__main__.Tuple object at 0x7f3aea89b220>, <__main__.Tuple object at 0x7f3aea89a6b0>, <__main__.Tuple object at 0x7f3aea89bcd0>, <__main__.Tuple object at 0x7f3aea89bd90>, <__main__.Tuple object at 0x7f3aea89a8c0>, <__main__.Tuple object at 0x7f3aea898610>, <__main__.Tuple object at 0x7f3aea89acb0>, <__main__.Tuple object at 0x7f3aea89be50>, <__main__.Tuple object at 0x7f3aea899930>, <__main__.Tuple object at 0x7f3aea89b940>, <__main__.Tuple object at 0x7f3aea89bb20>, <__main__.Tuple object at 0x7f3aea8998d0>, <__main__.Tuple object at 0x7f3aea898070>, <__main__.Tuple object at 0x7f3aea898f40>, <__main__.Tuple object at 0x7f3aea8988e0>, <__main__.Tuple object at 0x7f3aea89b970>, <__main__.Tuple object at 0x7f3aea89b4f0>, <__main__.Tuple object at 0x7f3aea89a1d0>, <__main__.Tuple object at 0x7f3aea89b550>, <__main__.Tuple object at 0x7f3aea89ae30>, <__main__.Tuple object at 0x7f3aea89a440>, <__main__.Tuple object at 0x7f3aea899420>, <__main__.Tuple object at 0x7f3aea89ac50>, <__main__.Tuple object at 0x7f3aea89ba60>, <__main__.Tuple object at 0x7f3aea89a110>, <__main__.Tuple object at 0x7f3aea898bb0>, <__main__.Tuple object at 0x7f3aea899e10>, <__main__.Tuple object at 0x7f3aea89a410>, <__main__.Tuple object at 0x7f3aea899ba0>, <__main__.Tuple object at 0x7f3aea89a9e0>, <__main__.Tuple object at 0x7f3aea89ad70>, <__main__.Tuple object at 0x7f3aea89be20>, <__main__.Tuple object at 0x7f3aea898d30>, <__main__.Tuple object at 0x7f3aea89b580>, <__main__.Tuple object at 0x7f3aea899720>, <__main__.Tuple object at 0x7f3b1d5b5390>, <__main__.Tuple object at 0x7f3b1d5b7d30>, <__main__.Tuple object at 0x7f3b1d5b6890>, <__main__.Tuple object at 0x7f3b1d5b6ec0>, <__main__.Tuple object at 0x7f3b1d5b5ed0>, <__main__.Tuple object at 0x7f3aea7e85e0>, <__main__.Tuple object at 0x7f3aea7e8580>, <__main__.Tuple object at 0x7f3aea7e8520>, <__main__.Tuple object at 0x7f3aea7e84c0>, <__main__.Tuple object at 0x7f3aea7e8460>, <__main__.Tuple object at 0x7f3aea7e8400>, <__main__.Tuple object at 0x7f3aea7e83a0>, <__main__.Tuple object at 0x7f3aea7e8340>, <__main__.Tuple object at 0x7f3aea7e82e0>, <__main__.Tuple object at 0x7f3aea7e8280>, <__main__.Tuple object at 0x7f3aea7e8220>, <__main__.Tuple object at 0x7f3aea7e81c0>, <__main__.Tuple object at 0x7f3aea7e8160>, <__main__.Tuple object at 0x7f3aea7e8100>, <__main__.Tuple object at 0x7f3aea7e80a0>, <__main__.Tuple object at 0x7f3aea7e8040>, <__main__.Tuple object at 0x7f3aea7ead40>, <__main__.Tuple object at 0x7f3aea7e8640>, <__main__.Tuple object at 0x7f3aea7e86a0>, <__main__.Tuple object at 0x7f3aea7e8700>, <__main__.Tuple object at 0x7f3b1e286980>]\n",
            "[(((0, 2), (1, 0), (0, 2)), 2), (((3, 3), (2, 2), (1, 0)), 2), (((1, 0), (3, 3), (2, 1)), 2), (((3, 0), (0, 0), (1, 3)), 2), (((2, 0), (3, 1), (2, 2)), 1), (((1, 1), (3, 2), (0, 3)), 1), (((2, 0), (3, 3), (1, 2)), 2), (((2, 2), (2, 1), (1, 3)), 1), (((1, 3), (2, 2), (1, 3)), 1), (((3, 2), (1, 0), (1, 1)), 1), (((1, 0), (1, 3), (1, 1)), 1), (((0, 1), (3, 1), (2, 3)), 1), (((3, 0), (3, 3), (3, 2)), 1), (((0, 2), (3, 2), (0, 3)), 2), (((3, 2), (2, 1), (3, 2)), 1), (((3, 1), (1, 3), (1, 2)), 2), (((1, 1), (0, 2), (3, 1)), 1), (((1, 0), (3, 3), (1, 3)), 1), (((0, 2), (2, 1), (1, 3)), 1), (((1, 0), (0, 2), (3, 3)), 1), (((3, 2), (2, 0), (1, 2)), 1), (((0, 1), (3, 2), (1, 0)), 2), (((1, 3), (1, 1), (0, 1)), 2), (((2, 3), (1, 1), (0, 1)), 2), (((3, 2), (3, 2), (1, 0)), 2), (((1, 0), (0, 0), (1, 3)), 2), (((0, 3), (3, 2), (3, 3)), 1), (((1, 3), (3, 1), (1, 2)), 2), (((0, 3), (3, 1), (2, 3)), 2), (((2, 2), (0, 3), (0, 3)), 1), (((3, 2), (0, 3), (1, 1)), 2), (((2, 1), (0, 3), (2, 3)), 1), (((0, 1), (1, 1), (0, 3)), 2), (((3, 3), (1, 3), (0, 3)), 1), (((2, 3), (3, 2), (2, 0)), 1), (((3, 3), (0, 2), (2, 0)), 1), (((0, 1), (0, 1), (0, 1)), 2), (((0, 0), (3, 3), (0, 1)), 2), (((3, 3), (0, 2), (0, 0)), 1), (((1, 1), (2, 1), (0, 2)), 1), (((3, 3), (1, 2), (2, 3)), 1), (((3, 1), (1, 3), (1, 3)), 1), (((3, 0), (3, 2), (0, 2)), 1), (((0, 3), (3, 0), (1, 0)), 1), (((1, 3), (2, 0), (2, 2)), 1), (((2, 2), (1, 0), (1, 3)), 1), (((0, 2), (2, 2), (3, 0)), 1), (((3, 0), (2, 0), (3, 1)), 2), (((2, 3), (2, 2), (0, 2)), 1), (((2, 1), (0, 1), (3, 3)), 2), (((2, 0), (0, 0), (2, 1)), 1), (((1, 2), (0, 3), (2, 3)), 1), (((3, 3), (2, 0), (0, 2)), 2), (((3, 1), (1, 2), (2, 0)), 2), (((2, 2), (3, 2), (1, 2)), 1), (((2, 0), (2, 1), (1, 0)), 1), (((3, 3), (0, 0), (2, 2)), 1), (((0, 3), (2, 3), (3, 0)), 2), (((3, 1), (1, 0), (2, 3)), 2), (((2, 3), (0, 1), (3, 0)), 1), (((2, 0), (1, 0), (3, 0)), 1), (((2, 1), (2, 1), (2, 0)), 1), (((2, 3), (1, 3), (2, 2)), 1), (((1, 0), (3, 3), (3, 0)), 1), (((3, 0), (3, 0), (2, 3)), 1), (((3, 3), (1, 2), (2, 1)), 2), (((3, 3), (0, 3), (0, 0)), 2), (((0, 0), (0, 1), (3, 1)), 1), (((2, 3), (0, 0), (2, 3)), 2), (((2, 2), (3, 3), (2, 1)), 1), (((1, 1), (0, 3), (0, 3)), 2), (((2, 1), (0, 1), (3, 2)), 2), (((0, 0), (0, 3), (1, 1)), 1), (((1, 2), (3, 1), (2, 1)), 2), (((2, 0), (3, 0), (0, 3)), 2), (((0, 3), (2, 0), (2, 3)), 2), (((2, 2), (0, 2), (0, 0)), 2), (((0, 3), (2, 0), (1, 0)), 1), (((3, 2), (2, 2), (0, 3)), 1), (((1, 0), (0, 0), (1, 1)), 2), (((3, 3), (2, 1), (1, 1)), 1), (((0, 1), (3, 0), (0, 3)), 1), (((0, 2), (1, 3), (1, 3)), 2), (((3, 3), (0, 3), (0, 1)), 1), (((0, 0), (0, 1), (2, 2)), 2), (((0, 3), (3, 0), (0, 2)), 2), (((0, 1), (0, 0), (1, 3)), 1), (((3, 2), (2, 0), (0, 3)), 1), (((2, 0), (3, 0), (0, 2)), 2), (((2, 3), (2, 3), (0, 1)), 2), (((2, 1), (0, 2), (1, 2)), 2), (((2, 3), (3, 1), (0, 3)), 1), (((0, 2), (3, 3), (0, 1)), 1), (((3, 3), (0, 3), (2, 2)), 1), (((0, 1), (0, 3), (2, 1)), 2), (((1, 1), (0, 2), (1, 1)), 1), (((0, 3), (3, 1), (2, 2)), 1), (((3, 1), (1, 1), (2, 3)), 2), (((3, 2), (1, 2), (0, 0)), 1), (((2, 2), (3, 2), (1, 0)), 1)]\n",
            "[(((0, 2), (1, 0), (0, 2)), [2]), (((3, 3), (2, 2), (1, 0)), [2]), (((1, 0), (3, 3), (2, 1)), [2]), (((3, 0), (0, 0), (1, 3)), [2]), (((2, 0), (3, 1), (2, 2)), [1]), (((1, 1), (3, 2), (0, 3)), [1]), (((2, 0), (3, 3), (1, 2)), [2]), (((2, 2), (2, 1), (1, 3)), [1]), (((1, 3), (2, 2), (1, 3)), [1]), (((3, 2), (1, 0), (1, 1)), [1]), (((1, 0), (1, 3), (1, 1)), [1]), (((0, 1), (3, 1), (2, 3)), [1]), (((3, 0), (3, 3), (3, 2)), [1]), (((0, 2), (3, 2), (0, 3)), [2]), (((3, 2), (2, 1), (3, 2)), [1]), (((3, 1), (1, 3), (1, 2)), [2]), (((1, 1), (0, 2), (3, 1)), [1]), (((1, 0), (3, 3), (1, 3)), [1]), (((0, 2), (2, 1), (1, 3)), [1]), (((1, 0), (0, 2), (3, 3)), [1]), (((3, 2), (2, 0), (1, 2)), [1]), (((0, 1), (3, 2), (1, 0)), [2]), (((1, 3), (1, 1), (0, 1)), [2]), (((2, 3), (1, 1), (0, 1)), [2]), (((3, 2), (3, 2), (1, 0)), [2]), (((1, 0), (0, 0), (1, 3)), [2]), (((0, 3), (3, 2), (3, 3)), [1]), (((1, 3), (3, 1), (1, 2)), [2]), (((0, 3), (3, 1), (2, 3)), [2]), (((2, 2), (0, 3), (0, 3)), [1]), (((3, 2), (0, 3), (1, 1)), [2]), (((2, 1), (0, 3), (2, 3)), [1]), (((0, 1), (1, 1), (0, 3)), [2]), (((3, 3), (1, 3), (0, 3)), [1]), (((2, 3), (3, 2), (2, 0)), [1]), (((3, 3), (0, 2), (2, 0)), [1]), (((0, 1), (0, 1), (0, 1)), [2]), (((0, 0), (3, 3), (0, 1)), [2]), (((3, 3), (0, 2), (0, 0)), [1]), (((1, 1), (2, 1), (0, 2)), [1]), (((3, 3), (1, 2), (2, 3)), [1]), (((3, 1), (1, 3), (1, 3)), [1]), (((3, 0), (3, 2), (0, 2)), [1]), (((0, 3), (3, 0), (1, 0)), [1]), (((1, 3), (2, 0), (2, 2)), [1]), (((2, 2), (1, 0), (1, 3)), [1]), (((0, 2), (2, 2), (3, 0)), [1]), (((3, 0), (2, 0), (3, 1)), [2]), (((2, 3), (2, 2), (0, 2)), [1]), (((2, 1), (0, 1), (3, 3)), [2]), (((2, 0), (0, 0), (2, 1)), [1]), (((1, 2), (0, 3), (2, 3)), [1]), (((3, 3), (2, 0), (0, 2)), [2]), (((3, 1), (1, 2), (2, 0)), [2]), (((2, 2), (3, 2), (1, 2)), [1]), (((2, 0), (2, 1), (1, 0)), [1]), (((3, 3), (0, 0), (2, 2)), [1]), (((0, 3), (2, 3), (3, 0)), [2]), (((3, 1), (1, 0), (2, 3)), [2]), (((2, 3), (0, 1), (3, 0)), [1]), (((2, 0), (1, 0), (3, 0)), [1]), (((2, 1), (2, 1), (2, 0)), [1]), (((2, 3), (1, 3), (2, 2)), [1]), (((1, 0), (3, 3), (3, 0)), [1]), (((3, 0), (3, 0), (2, 3)), [1]), (((3, 3), (1, 2), (2, 1)), [2]), (((3, 3), (0, 3), (0, 0)), [2]), (((0, 0), (0, 1), (3, 1)), [1]), (((2, 3), (0, 0), (2, 3)), [2]), (((2, 2), (3, 3), (2, 1)), [1]), (((1, 1), (0, 3), (0, 3)), [2]), (((2, 1), (0, 1), (3, 2)), [2]), (((0, 0), (0, 3), (1, 1)), [1]), (((1, 2), (3, 1), (2, 1)), [2]), (((2, 0), (3, 0), (0, 3)), [2]), (((0, 3), (2, 0), (2, 3)), [2]), (((2, 2), (0, 2), (0, 0)), [2]), (((0, 3), (2, 0), (1, 0)), [1]), (((3, 2), (2, 2), (0, 3)), [1]), (((1, 0), (0, 0), (1, 1)), [2]), (((3, 3), (2, 1), (1, 1)), [1]), (((0, 1), (3, 0), (0, 3)), [1]), (((0, 2), (1, 3), (1, 3)), [2]), (((3, 3), (0, 3), (0, 1)), [1]), (((0, 0), (0, 1), (2, 2)), [2]), (((0, 3), (3, 0), (0, 2)), [2]), (((0, 1), (0, 0), (1, 3)), [1]), (((3, 2), (2, 0), (0, 3)), [1]), (((2, 0), (3, 0), (0, 2)), [2]), (((2, 3), (2, 3), (0, 1)), [2]), (((2, 1), (0, 2), (1, 2)), [2]), (((2, 3), (3, 1), (0, 3)), [1]), (((0, 2), (3, 3), (0, 1)), [1]), (((3, 3), (0, 3), (2, 2)), [1]), (((0, 1), (0, 3), (2, 1)), [2]), (((1, 1), (0, 2), (1, 1)), [1]), (((0, 3), (3, 1), (2, 2)), [1]), (((3, 1), (1, 1), (2, 3)), [2]), (((3, 2), (1, 2), (0, 0)), [1]), (((2, 2), (3, 2), (1, 0)), [1])]\n",
            "[((2, 0), (3, 1), (2, 2)), ((1, 1), (3, 2), (0, 3)), ((2, 2), (2, 1), (1, 3)), ((1, 3), (2, 2), (1, 3)), ((3, 2), (1, 0), (1, 1)), ((1, 0), (1, 3), (1, 1)), ((0, 1), (3, 1), (2, 3)), ((3, 0), (3, 3), (3, 2)), ((3, 2), (2, 1), (3, 2)), ((1, 1), (0, 2), (3, 1)), ((1, 0), (3, 3), (1, 3)), ((0, 2), (2, 1), (1, 3)), ((1, 0), (0, 2), (3, 3)), ((3, 2), (2, 0), (1, 2)), ((0, 3), (3, 2), (3, 3)), ((2, 2), (0, 3), (0, 3)), ((2, 1), (0, 3), (2, 3)), ((3, 3), (1, 3), (0, 3)), ((2, 3), (3, 2), (2, 0)), ((3, 3), (0, 2), (2, 0)), ((3, 3), (0, 2), (0, 0)), ((1, 1), (2, 1), (0, 2)), ((3, 3), (1, 2), (2, 3)), ((3, 1), (1, 3), (1, 3)), ((3, 0), (3, 2), (0, 2)), ((0, 3), (3, 0), (1, 0)), ((1, 3), (2, 0), (2, 2)), ((2, 2), (1, 0), (1, 3)), ((0, 2), (2, 2), (3, 0)), ((2, 3), (2, 2), (0, 2)), ((2, 0), (0, 0), (2, 1)), ((1, 2), (0, 3), (2, 3)), ((2, 2), (3, 2), (1, 2)), ((2, 0), (2, 1), (1, 0)), ((3, 3), (0, 0), (2, 2)), ((2, 3), (0, 1), (3, 0)), ((2, 0), (1, 0), (3, 0)), ((2, 1), (2, 1), (2, 0)), ((2, 3), (1, 3), (2, 2)), ((1, 0), (3, 3), (3, 0)), ((3, 0), (3, 0), (2, 3)), ((0, 0), (0, 1), (3, 1)), ((2, 2), (3, 3), (2, 1)), ((0, 0), (0, 3), (1, 1)), ((0, 3), (2, 0), (1, 0)), ((3, 2), (2, 2), (0, 3)), ((3, 3), (2, 1), (1, 1)), ((0, 1), (3, 0), (0, 3)), ((3, 3), (0, 3), (0, 1)), ((0, 1), (0, 0), (1, 3)), ((3, 2), (2, 0), (0, 3)), ((2, 3), (3, 1), (0, 3)), ((0, 2), (3, 3), (0, 1)), ((3, 3), (0, 3), (2, 2)), ((1, 1), (0, 2), (1, 1)), ((0, 3), (3, 1), (2, 2)), ((3, 2), (1, 2), (0, 0)), ((2, 2), (3, 2), (1, 0))]\n"
          ]
        }
      ]
    },
    {
      "cell_type": "markdown",
      "metadata": {
        "id": "j8I58V2VwhSm"
      },
      "source": [
        "### Natural Join\n",
        "\n",
        "**The Map Function:** Для каждого кортежа $(a, b)$ отношения $R$, создайте пару $(b,(R, a))$. Для каждого кортежа $(b, c)$ отношения $S$, создайте пару $(b,(S, c))$.\n",
        "\n",
        "**The Reduce Function:** Каждый ключ $b$ будет асоциирован со списком пар, которые принимают форму либо $(R, a)$, либо $(S, c)$. Создайте все пары, одни, состоящие из  первого компонента $R$, а другие, из первого компонента $S$, то есть $(R, a)$ и $(S, c)$. На выходе вы получаете последовательность пар ключ-значение из списков ключей и значений. Ключ не нужен. Каждое значение, это тройка $(a, b, c)$ такая, что $(R, a)$ и $(S, c)$ это принадлежат входному списку значений."
      ]
    },
    {
      "cell_type": "code",
      "metadata": {
        "id": "yHiuuTctw86I",
        "colab": {
          "base_uri": "https://localhost:8080/"
        },
        "outputId": "44df5b37-09ad-4e8c-99fe-9c14c2d6924d"
      },
      "source": [
        "rels = [1, 2]\n",
        "class Tuple: # класс кортежа, который хранит данные и имя представления из массива rels выше\n",
        "  def __init__(self, data: tuple, rel_id: int):\n",
        "    self.data = data\n",
        "    self.rel_id = rel_id\n",
        "\n",
        "def get_random_tuple():\n",
        "  data = (random.randint(0, 3), random.randint(0, 3))\n",
        "  rel_id = rels[random.randint(0, len(rels) - 1)]\n",
        "  return Tuple(data, rel_id)\n",
        "\n",
        "\n",
        "def RECORDREADER(count):\n",
        "  return [get_random_tuple() for i in range(count)]\n",
        "\n",
        "def MAP(t: Tuple):\n",
        "  if t.rel_id == rels[0]:\n",
        "    return (t.data[1], (t.rel_id, t.data[0]))\n",
        "  else:\n",
        "    return (t.data[0], (t.rel_id, t.data[1]))\n",
        "\n",
        "def REDUCE(key, values: Iterator[NamedTuple]):\n",
        "  res = []\n",
        "  for v in values:\n",
        "    res.append((v[0], key, v[1]))\n",
        "  return res\n",
        "\n",
        "def group_by_key(iterable):\n",
        "  t = {}\n",
        "  for (k2, v2) in iterable:\n",
        "    t[k2] = t.get(k2, []) + [v2]\n",
        "  return t.items()\n",
        "\n",
        "record = RECORDREADER(100)\n",
        "print(record)\n",
        "map_output = list(map(lambda x: MAP(x), RECORDREADER(100)))\n",
        "print(map_output)\n",
        "\n",
        "shuffle_output = group_by_key(map_output)\n",
        "shuffle_output = list(shuffle_output)\n",
        "\n",
        "print(shuffle_output)\n",
        "\n",
        "reduce_output = list(map(lambda x: REDUCE(*x), shuffle_output))\n",
        "print(reduce_output)"
      ],
      "execution_count": 17,
      "outputs": [
        {
          "output_type": "stream",
          "name": "stdout",
          "text": [
            "[<__main__.Tuple object at 0x7cdd86206cb0>, <__main__.Tuple object at 0x7cdd86207310>, <__main__.Tuple object at 0x7cdd86205540>, <__main__.Tuple object at 0x7cdd86206ce0>, <__main__.Tuple object at 0x7cdd86204af0>, <__main__.Tuple object at 0x7cdd86205240>, <__main__.Tuple object at 0x7cdd86207f10>, <__main__.Tuple object at 0x7cdd86205bd0>, <__main__.Tuple object at 0x7cdd86205db0>, <__main__.Tuple object at 0x7cdd861ad4e0>, <__main__.Tuple object at 0x7cdd861adb70>, <__main__.Tuple object at 0x7cdd861ae800>, <__main__.Tuple object at 0x7cdd861afdc0>, <__main__.Tuple object at 0x7cdd861aebf0>, <__main__.Tuple object at 0x7cdd861af8b0>, <__main__.Tuple object at 0x7cdd861af340>, <__main__.Tuple object at 0x7cdd861ad390>, <__main__.Tuple object at 0x7cdd861acfd0>, <__main__.Tuple object at 0x7cdd861acd60>, <__main__.Tuple object at 0x7cdd861aff70>, <__main__.Tuple object at 0x7cdd861adf30>, <__main__.Tuple object at 0x7cdd861ac700>, <__main__.Tuple object at 0x7cdd861ad8d0>, <__main__.Tuple object at 0x7cdd861ada50>, <__main__.Tuple object at 0x7cdd861ad240>, <__main__.Tuple object at 0x7cdd861ad420>, <__main__.Tuple object at 0x7cdd861ae6b0>, <__main__.Tuple object at 0x7cdd861aca60>, <__main__.Tuple object at 0x7cdd861ac940>, <__main__.Tuple object at 0x7cdd861aca90>, <__main__.Tuple object at 0x7cdd861af820>, <__main__.Tuple object at 0x7cdd861af730>, <__main__.Tuple object at 0x7cdd861ae890>, <__main__.Tuple object at 0x7cdd861ad5a0>, <__main__.Tuple object at 0x7cdd861acbb0>, <__main__.Tuple object at 0x7cdd861aece0>, <__main__.Tuple object at 0x7cdd861ae020>, <__main__.Tuple object at 0x7cdd861aecb0>, <__main__.Tuple object at 0x7cdd861afac0>, <__main__.Tuple object at 0x7cdd861afd60>, <__main__.Tuple object at 0x7cdd861ae170>, <__main__.Tuple object at 0x7cdd861add20>, <__main__.Tuple object at 0x7cdd861afa60>, <__main__.Tuple object at 0x7cdd861ae5f0>, <__main__.Tuple object at 0x7cdd861ac730>, <__main__.Tuple object at 0x7cdd861ae320>, <__main__.Tuple object at 0x7cdd861ac190>, <__main__.Tuple object at 0x7cdd861aded0>, <__main__.Tuple object at 0x7cdd861ac460>, <__main__.Tuple object at 0x7cdd861af910>, <__main__.Tuple object at 0x7cdd861ae2c0>, <__main__.Tuple object at 0x7cdd861ae3e0>, <__main__.Tuple object at 0x7cdd861ae1a0>, <__main__.Tuple object at 0x7cdd861aea40>, <__main__.Tuple object at 0x7cdd861afdf0>, <__main__.Tuple object at 0x7cdd861ae830>, <__main__.Tuple object at 0x7cdd861ae410>, <__main__.Tuple object at 0x7cdd861ac040>, <__main__.Tuple object at 0x7cdd861ad9c0>, <__main__.Tuple object at 0x7cdd861ad570>, <__main__.Tuple object at 0x7cdd861acf70>, <__main__.Tuple object at 0x7cdd861aff40>, <__main__.Tuple object at 0x7cdd861acdf0>, <__main__.Tuple object at 0x7cdd861aed40>, <__main__.Tuple object at 0x7cdd861af4c0>, <__main__.Tuple object at 0x7cdd861ad3c0>, <__main__.Tuple object at 0x7cdd861ad300>, <__main__.Tuple object at 0x7cdd861aebc0>, <__main__.Tuple object at 0x7cdd861ad810>, <__main__.Tuple object at 0x7cdd861ad450>, <__main__.Tuple object at 0x7cdd861ad1e0>, <__main__.Tuple object at 0x7cdd861ad630>, <__main__.Tuple object at 0x7cdd861ae200>, <__main__.Tuple object at 0x7cdd861ae1d0>, <__main__.Tuple object at 0x7cdd861ad210>, <__main__.Tuple object at 0x7cdd861add50>, <__main__.Tuple object at 0x7cdd861ac610>, <__main__.Tuple object at 0x7cdd861afc10>, <__main__.Tuple object at 0x7cdd861aee00>, <__main__.Tuple object at 0x7cdd861ae770>, <__main__.Tuple object at 0x7cdd861af1c0>, <__main__.Tuple object at 0x7cdd861ad990>, <__main__.Tuple object at 0x7cdd861ae0e0>, <__main__.Tuple object at 0x7cdd861ad600>, <__main__.Tuple object at 0x7cdd861ae7d0>, <__main__.Tuple object at 0x7cdd861aedd0>, <__main__.Tuple object at 0x7cdd861affd0>, <__main__.Tuple object at 0x7cdd861ac7c0>, <__main__.Tuple object at 0x7cdd861af520>, <__main__.Tuple object at 0x7cdd861ac970>, <__main__.Tuple object at 0x7cdd861af280>, <__main__.Tuple object at 0x7cdd861acbe0>, <__main__.Tuple object at 0x7cdd861acee0>, <__main__.Tuple object at 0x7cdd861ac220>, <__main__.Tuple object at 0x7cdd861ad2d0>, <__main__.Tuple object at 0x7cdd861aeb30>, <__main__.Tuple object at 0x7cdd861ac310>, <__main__.Tuple object at 0x7cdd861af160>, <__main__.Tuple object at 0x7cdd861ad6c0>, <__main__.Tuple object at 0x7cdd861ae530>]\n",
            "[(1, (2, 2)), (2, (2, 3)), (1, (2, 0)), (1, (1, 1)), (2, (2, 0)), (2, (2, 3)), (1, (2, 0)), (0, (2, 3)), (2, (1, 3)), (0, (1, 2)), (1, (1, 2)), (2, (2, 2)), (3, (1, 0)), (1, (2, 0)), (2, (2, 1)), (2, (1, 3)), (0, (1, 1)), (0, (2, 2)), (0, (1, 0)), (2, (1, 2)), (2, (1, 3)), (1, (2, 1)), (2, (2, 3)), (0, (2, 1)), (2, (1, 2)), (0, (2, 3)), (0, (1, 3)), (0, (2, 0)), (0, (2, 0)), (3, (1, 0)), (2, (1, 0)), (3, (2, 3)), (1, (2, 1)), (1, (1, 0)), (0, (1, 3)), (2, (2, 2)), (2, (2, 2)), (1, (2, 2)), (3, (1, 3)), (2, (1, 0)), (2, (2, 3)), (0, (2, 1)), (2, (1, 2)), (1, (2, 2)), (1, (1, 0)), (2, (1, 1)), (3, (1, 3)), (2, (2, 3)), (1, (2, 1)), (3, (2, 3)), (3, (1, 3)), (2, (1, 2)), (3, (2, 2)), (1, (1, 0)), (2, (2, 3)), (0, (2, 0)), (3, (1, 0)), (1, (2, 0)), (2, (1, 0)), (1, (1, 2)), (2, (1, 2)), (2, (1, 2)), (1, (1, 2)), (3, (2, 3)), (3, (2, 1)), (3, (1, 2)), (1, (2, 1)), (1, (1, 1)), (0, (2, 0)), (2, (1, 1)), (1, (2, 0)), (2, (2, 3)), (3, (2, 2)), (2, (1, 3)), (3, (2, 3)), (2, (1, 2)), (3, (1, 1)), (3, (1, 2)), (2, (2, 2)), (3, (1, 2)), (2, (1, 1)), (2, (1, 1)), (0, (1, 1)), (0, (2, 1)), (3, (2, 2)), (2, (1, 3)), (0, (2, 2)), (1, (1, 2)), (2, (2, 1)), (0, (2, 2)), (3, (2, 1)), (0, (1, 2)), (0, (2, 3)), (2, (1, 1)), (1, (2, 3)), (0, (1, 2)), (0, (1, 1)), (0, (1, 1)), (3, (1, 1)), (1, (2, 0))]\n",
            "[(1, [(2, 2), (2, 0), (1, 1), (2, 0), (1, 2), (2, 0), (2, 1), (2, 1), (1, 0), (2, 2), (2, 2), (1, 0), (2, 1), (1, 0), (2, 0), (1, 2), (1, 2), (2, 1), (1, 1), (2, 0), (1, 2), (2, 3), (2, 0)]), (2, [(2, 3), (2, 0), (2, 3), (1, 3), (2, 2), (2, 1), (1, 3), (1, 2), (1, 3), (2, 3), (1, 2), (1, 0), (2, 2), (2, 2), (1, 0), (2, 3), (1, 2), (1, 1), (2, 3), (1, 2), (2, 3), (1, 0), (1, 2), (1, 2), (1, 1), (2, 3), (1, 3), (1, 2), (2, 2), (1, 1), (1, 1), (1, 3), (2, 1), (1, 1)]), (0, [(2, 3), (1, 2), (1, 1), (2, 2), (1, 0), (2, 1), (2, 3), (1, 3), (2, 0), (2, 0), (1, 3), (2, 1), (2, 0), (2, 0), (1, 1), (2, 1), (2, 2), (2, 2), (1, 2), (2, 3), (1, 2), (1, 1), (1, 1)]), (3, [(1, 0), (1, 0), (2, 3), (1, 3), (1, 3), (2, 3), (1, 3), (2, 2), (1, 0), (2, 3), (2, 1), (1, 2), (2, 2), (2, 3), (1, 1), (1, 2), (1, 2), (2, 2), (2, 1), (1, 1)])]\n",
            "[[(2, 1, 2), (2, 1, 0), (1, 1, 1), (2, 1, 0), (1, 1, 2), (2, 1, 0), (2, 1, 1), (2, 1, 1), (1, 1, 0), (2, 1, 2), (2, 1, 2), (1, 1, 0), (2, 1, 1), (1, 1, 0), (2, 1, 0), (1, 1, 2), (1, 1, 2), (2, 1, 1), (1, 1, 1), (2, 1, 0), (1, 1, 2), (2, 1, 3), (2, 1, 0)], [(2, 2, 3), (2, 2, 0), (2, 2, 3), (1, 2, 3), (2, 2, 2), (2, 2, 1), (1, 2, 3), (1, 2, 2), (1, 2, 3), (2, 2, 3), (1, 2, 2), (1, 2, 0), (2, 2, 2), (2, 2, 2), (1, 2, 0), (2, 2, 3), (1, 2, 2), (1, 2, 1), (2, 2, 3), (1, 2, 2), (2, 2, 3), (1, 2, 0), (1, 2, 2), (1, 2, 2), (1, 2, 1), (2, 2, 3), (1, 2, 3), (1, 2, 2), (2, 2, 2), (1, 2, 1), (1, 2, 1), (1, 2, 3), (2, 2, 1), (1, 2, 1)], [(2, 0, 3), (1, 0, 2), (1, 0, 1), (2, 0, 2), (1, 0, 0), (2, 0, 1), (2, 0, 3), (1, 0, 3), (2, 0, 0), (2, 0, 0), (1, 0, 3), (2, 0, 1), (2, 0, 0), (2, 0, 0), (1, 0, 1), (2, 0, 1), (2, 0, 2), (2, 0, 2), (1, 0, 2), (2, 0, 3), (1, 0, 2), (1, 0, 1), (1, 0, 1)], [(1, 3, 0), (1, 3, 0), (2, 3, 3), (1, 3, 3), (1, 3, 3), (2, 3, 3), (1, 3, 3), (2, 3, 2), (1, 3, 0), (2, 3, 3), (2, 3, 1), (1, 3, 2), (2, 3, 2), (2, 3, 3), (1, 3, 1), (1, 3, 2), (1, 3, 2), (2, 3, 2), (2, 3, 1), (1, 3, 1)]]\n"
          ]
        }
      ]
    },
    {
      "cell_type": "markdown",
      "metadata": {
        "id": "kYdlr0YUxE27"
      },
      "source": [
        "### Grouping and Aggregation (Группировка и аггрегация)\n",
        "\n",
        "**The Map Function:** Для каждого кортежа $(a, b, c$) создайте пару $(a, b)$.\n",
        "\n",
        "**The Reduce Function:** Ключ представляет ту или иную группу. Примение аггрегирующую операцию $\\theta$ к списку значений $[b1, b2, . . . , bn]$ ассоциированных с ключом $a$. Возвращайте в выходной поток $(a, x)$, где $x$ результат применения  $\\theta$ к списку. Например, если $\\theta$ это $SUM$, тогда $x = b1 + b2 + · · · + bn$, а если $\\theta$ is $MAX$, тогда $x$ это максимальное из значений $b1, b2, . . . , bn$."
      ]
    },
    {
      "cell_type": "code",
      "metadata": {
        "id": "MLPckfEGxico",
        "colab": {
          "base_uri": "https://localhost:8080/"
        },
        "outputId": "798fe3a0-3aa1-4e60-c98f-92a49cee93ec"
      },
      "source": [
        "def get_random_tuple():\n",
        "  return (random.randint(0, 3), random.randint(0, 3), random.randint(0, 3))\n",
        "\n",
        "def RECORDREADER(count):\n",
        "  return [get_random_tuple() for i in range(count)]\n",
        "\n",
        "def MAP(t: Tuple):\n",
        "  return (t[0], t[1])\n",
        "\n",
        "def tetta(values):\n",
        "  return sum(values)\n",
        "\n",
        "\n",
        "def REDUCE(key, values: Iterator[NamedTuple]):\n",
        "  x = tetta(values)\n",
        "  return (key, x)\n",
        "\n",
        "def group_by_key(iterable):\n",
        "  t = {}\n",
        "  for (k2, v2) in iterable:\n",
        "    t[k2] = t.get(k2, []) + [v2]\n",
        "  return t.items()\n",
        "\n",
        "record = RECORDREADER(100)\n",
        "print(record)\n",
        "map_output = list(map(lambda x: MAP(x), RECORDREADER(100)))\n",
        "print(map_output)\n",
        "\n",
        "shuffle_output = group_by_key(map_output)\n",
        "shuffle_output = list(shuffle_output)\n",
        "\n",
        "print(shuffle_output)\n",
        "\n",
        "reduce_output = list(map(lambda x: REDUCE(*x), shuffle_output))\n",
        "print(reduce_output)"
      ],
      "execution_count": 19,
      "outputs": [
        {
          "output_type": "stream",
          "name": "stdout",
          "text": [
            "[(1, 3, 3), (0, 3, 0), (2, 2, 2), (3, 2, 0), (0, 3, 1), (3, 3, 2), (1, 1, 0), (2, 2, 2), (0, 3, 3), (2, 1, 0), (2, 2, 2), (0, 1, 0), (0, 0, 1), (3, 2, 1), (2, 0, 0), (3, 2, 0), (3, 1, 3), (1, 1, 1), (0, 2, 3), (2, 3, 2), (3, 2, 1), (2, 3, 2), (2, 3, 3), (0, 3, 2), (1, 1, 3), (2, 2, 1), (2, 1, 1), (2, 0, 3), (2, 0, 1), (1, 0, 2), (3, 3, 0), (1, 1, 0), (1, 3, 3), (0, 3, 1), (1, 1, 3), (1, 1, 0), (3, 3, 0), (3, 1, 0), (2, 3, 0), (0, 3, 0), (2, 2, 2), (3, 3, 3), (2, 1, 2), (0, 2, 0), (3, 2, 3), (3, 3, 3), (0, 0, 2), (0, 2, 0), (2, 1, 2), (2, 0, 1), (0, 1, 2), (1, 1, 1), (1, 0, 2), (1, 2, 0), (0, 2, 0), (2, 2, 3), (2, 0, 2), (0, 3, 0), (1, 3, 2), (0, 2, 2), (1, 0, 3), (0, 0, 1), (1, 2, 2), (0, 2, 0), (0, 2, 3), (0, 2, 0), (2, 3, 3), (1, 1, 3), (2, 2, 2), (3, 3, 2), (0, 3, 2), (3, 3, 1), (0, 2, 3), (1, 1, 3), (1, 0, 2), (1, 3, 3), (1, 2, 3), (0, 0, 3), (0, 0, 1), (1, 3, 1), (2, 2, 2), (3, 1, 3), (1, 2, 1), (2, 3, 1), (3, 1, 1), (3, 1, 1), (0, 1, 1), (1, 1, 2), (1, 0, 0), (1, 3, 0), (2, 2, 3), (1, 2, 3), (0, 2, 2), (0, 0, 3), (1, 0, 0), (0, 0, 2), (2, 3, 0), (3, 2, 0), (1, 2, 0), (0, 3, 1)]\n",
            "[(1, 3), (0, 3), (1, 0), (3, 1), (1, 2), (0, 3), (2, 1), (1, 3), (0, 1), (3, 3), (2, 2), (0, 2), (3, 2), (0, 0), (1, 2), (0, 0), (3, 2), (0, 0), (2, 3), (3, 0), (2, 0), (0, 0), (2, 1), (0, 1), (0, 3), (2, 0), (0, 3), (1, 2), (3, 2), (1, 2), (2, 1), (1, 1), (1, 0), (1, 1), (2, 2), (0, 1), (3, 0), (3, 3), (0, 0), (2, 3), (3, 0), (3, 3), (3, 1), (0, 1), (2, 3), (3, 2), (0, 1), (2, 0), (3, 3), (3, 2), (2, 1), (1, 0), (3, 3), (2, 2), (3, 1), (1, 0), (2, 3), (0, 1), (2, 2), (2, 1), (3, 1), (2, 2), (2, 1), (3, 3), (2, 2), (2, 3), (1, 3), (2, 0), (2, 3), (0, 2), (0, 1), (3, 2), (0, 1), (1, 0), (2, 3), (3, 0), (1, 2), (3, 0), (0, 0), (2, 3), (1, 0), (3, 0), (3, 3), (2, 2), (0, 2), (2, 0), (0, 1), (3, 3), (1, 1), (3, 1), (2, 1), (3, 0), (1, 0), (0, 0), (2, 1), (2, 0), (2, 2), (0, 3), (3, 3), (3, 0)]\n",
            "[(1, [3, 0, 2, 3, 2, 2, 2, 1, 0, 1, 0, 0, 3, 0, 2, 0, 1, 0]), (0, [3, 3, 1, 2, 0, 0, 0, 0, 1, 3, 3, 1, 0, 1, 1, 1, 2, 1, 1, 0, 2, 1, 0, 3]), (3, [1, 3, 2, 2, 0, 2, 0, 3, 0, 3, 1, 2, 3, 2, 3, 1, 1, 3, 2, 0, 0, 0, 3, 3, 1, 0, 3, 0]), (2, [1, 2, 3, 0, 1, 0, 1, 2, 3, 3, 0, 1, 2, 3, 2, 1, 2, 1, 2, 3, 0, 3, 3, 3, 2, 0, 1, 1, 0, 2])]\n",
            "[(1, 22), (0, 30), (3, 44), (2, 48)]\n"
          ]
        }
      ]
    },
    {
      "cell_type": "markdown",
      "metadata": {
        "id": "03IffTEOJgOb"
      },
      "source": [
        "#"
      ]
    },
    {
      "cell_type": "markdown",
      "metadata": {
        "id": "IIrRgvG4RIS4"
      },
      "source": [
        "### Matrix-Vector multiplication\n",
        "\n",
        "Случай, когда вектор не помещается в памяти Map задачи\n"
      ]
    },
    {
      "cell_type": "code",
      "metadata": {
        "id": "KQhDbiL3zS9r"
      },
      "source": [],
      "execution_count": null,
      "outputs": []
    },
    {
      "cell_type": "markdown",
      "metadata": {
        "id": "GIo2t7nNxvA9"
      },
      "source": [
        "## Matrix multiplication (Перемножение матриц)\n",
        "\n",
        "Если у нас есть матрица $M$ с элементами $m_{ij}$ в строке $i$ и столбце $j$, и матрица $N$ с элементами $n_{jk}$ в строке $j$ и столбце $k$, тогда их произведение $P = MN$ есть матрица $P$ с элементами $p_{ik}$ в строке $i$ и столбце $k$, где\n",
        "\n",
        "$$p_{ik} =\\sum_{j} m_{ij}n_{jk}$$\n",
        "\n",
        "Необходимым требованием является одинаковое количество столбцов в $M$ и строк в $N$, чтобы операция суммирования по  $j$ была осмысленной. Мы можем размышлять о матрице, как об отношении с тремя атрибутами: номер строки, номер столбца, само значение. Таким образом матрица $M$ предстваляется как отношение $ M(I, J, V )$, с кортежами $(i, j, m_{ij})$, и, аналогично, матрица $N$ представляется как отношение $N(J, K, W)$, с кортежами $(j, k, n_{jk})$. Так как большие матрицы как правило разреженные (большинство значений равно 0), и так как мы можем нулевыми значениями пренебречь (не хранить), такое реляционное представление достаточно эффективно для больших матриц. Однако, возможно, что координаты $i$, $j$, и $k$ неявно закодированы в смещение позиции элемента относительно начала файла, вместо явного хранения. Тогда, функция Map (или Reader) должна быть разработана таким образом, чтобы реконструировать компоненты $I$, $J$, и $K$ кортежей из смещения.\n",
        "\n",
        "Произведение $MN$ это фактически join, за которым следуют группировка по ключу и аггрегация. Таким образом join отношений $M(I, J, V )$ и $N(J, K, W)$, имеющих общим только атрибут $J$, создаст кортежи $(i, j, k, v, w)$ из каждого кортежа $(i, j, v) \\in M$ и кортежа $(j, k, w) \\in N$. Такой 5 компонентный кортеж представляет пару элементов матрицы $(m_{ij} , n_{jk})$. Что нам хотелось бы получить на самом деле, это произведение этих элементов, то есть, 4 компонентный кортеж$(i, j, k, v \\times w)$, так как он представляет произведение $m_{ij}n_{jk}$. Мы представляем отношение как результат одной MapReduce операции, в которой мы можем произвести группировку и аггрегацию, с $I$ и $K$  атрибутами, по которым идёт группировка, и суммой  $V \\times W$.\n",
        "\n",
        "\n",
        "\n"
      ]
    },
    {
      "cell_type": "code",
      "metadata": {
        "id": "1MBkGaLAYVCt"
      },
      "source": [
        "# MapReduce model\n",
        "def flatten(nested_iterable):\n",
        "  for iterable in nested_iterable:\n",
        "    for element in iterable:\n",
        "      yield element\n",
        "\n",
        "def groupbykey(iterable):\n",
        "  t = {}\n",
        "  for (k2, v2) in iterable:\n",
        "    t[k2] = t.get(k2, []) + [v2]\n",
        "  return t.items()\n",
        "\n",
        "def MapReduce(RECORDREADER, MAP, REDUCE):\n",
        "  return flatten(map(lambda x: REDUCE(*x), groupbykey(flatten(map(lambda x: MAP(*x), RECORDREADER())))))"
      ],
      "execution_count": 57,
      "outputs": []
    },
    {
      "cell_type": "markdown",
      "metadata": {
        "id": "sMspsOT0ZB35"
      },
      "source": [
        "Реализуйте перемножение матриц с использованием модельного кода MapReduce для одной машины в случае, когда одна матрица хранится в памяти, а другая генерируется RECORDREADER-ом."
      ]
    },
    {
      "cell_type": "code",
      "metadata": {
        "id": "psP1XekbsEjS"
      },
      "source": [
        "import numpy as np\n",
        "I = 2\n",
        "J = 3\n",
        "K = 4*10\n",
        "small_mat = np.random.rand(I,J) # it is legal to access this from RECORDREADER, MAP, REDUCE\n",
        "big_mat = np.random.rand(J,K)\n",
        "\n",
        "def RECORDREADER():\n",
        "  for j in range(big_mat.shape[0]):\n",
        "    for k in range(big_mat.shape[1]):\n",
        "      yield ((j, k), big_mat[j,k])\n",
        "\n",
        "def MAP(k1, v1):\n",
        "  (j, k) = k1\n",
        "  w = v1\n",
        "  for i in range(small_mat.shape[0]):\n",
        "    yield ((i, k), w * small_mat[i][j])\n",
        "\n",
        "def REDUCE(key, values):\n",
        "  (i, k) = key\n",
        "  el_value = 0\n",
        "  for v in values:\n",
        "    el_value += v\n",
        "  yield ((i, k), el_value)"
      ],
      "execution_count": 18,
      "outputs": []
    },
    {
      "cell_type": "markdown",
      "metadata": {
        "id": "rnt306LHhHrm"
      },
      "source": [
        "Проверьте своё решение"
      ]
    },
    {
      "cell_type": "code",
      "metadata": {
        "id": "Ewy_ZNYqW5a2",
        "colab": {
          "base_uri": "https://localhost:8080/"
        },
        "outputId": "b70a696d-8fa9-4940-a6a7-8183af3a3893"
      },
      "source": [
        "# CHECK THE SOLUTION\n",
        "reference_solution = np.matmul(small_mat, big_mat)\n",
        "solution = MapReduce(RECORDREADER, MAP, REDUCE)\n",
        "\n",
        "def asmatrix(reduce_output):\n",
        "  reduce_output = list(reduce_output)\n",
        "  I = max(i for ((i,k), vw) in reduce_output)+1\n",
        "  K = max(k for ((i,k), vw) in reduce_output)+1\n",
        "  mat = np.empty(shape=(I,K))\n",
        "  for ((i,k), vw) in reduce_output:\n",
        "    mat[i,k] = vw\n",
        "  return mat\n",
        "\n",
        "np.allclose(reference_solution, asmatrix(solution)) # should return true"
      ],
      "execution_count": 19,
      "outputs": [
        {
          "output_type": "execute_result",
          "data": {
            "text/plain": [
              "True"
            ]
          },
          "metadata": {},
          "execution_count": 19
        }
      ]
    },
    {
      "cell_type": "code",
      "metadata": {
        "id": "TK7v4CEcfxqf",
        "colab": {
          "base_uri": "https://localhost:8080/"
        },
        "outputId": "80c5f156-ef28-4eda-e568-9a60af8694ce"
      },
      "source": [
        "reduce_output = list(MapReduce(RECORDREADER, MAP, REDUCE))\n",
        "max(i for ((i,k), vw) in reduce_output)"
      ],
      "execution_count": 21,
      "outputs": [
        {
          "output_type": "execute_result",
          "data": {
            "text/plain": [
              "1"
            ]
          },
          "metadata": {},
          "execution_count": 21
        }
      ]
    },
    {
      "cell_type": "markdown",
      "metadata": {
        "id": "i4yyg3kOZqJJ"
      },
      "source": [
        "Реализуйте перемножение матриц  с использованием модельного кода MapReduce для одной машины в случае, когда обе матрицы генерируются в RECORDREADER. Например, сначала одна, а потом другая."
      ]
    },
    {
      "cell_type": "code",
      "metadata": {
        "id": "3B7rIAJCaHZq",
        "colab": {
          "base_uri": "https://localhost:8080/"
        },
        "outputId": "bc583b0c-8f00-4ed2-c8d3-aa7c80afee0c"
      },
      "source": [
        "import numpy as np\n",
        "I = 2\n",
        "J = 3\n",
        "K = 4*10\n",
        "small_mat = np.random.rand(I,J)\n",
        "big_mat = np.random.rand(J,K)\n",
        "reference_solution = np.matmul(small_mat, big_mat)\n",
        "\n",
        "def RECORDREADER():\n",
        "  for i in range(small_mat.shape[0]):\n",
        "    for j in range(small_mat.shape[1]):\n",
        "      yield ((0, i, j), small_mat[i,j]) # первая матрица\n",
        "\n",
        "  for j in range(big_mat.shape[0]):\n",
        "    for k in range(big_mat.shape[1]):\n",
        "      yield ((1, j, k), big_mat[j,k]) # вторая матрица\n",
        "\n",
        "def MAP_JOIN(k1, v1):\n",
        "  (mat_num, i, j) = k1\n",
        "  w = v1\n",
        "  if mat_num == 0:\n",
        "    yield (j, (mat_num, i, w))\n",
        "  else:\n",
        "    yield (i, (mat_num, j, w))\n",
        "\n",
        "\n",
        "def REDUCE_JOIN(key, values):\n",
        "  from_first_mat = [v for v in values if v[0] == 0]\n",
        "  from_second_mat = [v for v in values if v[0] == 1]\n",
        "  for f in from_first_mat:\n",
        "    for s in from_second_mat:\n",
        "      yield ((f[1], s[1]), f[2] * s[2])\n",
        "\n",
        "\n",
        "def MAP_MUL(k1, v1):\n",
        "  (i, k) = k1\n",
        "  yield ((i, k), v1)\n",
        "\n",
        "\n",
        "def REDUCE_MUL(key, values):\n",
        "  res_el_value = 0\n",
        "  for v in values:\n",
        "    res_el_value += v\n",
        "  yield (key, res_el_value)\n",
        "\n",
        "\n",
        "def GET_JOINED():\n",
        "  for j in joined:\n",
        "    yield j\n",
        "\n",
        "joined = MapReduce(RECORDREADER, MAP_JOIN, REDUCE_JOIN)\n",
        "solution = MapReduce(GET_JOINED, MAP_MUL, REDUCE_MUL)\n",
        "np.allclose(reference_solution, asmatrix(solution)) # should return true"
      ],
      "execution_count": 91,
      "outputs": [
        {
          "output_type": "execute_result",
          "data": {
            "text/plain": [
              "True"
            ]
          },
          "metadata": {},
          "execution_count": 91
        }
      ]
    },
    {
      "cell_type": "markdown",
      "metadata": {
        "id": "mXyzQi1DaIwo"
      },
      "source": [
        "Реализуйте перемножение матриц с использованием модельного кода MapReduce Distributed, когда каждая матрица генерируется в своём RECORDREADER."
      ]
    },
    {
      "cell_type": "code",
      "metadata": {
        "id": "TDM_s78Rb5eR",
        "colab": {
          "base_uri": "https://localhost:8080/"
        },
        "outputId": "b1b15bdd-541f-4d09-b155-ec16db5b905e"
      },
      "source": [
        "def flatten(nested_iterable):\n",
        "  for iterable in nested_iterable:\n",
        "    for element in iterable:\n",
        "      yield element\n",
        "\n",
        "def groupbykey(iterable):\n",
        "  t = {}\n",
        "  for (k2, v2) in iterable:\n",
        "    t[k2] = t.get(k2, []) + [v2]\n",
        "  return t.items()\n",
        "\n",
        "def groupbykey_distributed(map_partitions, PARTITIONER):\n",
        "  global reducers\n",
        "  partitions = [dict() for _ in range(reducers)]\n",
        "  for map_partition in map_partitions:\n",
        "    for (k2, v2) in map_partition:\n",
        "      p = partitions[PARTITIONER(k2)]\n",
        "      p[k2] = p.get(k2, []) + [v2]\n",
        "  return [(partition_id, sorted(partition.items(), key=lambda x: x[0])) for (partition_id, partition) in enumerate(partitions)]\n",
        "\n",
        "def PARTITIONER(obj):\n",
        "  global reducers\n",
        "  return hash(obj) % reducers\n",
        "\n",
        "def MapReduceDistributed(INPUTFORMAT, MAP, REDUCE, PARTITIONER=PARTITIONER, COMBINER=None):\n",
        "  map_partitions = map(lambda record_reader: flatten(map(lambda k1v1: MAP(*k1v1), record_reader)), INPUTFORMAT())\n",
        "  if COMBINER != None:\n",
        "    map_partitions = map(lambda map_partition: flatten(map(lambda k2v2: COMBINER(*k2v2), groupbykey(map_partition))), map_partitions)\n",
        "  reduce_partitions = groupbykey_distributed(map_partitions, PARTITIONER) # shuffle\n",
        "  reduce_outputs = map(lambda reduce_partition: (reduce_partition[0], flatten(map(lambda reduce_input_group: REDUCE(*reduce_input_group), reduce_partition[1]))), reduce_partitions)\n",
        "\n",
        "  print(\"{} key-value pairs were sent over a network.\".format(sum([len(vs) for (k,vs) in flatten([partition for (partition_id, partition) in reduce_partitions])])))\n",
        "  return reduce_outputs\n",
        "\n",
        "def asmatrix(reduce_output):\n",
        "  reduce_output = list(reduce_output)\n",
        "  I = max(i for ((i,k), vw) in reduce_output)+1\n",
        "  K = max(k for ((i,k), vw) in reduce_output)+1\n",
        "  mat = np.empty(shape=(I,K))\n",
        "  for ((i,k), vw) in reduce_output:\n",
        "    mat[i,k] = vw\n",
        "  return mat\n",
        "\n",
        "# ===================================================================================================================================================================================\n",
        "\n",
        "import numpy as np\n",
        "I = 2\n",
        "J = 3\n",
        "K = 4*10\n",
        "small_mat = np.random.rand(I,J)\n",
        "big_mat = np.random.rand(J,K)\n",
        "reference_solution = np.matmul(small_mat, big_mat)\n",
        "\n",
        "def INPUTFORMAT():\n",
        "  first_mat = []\n",
        "  for i in range(small_mat.shape[0]):\n",
        "    for j in range(small_mat.shape[1]):\n",
        "      first_mat.append(((0, i, j), small_mat[i,j])) # первая матрица\n",
        "  yield first_mat\n",
        "\n",
        "  second_mat = []\n",
        "  for j in range(big_mat.shape[0]):\n",
        "    for k in range(big_mat.shape[1]):\n",
        "      second_mat.append(((1, j, k), big_mat[j,k])) # вторая матрица\n",
        "  yield second_mat\n",
        "\n",
        "\n",
        "def MAP_JOIN(k1, v1):\n",
        "  (mat_num, i, j) = k1\n",
        "  w = v1\n",
        "  if mat_num == 0:\n",
        "    yield (j, (mat_num, i, w))\n",
        "  else:\n",
        "    yield (i, (mat_num, j, w))\n",
        "\n",
        "\n",
        "def REDUCE_JOIN(key, values):\n",
        "  from_first_mat = [v for v in values if v[0] == 0]\n",
        "  from_second_mat = [v for v in values if v[0] == 1]\n",
        "  for f in from_first_mat:\n",
        "    for s in from_second_mat:\n",
        "      yield ((f[1], s[1]), f[2] * s[2])\n",
        "\n",
        "\n",
        "def GET_JOINED():\n",
        "  for j in joined:\n",
        "    print(\"aa\", j)\n",
        "    yield j[1]\n",
        "\n",
        "\n",
        "def MAP_MUL(k1, v1):\n",
        "  yield (k1, v1)\n",
        "\n",
        "\n",
        "def REDUCE_MUL(key, values):\n",
        "  res_val = 0\n",
        "  for v in values:\n",
        "    res_val += v\n",
        "  yield (key, res_val)\n",
        "\n",
        "maps = 4\n",
        "reducers = 2\n",
        "partitioned_output = MapReduceDistributed(INPUTFORMAT, MAP_JOIN, REDUCE_JOIN, COMBINER=None)\n",
        "joined = [(partition_id, list(partition)) for (partition_id, partition) in partitioned_output]\n",
        "print(joined)\n",
        "\n",
        "mul_output = MapReduceDistributed(GET_JOINED, MAP_MUL, REDUCE_MUL, COMBINER=None)\n",
        "pre_result = [(partition_id, list(partition)) for (partition_id, partition) in mul_output]\n",
        "print(pre_result)\n",
        "\n",
        "solution = []\n",
        "for p in pre_result:\n",
        "  for v in p[1]:\n",
        "    solution.append(v)\n",
        "\n",
        "print(solution)\n",
        "np.allclose(reference_solution, asmatrix(solution)) # should return true\n"
      ],
      "execution_count": 49,
      "outputs": [
        {
          "output_type": "stream",
          "name": "stdout",
          "text": [
            "126 key-value pairs were sent over a network.\n",
            "[(0, [((0, 0), 0.36711979631288144), ((0, 1), 0.26279825509084176), ((0, 2), 0.129960295119967), ((0, 3), 0.171368937936973), ((0, 4), 0.04377328496095276), ((0, 5), 0.35393248887428624), ((0, 6), 0.05586683073485941), ((0, 7), 0.3464199263574519), ((0, 8), 0.05226559099229944), ((0, 9), 0.0641502449623753), ((0, 10), 0.05787737054815592), ((0, 11), 0.3295986243069457), ((0, 12), 0.23627962081034626), ((0, 13), 0.011021549448558722), ((0, 14), 0.19484620975663614), ((0, 15), 0.33123446643624144), ((0, 16), 0.3503622566448434), ((0, 17), 0.07181455926767266), ((0, 18), 0.28815269412472466), ((0, 19), 0.0699968810900198), ((0, 20), 0.3106463685424101), ((0, 21), 0.1485421549065724), ((0, 22), 0.37705715417082625), ((0, 23), 0.18871665390890344), ((0, 24), 0.08847454180194629), ((0, 25), 0.12876791507798496), ((0, 26), 0.3874878488119588), ((0, 27), 0.13778241807508956), ((0, 28), 0.11828919446904443), ((0, 29), 0.2724645668499338), ((0, 30), 0.32573181742177476), ((0, 31), 0.2280293868385858), ((0, 32), 0.03749584546029257), ((0, 33), 0.07638934303454656), ((0, 34), 0.2856190549466786), ((0, 35), 0.10974362894274564), ((0, 36), 0.035178327434206624), ((0, 37), 0.12348886468327197), ((0, 38), 0.005611998115659143), ((0, 39), 0.09759163842954773), ((1, 0), 0.5180810709826426), ((1, 1), 0.3708620532514056), ((1, 2), 0.18340053997957165), ((1, 3), 0.24183659881930963), ((1, 4), 0.061773052231896435), ((1, 5), 0.4994710847335163), ((1, 6), 0.07883951720994788), ((1, 7), 0.4888693234729263), ((1, 8), 0.07375743184863265), ((1, 9), 0.09052910779450693), ((1, 10), 0.08167679983591165), ((1, 11), 0.4651310280468156), ((1, 12), 0.333438839937877), ((1, 13), 0.01555365904956813), ((1, 14), 0.27496782805358266), ((1, 15), 0.4674395356533675), ((1, 16), 0.4944327573110689), ((1, 17), 0.10134502184631128), ((1, 18), 0.40664234911331326), ((1, 19), 0.09877990640868556), ((1, 20), 0.4383855213685013), ((1, 21), 0.20962334222499782), ((1, 22), 0.5321047140917549), ((1, 23), 0.26631777188626327), ((1, 24), 0.12485566246170474), ((1, 25), 0.18171784802078142), ((1, 26), 0.5468245562387725), ((1, 27), 0.19443915429197997), ((1, 28), 0.16693023141679686), ((1, 29), 0.3845031949138793), ((1, 30), 0.45967417316600423), ((1, 31), 0.3217960734761517), ((1, 32), 0.05291430200324073), ((1, 33), 0.1078009768159422), ((1, 34), 0.40306686636346184), ((1, 35), 0.1548706917665732), ((1, 36), 0.04964381037343794), ((1, 37), 0.17426802888889964), ((1, 38), 0.007919676419833653), ((1, 39), 0.13772174931542056), ((0, 0), 0.08137466786863429), ((0, 1), 0.09265863213127708), ((0, 2), 0.09813292477552811), ((0, 3), 0.011943809988861862), ((0, 4), 0.12711186781400333), ((0, 5), 0.06775790373701553), ((0, 6), 0.03964845893551172), ((0, 7), 0.04721709829524889), ((0, 8), 0.118545132312974), ((0, 9), 0.0162937579988994), ((0, 10), 0.03322589997849382), ((0, 11), 0.016236806292278277), ((0, 12), 0.10185213843118215), ((0, 13), 0.04474924093337025), ((0, 14), 0.08408910362736476), ((0, 15), 0.028050096042473837), ((0, 16), 0.08398386314629604), ((0, 17), 0.07195371481187485), ((0, 18), 0.02133849883325209), ((0, 19), 0.07944468020840711), ((0, 20), 0.010677201187639858), ((0, 21), 0.037895941210422536), ((0, 22), 0.02164513566291416), ((0, 23), 0.048608203826193325), ((0, 24), 0.1086106709733047), ((0, 25), 0.10511677741847907), ((0, 26), 0.11088231737035986), ((0, 27), 0.02353895261255287), ((0, 28), 0.12020713319119078), ((0, 29), 0.04664063437058164), ((0, 30), 0.06026302365843588), ((0, 31), 0.07244532290024905), ((0, 32), 0.05132098666322117), ((0, 33), 0.08823236288053317), ((0, 34), 0.10089910192086163), ((0, 35), 0.02414517320959474), ((0, 36), 0.0923022426688547), ((0, 37), 0.11172423292022875), ((0, 38), 0.02241397537270071), ((0, 39), 0.05456038430304341), ((1, 0), 0.18553062957809283), ((1, 1), 0.21125756707127505), ((1, 2), 0.22373871123302094), ((1, 3), 0.027231356450780505), ((1, 4), 0.2898094146503968), ((1, 5), 0.15448501196360437), ((1, 6), 0.09039672591944314), ((1, 7), 0.10765288760023103), ((1, 8), 0.27027763808449085), ((1, 9), 0.037149044769178075), ((1, 10), 0.07575357666909464), ((1, 11), 0.037019197406826666), ((1, 12), 0.23221835322901496), ((1, 13), 0.10202628239187041), ((1, 14), 0.19171942258280958), ((1, 15), 0.06395297350875052), ((1, 16), 0.19147947895881468), ((1, 17), 0.16405127491371635), ((1, 18), 0.04865082987712725), ((1, 19), 0.18113034340724243), ((1, 20), 0.024343544623404063), ((1, 21), 0.08640106332076493), ((1, 22), 0.04934994823360244), ((1, 23), 0.11082454644352532), ((1, 24), 0.24762750733564992), ((1, 25), 0.2396615851649802), ((1, 26), 0.25280676025628646), ((1, 27), 0.05366776679034724), ((1, 28), 0.2740669262913894), ((1, 29), 0.10633857544788866), ((1, 30), 0.1373970181688283), ((1, 31), 0.16517211952704233), ((1, 32), 0.11700957086015239), ((1, 33), 0.20116586971284928), ((1, 34), 0.23004547230179423), ((1, 35), 0.05504992283446102), ((1, 36), 0.210445014921201), ((1, 37), 0.2547262903276217), ((1, 38), 0.05110286863423142), ((1, 39), 0.12439525364463065)]), (1, [((0, 0), 0.2409033418083186), ((0, 1), 0.0531569664540857), ((0, 2), 0.008798481400322635), ((0, 3), 0.18295730327946605), ((0, 4), 0.18654702411007268), ((0, 5), 0.1442324018475829), ((0, 6), 0.1380449259116018), ((0, 7), 0.15575517114982518), ((0, 8), 0.021628245849793115), ((0, 9), 0.13815459965096435), ((0, 10), 0.019326967802369577), ((0, 11), 0.25865334294219716), ((0, 12), 0.2469656864404205), ((0, 13), 0.10930304008783183), ((0, 14), 0.10331068482673683), ((0, 15), 0.25302659896674395), ((0, 16), 0.1171722280389184), ((0, 17), 0.2202485695707927), ((0, 18), 0.01949501080021084), ((0, 19), 0.23760599569110138), ((0, 20), 0.24095354695895832), ((0, 21), 0.06348217974736935), ((0, 22), 0.16384814349120777), ((0, 23), 0.2535632069046712), ((0, 24), 0.18777129212001092), ((0, 25), 0.2636116397863599), ((0, 26), 0.1439562072270343), ((0, 27), 0.06947408219088104), ((0, 28), 0.15240641292221083), ((0, 29), 0.12119648406457433), ((0, 30), 0.010298686512881596), ((0, 31), 0.2252306230847744), ((0, 32), 0.1733775976234527), ((0, 33), 0.0895164646582967), ((0, 34), 0.02336633822640584), ((0, 35), 0.17651337510244974), ((0, 36), 0.05152100897384459), ((0, 37), 0.05604420212033442), ((0, 38), 0.21599263313730735), ((0, 39), 0.03693365997554232), ((1, 0), 0.38741568368161566), ((1, 1), 0.08548591458576105), ((1, 2), 0.014149532594604584), ((1, 3), 0.2942280841872136), ((1, 4), 0.30000099766934435), ((1, 5), 0.2319515127992025), ((1, 6), 0.2220009442350312), ((1, 7), 0.2504821878559466), ((1, 8), 0.03478208973704793), ((1, 9), 0.22217731923422432), ((1, 10), 0.031081222819255353), ((1, 11), 0.41596086189712833), ((1, 12), 0.3971650187166942), ((1, 13), 0.17577884842211924), ((1, 14), 0.16614206882033425), ((1, 15), 0.4069120506694032), ((1, 16), 0.1884339108517433), ((1, 17), 0.3541991137178161), ((1, 18), 0.031351466031358154), ((1, 19), 0.3821129610595565), ((1, 20), 0.38749642254813965), ((1, 21), 0.10209070527545941), ((1, 22), 0.2634971356317557), ((1, 23), 0.4077750122604735), ((1, 24), 0.3019698397141224), ((1, 25), 0.4239346905180121), ((1, 26), 0.23150734242387347), ((1, 27), 0.111726756665538), ((1, 28), 0.24509678536008614), ((1, 29), 0.19490563468830951), ((1, 30), 0.016562130879800376), ((1, 31), 0.3622111473150643), ((1, 32), 0.27882220318807793), ((1, 33), 0.14395849429083207), ((1, 34), 0.037577253313163875), ((1, 35), 0.28386509452690245), ((1, 36), 0.08285500220022028), ((1, 37), 0.09012910621271535), ((1, 38), 0.3473548063258657), ((1, 39), 0.0593959345805761)])]\n",
            "aa (0, [((0, 0), 0.36711979631288144), ((0, 1), 0.26279825509084176), ((0, 2), 0.129960295119967), ((0, 3), 0.171368937936973), ((0, 4), 0.04377328496095276), ((0, 5), 0.35393248887428624), ((0, 6), 0.05586683073485941), ((0, 7), 0.3464199263574519), ((0, 8), 0.05226559099229944), ((0, 9), 0.0641502449623753), ((0, 10), 0.05787737054815592), ((0, 11), 0.3295986243069457), ((0, 12), 0.23627962081034626), ((0, 13), 0.011021549448558722), ((0, 14), 0.19484620975663614), ((0, 15), 0.33123446643624144), ((0, 16), 0.3503622566448434), ((0, 17), 0.07181455926767266), ((0, 18), 0.28815269412472466), ((0, 19), 0.0699968810900198), ((0, 20), 0.3106463685424101), ((0, 21), 0.1485421549065724), ((0, 22), 0.37705715417082625), ((0, 23), 0.18871665390890344), ((0, 24), 0.08847454180194629), ((0, 25), 0.12876791507798496), ((0, 26), 0.3874878488119588), ((0, 27), 0.13778241807508956), ((0, 28), 0.11828919446904443), ((0, 29), 0.2724645668499338), ((0, 30), 0.32573181742177476), ((0, 31), 0.2280293868385858), ((0, 32), 0.03749584546029257), ((0, 33), 0.07638934303454656), ((0, 34), 0.2856190549466786), ((0, 35), 0.10974362894274564), ((0, 36), 0.035178327434206624), ((0, 37), 0.12348886468327197), ((0, 38), 0.005611998115659143), ((0, 39), 0.09759163842954773), ((1, 0), 0.5180810709826426), ((1, 1), 0.3708620532514056), ((1, 2), 0.18340053997957165), ((1, 3), 0.24183659881930963), ((1, 4), 0.061773052231896435), ((1, 5), 0.4994710847335163), ((1, 6), 0.07883951720994788), ((1, 7), 0.4888693234729263), ((1, 8), 0.07375743184863265), ((1, 9), 0.09052910779450693), ((1, 10), 0.08167679983591165), ((1, 11), 0.4651310280468156), ((1, 12), 0.333438839937877), ((1, 13), 0.01555365904956813), ((1, 14), 0.27496782805358266), ((1, 15), 0.4674395356533675), ((1, 16), 0.4944327573110689), ((1, 17), 0.10134502184631128), ((1, 18), 0.40664234911331326), ((1, 19), 0.09877990640868556), ((1, 20), 0.4383855213685013), ((1, 21), 0.20962334222499782), ((1, 22), 0.5321047140917549), ((1, 23), 0.26631777188626327), ((1, 24), 0.12485566246170474), ((1, 25), 0.18171784802078142), ((1, 26), 0.5468245562387725), ((1, 27), 0.19443915429197997), ((1, 28), 0.16693023141679686), ((1, 29), 0.3845031949138793), ((1, 30), 0.45967417316600423), ((1, 31), 0.3217960734761517), ((1, 32), 0.05291430200324073), ((1, 33), 0.1078009768159422), ((1, 34), 0.40306686636346184), ((1, 35), 0.1548706917665732), ((1, 36), 0.04964381037343794), ((1, 37), 0.17426802888889964), ((1, 38), 0.007919676419833653), ((1, 39), 0.13772174931542056), ((0, 0), 0.08137466786863429), ((0, 1), 0.09265863213127708), ((0, 2), 0.09813292477552811), ((0, 3), 0.011943809988861862), ((0, 4), 0.12711186781400333), ((0, 5), 0.06775790373701553), ((0, 6), 0.03964845893551172), ((0, 7), 0.04721709829524889), ((0, 8), 0.118545132312974), ((0, 9), 0.0162937579988994), ((0, 10), 0.03322589997849382), ((0, 11), 0.016236806292278277), ((0, 12), 0.10185213843118215), ((0, 13), 0.04474924093337025), ((0, 14), 0.08408910362736476), ((0, 15), 0.028050096042473837), ((0, 16), 0.08398386314629604), ((0, 17), 0.07195371481187485), ((0, 18), 0.02133849883325209), ((0, 19), 0.07944468020840711), ((0, 20), 0.010677201187639858), ((0, 21), 0.037895941210422536), ((0, 22), 0.02164513566291416), ((0, 23), 0.048608203826193325), ((0, 24), 0.1086106709733047), ((0, 25), 0.10511677741847907), ((0, 26), 0.11088231737035986), ((0, 27), 0.02353895261255287), ((0, 28), 0.12020713319119078), ((0, 29), 0.04664063437058164), ((0, 30), 0.06026302365843588), ((0, 31), 0.07244532290024905), ((0, 32), 0.05132098666322117), ((0, 33), 0.08823236288053317), ((0, 34), 0.10089910192086163), ((0, 35), 0.02414517320959474), ((0, 36), 0.0923022426688547), ((0, 37), 0.11172423292022875), ((0, 38), 0.02241397537270071), ((0, 39), 0.05456038430304341), ((1, 0), 0.18553062957809283), ((1, 1), 0.21125756707127505), ((1, 2), 0.22373871123302094), ((1, 3), 0.027231356450780505), ((1, 4), 0.2898094146503968), ((1, 5), 0.15448501196360437), ((1, 6), 0.09039672591944314), ((1, 7), 0.10765288760023103), ((1, 8), 0.27027763808449085), ((1, 9), 0.037149044769178075), ((1, 10), 0.07575357666909464), ((1, 11), 0.037019197406826666), ((1, 12), 0.23221835322901496), ((1, 13), 0.10202628239187041), ((1, 14), 0.19171942258280958), ((1, 15), 0.06395297350875052), ((1, 16), 0.19147947895881468), ((1, 17), 0.16405127491371635), ((1, 18), 0.04865082987712725), ((1, 19), 0.18113034340724243), ((1, 20), 0.024343544623404063), ((1, 21), 0.08640106332076493), ((1, 22), 0.04934994823360244), ((1, 23), 0.11082454644352532), ((1, 24), 0.24762750733564992), ((1, 25), 0.2396615851649802), ((1, 26), 0.25280676025628646), ((1, 27), 0.05366776679034724), ((1, 28), 0.2740669262913894), ((1, 29), 0.10633857544788866), ((1, 30), 0.1373970181688283), ((1, 31), 0.16517211952704233), ((1, 32), 0.11700957086015239), ((1, 33), 0.20116586971284928), ((1, 34), 0.23004547230179423), ((1, 35), 0.05504992283446102), ((1, 36), 0.210445014921201), ((1, 37), 0.2547262903276217), ((1, 38), 0.05110286863423142), ((1, 39), 0.12439525364463065)])\n",
            "aa (1, [((0, 0), 0.2409033418083186), ((0, 1), 0.0531569664540857), ((0, 2), 0.008798481400322635), ((0, 3), 0.18295730327946605), ((0, 4), 0.18654702411007268), ((0, 5), 0.1442324018475829), ((0, 6), 0.1380449259116018), ((0, 7), 0.15575517114982518), ((0, 8), 0.021628245849793115), ((0, 9), 0.13815459965096435), ((0, 10), 0.019326967802369577), ((0, 11), 0.25865334294219716), ((0, 12), 0.2469656864404205), ((0, 13), 0.10930304008783183), ((0, 14), 0.10331068482673683), ((0, 15), 0.25302659896674395), ((0, 16), 0.1171722280389184), ((0, 17), 0.2202485695707927), ((0, 18), 0.01949501080021084), ((0, 19), 0.23760599569110138), ((0, 20), 0.24095354695895832), ((0, 21), 0.06348217974736935), ((0, 22), 0.16384814349120777), ((0, 23), 0.2535632069046712), ((0, 24), 0.18777129212001092), ((0, 25), 0.2636116397863599), ((0, 26), 0.1439562072270343), ((0, 27), 0.06947408219088104), ((0, 28), 0.15240641292221083), ((0, 29), 0.12119648406457433), ((0, 30), 0.010298686512881596), ((0, 31), 0.2252306230847744), ((0, 32), 0.1733775976234527), ((0, 33), 0.0895164646582967), ((0, 34), 0.02336633822640584), ((0, 35), 0.17651337510244974), ((0, 36), 0.05152100897384459), ((0, 37), 0.05604420212033442), ((0, 38), 0.21599263313730735), ((0, 39), 0.03693365997554232), ((1, 0), 0.38741568368161566), ((1, 1), 0.08548591458576105), ((1, 2), 0.014149532594604584), ((1, 3), 0.2942280841872136), ((1, 4), 0.30000099766934435), ((1, 5), 0.2319515127992025), ((1, 6), 0.2220009442350312), ((1, 7), 0.2504821878559466), ((1, 8), 0.03478208973704793), ((1, 9), 0.22217731923422432), ((1, 10), 0.031081222819255353), ((1, 11), 0.41596086189712833), ((1, 12), 0.3971650187166942), ((1, 13), 0.17577884842211924), ((1, 14), 0.16614206882033425), ((1, 15), 0.4069120506694032), ((1, 16), 0.1884339108517433), ((1, 17), 0.3541991137178161), ((1, 18), 0.031351466031358154), ((1, 19), 0.3821129610595565), ((1, 20), 0.38749642254813965), ((1, 21), 0.10209070527545941), ((1, 22), 0.2634971356317557), ((1, 23), 0.4077750122604735), ((1, 24), 0.3019698397141224), ((1, 25), 0.4239346905180121), ((1, 26), 0.23150734242387347), ((1, 27), 0.111726756665538), ((1, 28), 0.24509678536008614), ((1, 29), 0.19490563468830951), ((1, 30), 0.016562130879800376), ((1, 31), 0.3622111473150643), ((1, 32), 0.27882220318807793), ((1, 33), 0.14395849429083207), ((1, 34), 0.037577253313163875), ((1, 35), 0.28386509452690245), ((1, 36), 0.08285500220022028), ((1, 37), 0.09012910621271535), ((1, 38), 0.3473548063258657), ((1, 39), 0.0593959345805761)])\n",
            "240 key-value pairs were sent over a network.\n",
            "[(0, [((0, 1), 0.4086138536762045), ((0, 2), 0.23689170129581777), ((0, 4), 0.35743217688502876), ((0, 5), 0.5659227944588847), ((0, 8), 0.19243896915506656), ((0, 9), 0.21859860261223907), ((0, 11), 0.604488773541421), ((0, 12), 0.5850974456819489), ((0, 15), 0.6123111614454593), ((0, 16), 0.5515183478300578), ((0, 18), 0.3289862037581876), ((0, 19), 0.3870475569895283), ((0, 22), 0.5625504333249481), ((0, 23), 0.490888064639768), ((0, 25), 0.4974963322828239), ((0, 26), 0.642326373409353), ((0, 29), 0.4403016852850898), ((0, 32), 0.26219442974696644), ((0, 33), 0.25413817057337645), ((0, 36), 0.17900157907690592), ((0, 39), 0.18908568270813347), ((1, 0), 1.091027384242351), ((1, 1), 0.6676055349084417), ((1, 3), 0.5632960394573037), ((1, 4), 0.6515834645516376), ((1, 7), 0.8470043989291038), ((1, 10), 0.18851159932426165), ((1, 11), 0.9181110873507706), ((1, 14), 0.6328293194567265), ((1, 17), 0.6195954104778437), ((1, 18), 0.48664464502179866), ((1, 21), 0.3981151108212222), ((1, 24), 0.674453009511477), ((1, 25), 0.8453141237037738), ((1, 27), 0.35983367774786523), ((1, 28), 0.6860939430682724), ((1, 31), 0.8491793403182584), ((1, 32), 0.44874607605147104), ((1, 34), 0.6706895919784199), ((1, 35), 0.4937857091279367), ((1, 38), 0.40637735137993075), ((1, 39), 0.32151293754062726)]), (1, [((0, 0), 0.6893978059898344), ((0, 3), 0.3662700512053009), ((0, 6), 0.23356021558197293), ((0, 7), 0.549392195802526), ((0, 10), 0.11043023832901931), ((0, 13), 0.16507383046976082), ((0, 14), 0.38224599821073774), ((0, 17), 0.3640168436503402), ((0, 20), 0.5622771166890084), ((0, 21), 0.24992027586436427), ((0, 24), 0.3848565048952619), ((0, 27), 0.2307954528785235), ((0, 28), 0.390902740582446), ((0, 30), 0.3962935275930922), ((0, 31), 0.5257053328236092), ((0, 34), 0.40988449509394603), ((0, 35), 0.31040217725479013), ((0, 37), 0.29125729972383513), ((0, 38), 0.2440186066256672), ((1, 2), 0.4212887838071972), ((1, 5), 0.8859076094963232), ((1, 6), 0.3912371873644222), ((1, 8), 0.37881715967017143), ((1, 9), 0.3498554717979093), ((1, 12), 0.9628222118835861), ((1, 13), 0.2933587898635578), ((1, 15), 0.9383045598315212), ((1, 16), 0.8743461471216268), ((1, 19), 0.6620232108754844), ((1, 20), 0.850225488540045), ((1, 22), 0.844951797957113), ((1, 23), 0.7849173305902621), ((1, 26), 1.0311386589189324), ((1, 29), 0.6857474050500775), ((1, 30), 0.613633322214633), ((1, 33), 0.45292534081962355), ((1, 36), 0.34294382749485924), ((1, 37), 0.5191234254292366)])]\n",
            "[((0, 1), 0.4086138536762045), ((0, 2), 0.23689170129581777), ((0, 4), 0.35743217688502876), ((0, 5), 0.5659227944588847), ((0, 8), 0.19243896915506656), ((0, 9), 0.21859860261223907), ((0, 11), 0.604488773541421), ((0, 12), 0.5850974456819489), ((0, 15), 0.6123111614454593), ((0, 16), 0.5515183478300578), ((0, 18), 0.3289862037581876), ((0, 19), 0.3870475569895283), ((0, 22), 0.5625504333249481), ((0, 23), 0.490888064639768), ((0, 25), 0.4974963322828239), ((0, 26), 0.642326373409353), ((0, 29), 0.4403016852850898), ((0, 32), 0.26219442974696644), ((0, 33), 0.25413817057337645), ((0, 36), 0.17900157907690592), ((0, 39), 0.18908568270813347), ((1, 0), 1.091027384242351), ((1, 1), 0.6676055349084417), ((1, 3), 0.5632960394573037), ((1, 4), 0.6515834645516376), ((1, 7), 0.8470043989291038), ((1, 10), 0.18851159932426165), ((1, 11), 0.9181110873507706), ((1, 14), 0.6328293194567265), ((1, 17), 0.6195954104778437), ((1, 18), 0.48664464502179866), ((1, 21), 0.3981151108212222), ((1, 24), 0.674453009511477), ((1, 25), 0.8453141237037738), ((1, 27), 0.35983367774786523), ((1, 28), 0.6860939430682724), ((1, 31), 0.8491793403182584), ((1, 32), 0.44874607605147104), ((1, 34), 0.6706895919784199), ((1, 35), 0.4937857091279367), ((1, 38), 0.40637735137993075), ((1, 39), 0.32151293754062726), ((0, 0), 0.6893978059898344), ((0, 3), 0.3662700512053009), ((0, 6), 0.23356021558197293), ((0, 7), 0.549392195802526), ((0, 10), 0.11043023832901931), ((0, 13), 0.16507383046976082), ((0, 14), 0.38224599821073774), ((0, 17), 0.3640168436503402), ((0, 20), 0.5622771166890084), ((0, 21), 0.24992027586436427), ((0, 24), 0.3848565048952619), ((0, 27), 0.2307954528785235), ((0, 28), 0.390902740582446), ((0, 30), 0.3962935275930922), ((0, 31), 0.5257053328236092), ((0, 34), 0.40988449509394603), ((0, 35), 0.31040217725479013), ((0, 37), 0.29125729972383513), ((0, 38), 0.2440186066256672), ((1, 2), 0.4212887838071972), ((1, 5), 0.8859076094963232), ((1, 6), 0.3912371873644222), ((1, 8), 0.37881715967017143), ((1, 9), 0.3498554717979093), ((1, 12), 0.9628222118835861), ((1, 13), 0.2933587898635578), ((1, 15), 0.9383045598315212), ((1, 16), 0.8743461471216268), ((1, 19), 0.6620232108754844), ((1, 20), 0.850225488540045), ((1, 22), 0.844951797957113), ((1, 23), 0.7849173305902621), ((1, 26), 1.0311386589189324), ((1, 29), 0.6857474050500775), ((1, 30), 0.613633322214633), ((1, 33), 0.45292534081962355), ((1, 36), 0.34294382749485924), ((1, 37), 0.5191234254292366)]\n"
          ]
        },
        {
          "output_type": "execute_result",
          "data": {
            "text/plain": [
              "True"
            ]
          },
          "metadata": {},
          "execution_count": 49
        }
      ]
    },
    {
      "cell_type": "markdown",
      "metadata": {
        "id": "ZuSA2P9Db6UM"
      },
      "source": [
        "Обобщите предыдущее решение на случай, когда каждая матрица генерируется несколькими RECORDREADER-ами, и проверьте его работоспособность. Будет ли работать решение, если RECORDREADER-ы будут генерировать случайное подмножество элементов матрицы?"
      ]
    },
    {
      "cell_type": "code",
      "metadata": {
        "id": "ehN0FqRDcwU5",
        "colab": {
          "base_uri": "https://localhost:8080/"
        },
        "outputId": "d89b0f3a-6ec4-4a32-d28f-693c1b39065d"
      },
      "source": [
        "def flatten(nested_iterable):\n",
        "  for iterable in nested_iterable:\n",
        "    for element in iterable:\n",
        "      yield element\n",
        "\n",
        "def groupbykey(iterable):\n",
        "  t = {}\n",
        "  for (k2, v2) in iterable:\n",
        "    t[k2] = t.get(k2, []) + [v2]\n",
        "  return t.items()\n",
        "\n",
        "def groupbykey_distributed(map_partitions, PARTITIONER):\n",
        "  global reducers\n",
        "  partitions = [dict() for _ in range(reducers)]\n",
        "  for map_partition in map_partitions:\n",
        "    for (k2, v2) in map_partition:\n",
        "      p = partitions[PARTITIONER(k2)]\n",
        "      p[k2] = p.get(k2, []) + [v2]\n",
        "  return [(partition_id, sorted(partition.items(), key=lambda x: x[0])) for (partition_id, partition) in enumerate(partitions)]\n",
        "\n",
        "def PARTITIONER(obj):\n",
        "  global reducers\n",
        "  return hash(obj) % reducers\n",
        "\n",
        "def MapReduceDistributed(INPUTFORMAT, MAP, REDUCE, PARTITIONER=PARTITIONER, COMBINER=None):\n",
        "  map_partitions = map(lambda record_reader: flatten(map(lambda k1v1: MAP(*k1v1), record_reader)), INPUTFORMAT())\n",
        "  if COMBINER != None:\n",
        "    map_partitions = map(lambda map_partition: flatten(map(lambda k2v2: COMBINER(*k2v2), groupbykey(map_partition))), map_partitions)\n",
        "  reduce_partitions = groupbykey_distributed(map_partitions, PARTITIONER) # shuffle\n",
        "  reduce_outputs = map(lambda reduce_partition: (reduce_partition[0], flatten(map(lambda reduce_input_group: REDUCE(*reduce_input_group), reduce_partition[1]))), reduce_partitions)\n",
        "\n",
        "  print(\"{} key-value pairs were sent over a network.\".format(sum([len(vs) for (k,vs) in flatten([partition for (partition_id, partition) in reduce_partitions])])))\n",
        "  return reduce_outputs\n",
        "\n",
        "def asmatrix(reduce_output):\n",
        "  reduce_output = list(reduce_output)\n",
        "  I = max(i for ((i,k), vw) in reduce_output)+1\n",
        "  K = max(k for ((i,k), vw) in reduce_output)+1\n",
        "  mat = np.empty(shape=(I,K))\n",
        "  for ((i,k), vw) in reduce_output:\n",
        "    mat[i,k] = vw\n",
        "  return mat\n",
        "\n",
        "# ===================================================================================================================================================================================\n",
        "\n",
        "import numpy as np\n",
        "I = 2\n",
        "J = 3\n",
        "K = 4*10\n",
        "small_mat = np.random.rand(I,J)\n",
        "big_mat = np.random.rand(J,K)\n",
        "reference_solution = np.matmul(small_mat, big_mat)\n",
        "\n",
        "def INPUTFORMAT():\n",
        "  first_mat = []\n",
        "  for i in range(small_mat.shape[0]):\n",
        "    for j in range(small_mat.shape[1]):\n",
        "      first_mat.append(((0, i, j), small_mat[i,j])) # первая матрица\n",
        "\n",
        "  global maps\n",
        "  split_size =  int(np.ceil(len(first_mat)/maps))\n",
        "  for i in range(0, len(first_mat), split_size):\n",
        "    yield first_mat[i:i+split_size]\n",
        "\n",
        "  second_mat = []\n",
        "  for j in range(big_mat.shape[0]):\n",
        "    for k in range(big_mat.shape[1]):\n",
        "      second_mat.append(((1, j, k), big_mat[j,k])) # вторая матрица\n",
        "\n",
        "  split_size =  int(np.ceil(len(second_mat)/maps))\n",
        "  for i in range(0, len(second_mat), split_size):\n",
        "    yield second_mat[i:i+split_size]\n",
        "\n",
        "\n",
        "def MAP_JOIN(k1, v1):\n",
        "  (mat_num, i, j) = k1\n",
        "  w = v1\n",
        "  if mat_num == 0:\n",
        "    yield (j, (mat_num, i, w))\n",
        "  else:\n",
        "    yield (i, (mat_num, j, w))\n",
        "\n",
        "\n",
        "def REDUCE_JOIN(key, values):\n",
        "  from_first_mat = [v for v in values if v[0] == 0]\n",
        "  from_second_mat = [v for v in values if v[0] == 1]\n",
        "  for f in from_first_mat:\n",
        "    for s in from_second_mat:\n",
        "      yield ((f[1], s[1]), f[2] * s[2])\n",
        "\n",
        "\n",
        "def GET_JOINED():\n",
        "  for j in joined:\n",
        "    print(\"aa\", j)\n",
        "    yield j[1]\n",
        "\n",
        "\n",
        "def MAP_MUL(k1, v1):\n",
        "  yield (k1, v1)\n",
        "\n",
        "\n",
        "def REDUCE_MUL(key, values):\n",
        "  res_val = 0\n",
        "  for v in values:\n",
        "    res_val += v\n",
        "  yield (key, res_val)\n",
        "\n",
        "maps = 3\n",
        "reducers = 2\n",
        "partitioned_output = MapReduceDistributed(INPUTFORMAT, MAP_JOIN, REDUCE_JOIN, COMBINER=None)\n",
        "joined = [(partition_id, list(partition)) for (partition_id, partition) in partitioned_output]\n",
        "print(joined)\n",
        "\n",
        "mul_output = MapReduceDistributed(GET_JOINED, MAP_MUL, REDUCE_MUL, COMBINER=None)\n",
        "pre_result = [(partition_id, list(partition)) for (partition_id, partition) in mul_output]\n",
        "print(pre_result)\n",
        "\n",
        "solution = []\n",
        "for p in pre_result:\n",
        "  for v in p[1]:\n",
        "    solution.append(v)\n",
        "\n",
        "print(solution)\n",
        "np.allclose(reference_solution, asmatrix(solution)) # should return true\n"
      ],
      "execution_count": 48,
      "outputs": [
        {
          "output_type": "stream",
          "name": "stdout",
          "text": [
            "126 key-value pairs were sent over a network.\n",
            "[(0, [((0, 0), 0.7751722819524031), ((0, 1), 0.7189247031122328), ((0, 2), 0.5280051068692923), ((0, 3), 0.458462676543293), ((0, 4), 0.031779311404463044), ((0, 5), 0.6978090882832404), ((0, 6), 0.6695177690151282), ((0, 7), 0.2775095795634109), ((0, 8), 0.5903236551219502), ((0, 9), 0.7768236340819892), ((0, 10), 0.6549047077156971), ((0, 11), 0.09380195452568817), ((0, 12), 0.7491940048665042), ((0, 13), 0.3057306770202348), ((0, 14), 0.6607584571525843), ((0, 15), 0.24607366556505406), ((0, 16), 0.6402283179164573), ((0, 17), 0.7236720119932946), ((0, 18), 0.04912697122506983), ((0, 19), 0.8497228462900142), ((0, 20), 0.10730740393415564), ((0, 21), 0.1306125833752874), ((0, 22), 0.06023100197138961), ((0, 23), 0.36025351858571947), ((0, 24), 0.4930477165827084), ((0, 25), 0.13993162344660626), ((0, 26), 0.902172266212365), ((0, 27), 0.9493451712317909), ((0, 28), 0.23649990981646268), ((0, 29), 0.7452088441898338), ((0, 30), 0.9177947090848465), ((0, 31), 0.6244411170250442), ((0, 32), 0.38452222161939803), ((0, 33), 0.5369807140757098), ((0, 34), 0.32041171430788357), ((0, 35), 0.07289266272930839), ((0, 36), 0.017230737774770827), ((0, 37), 0.9185756076123501), ((0, 38), 0.021446348299307555), ((0, 39), 0.34711938398788883), ((1, 0), 0.06165608148459164), ((1, 1), 0.0571822304646019), ((1, 2), 0.041996762076449624), ((1, 3), 0.0364654578094588), ((1, 4), 0.0025276804383958813), ((1, 5), 0.05550272501941939), ((1, 6), 0.05325247442776005), ((1, 7), 0.02207271034926791), ((1, 8), 0.04695348921765984), ((1, 9), 0.06178742764315793), ((1, 10), 0.05209017267988566), ((1, 11), 0.0074608717136830024), ((1, 12), 0.059589806920693045), ((1, 13), 0.024317375599681723), ((1, 14), 0.05255577143860554), ((1, 15), 0.019572343243592277), ((1, 16), 0.05092283387478489), ((1, 17), 0.057559824542741604), ((1, 18), 0.0039074881951597935), ((1, 19), 0.0675857254831425), ((1, 20), 0.008535075614675465), ((1, 21), 0.010388735860390593), ((1, 22), 0.004790686731075118), ((1, 23), 0.028654043512866233), ((1, 24), 0.03921630184305518), ((1, 25), 0.011129958821237755), ((1, 26), 0.07175747643946809), ((1, 27), 0.07550954103653686), ((1, 28), 0.01881086056639695), ((1, 29), 0.05927283300775705), ((1, 30), 0.07300006293689555), ((1, 31), 0.049667142762967825), ((1, 32), 0.03058434103073042), ((1, 33), 0.042710668884235296), ((1, 34), 0.025485084059284742), ((1, 35), 0.005797776903925791), ((1, 36), 0.0013705079464465854), ((1, 37), 0.07306217447566433), ((1, 38), 0.0017058115067770591), ((1, 39), 0.027609373454548586), ((0, 0), 0.5743755725574423), ((0, 1), 0.10757606934614218), ((0, 2), 0.32734359597740104), ((0, 3), 0.2612092764730091), ((0, 4), 0.10928635684197847), ((0, 5), 0.38249233074781613), ((0, 6), 0.6510335768822818), ((0, 7), 0.47874666271819744), ((0, 8), 0.034235928928840226), ((0, 9), 0.3259982654367288), ((0, 10), 0.07029939107861014), ((0, 11), 0.7050334578249073), ((0, 12), 0.6103734748782543), ((0, 13), 0.1531267019731784), ((0, 14), 0.6703427550915914), ((0, 15), 0.17465749939835473), ((0, 16), 0.2736024798429401), ((0, 17), 0.3396450843395122), ((0, 18), 0.3740042476828747), ((0, 19), 0.18563536766887584), ((0, 20), 0.06387256757645314), ((0, 21), 0.4540032097540645), ((0, 22), 0.07798198438403366), ((0, 23), 0.4390933753535061), ((0, 24), 0.2767233770970445), ((0, 25), 0.45101979500459555), ((0, 26), 0.2925513168437888), ((0, 27), 0.6092146047687654), ((0, 28), 0.05028543950835206), ((0, 29), 0.033276599516155234), ((0, 30), 0.08516996984335652), ((0, 31), 0.22232145514085797), ((0, 32), 0.6026825773614997), ((0, 33), 0.34854266195945544), ((0, 34), 0.3528765393744683), ((0, 35), 0.036410896658320646), ((0, 36), 0.4707153555857205), ((0, 37), 0.66741705047996), ((0, 38), 0.19095801004829066), ((0, 39), 0.23080968372785443), ((1, 0), 0.6237164996643528), ((1, 1), 0.11681724054084007), ((1, 2), 0.3554635879821439), ((1, 3), 0.28364809261680435), ((1, 4), 0.11867444788267222), ((1, 5), 0.4153497973812755), ((1, 6), 0.7069597022188312), ((1, 7), 0.5198727225934071), ((1, 8), 0.03717691833442003), ((1, 9), 0.3540026887102903), ((1, 10), 0.07633836156516055), ((1, 11), 0.7655983671151484), ((1, 12), 0.6628067512410782), ((1, 13), 0.1662808363082081), ((1, 14), 0.7279276082711055), ((1, 15), 0.18966120665581757), ((1, 16), 0.2971059167215172), ((1, 17), 0.3688218184300629), ((1, 18), 0.40613255745835714), ((1, 19), 0.201582113286611), ((1, 20), 0.06935945081365036), ((1, 21), 0.493003718043505), ((1, 22), 0.08468091726171977), ((1, 23), 0.4768130752529615), ((1, 24), 0.3004949102723309), ((1, 25), 0.4897640172388548), ((1, 26), 0.317682526959756), ((1, 27), 0.6615483300219485), ((1, 28), 0.054605139585904405), ((1, 29), 0.03613517907548749), ((1, 30), 0.09248637651961458), ((1, 31), 0.24141966759366953), ((1, 32), 0.654455177971573), ((1, 33), 0.3784837299627785), ((1, 34), 0.38318990303213524), ((1, 35), 0.03953872361293191), ((1, 36), 0.5111514972980941), ((1, 37), 0.7247505751126558), ((1, 38), 0.20736198978635847), ((1, 39), 0.25063706553951076)]), (1, [((0, 0), 0.07410759596730601), ((0, 1), 0.006825525199461576), ((0, 2), 0.06416153552091115), ((0, 3), 0.038689705331459615), ((0, 4), 0.025839808695353777), ((0, 5), 0.072216158037948), ((0, 6), 0.03782596123529076), ((0, 7), 0.020736581315628368), ((0, 8), 0.005552789306497415), ((0, 9), 0.0065184156712842145), ((0, 10), 0.07140774129128742), ((0, 11), 0.05583169589147995), ((0, 12), 0.006763919592130332), ((0, 13), 0.05017456721326276), ((0, 14), 0.030656528430803184), ((0, 15), 0.03777915499925459), ((0, 16), 0.0039828463977397794), ((0, 17), 0.03847652107516293), ((0, 18), 0.034130503889325606), ((0, 19), 0.02330370504962054), ((0, 20), 0.05349637665706781), ((0, 21), 0.0670612461962113), ((0, 22), 0.011405872150067829), ((0, 23), 0.010827443084650163), ((0, 24), 0.06469644153411867), ((0, 25), 0.007965138230590491), ((0, 26), 0.07721537072706976), ((0, 27), 0.07535363939817157), ((0, 28), 0.014016117562306207), ((0, 29), 0.012889945645534176), ((0, 30), 0.05172381210119752), ((0, 31), 0.0077871800403880205), ((0, 32), 0.044138927544971125), ((0, 33), 0.018770346781024218), ((0, 34), 0.007950045145569889), ((0, 35), 0.0002896673087655287), ((0, 36), 0.08150653275609812), ((0, 37), 0.026206079395023237), ((0, 38), 0.01203142787252641), ((0, 39), 0.04523818121581989), ((1, 0), 0.442450226595668), ((1, 1), 0.04075095314748204), ((1, 2), 0.3830685041041835), ((1, 3), 0.2309920955791898), ((1, 4), 0.15427337863573126), ((1, 5), 0.43115763061393764), ((1, 6), 0.2258352183916046), ((1, 7), 0.1238051913864127), ((1, 8), 0.03315224107366352), ((1, 9), 0.038917393732173136), ((1, 10), 0.4263310785166128), ((1, 11), 0.3333362278990108), ((1, 12), 0.04038314449618943), ((1, 13), 0.2995610415245628), ((1, 14), 0.18303100746689205), ((1, 15), 0.22555576755434592), ((1, 16), 0.023779091308711982), ((1, 17), 0.22971930537092683), ((1, 18), 0.20377194783539546), ((1, 19), 0.13913188580927652), ((1, 20), 0.31939349354159463), ((1, 21), 0.4003808676831403), ((1, 22), 0.06809734753162285), ((1, 23), 0.06464390841080082), ((1, 24), 0.38626209423029517), ((1, 25), 0.047554871656413464), ((1, 26), 0.4610048110308775), ((1, 27), 0.4498895746292721), ((1, 28), 0.08368149459563883), ((1, 29), 0.07695782459585516), ((1, 30), 0.3088106163187758), ((1, 31), 0.04649239431449058), ((1, 32), 0.263526002146635), ((1, 33), 0.11206603153349243), ((1, 34), 0.04746476026094545), ((1, 35), 0.001729422803800129), ((1, 36), 0.4866246626441985), ((1, 37), 0.1564601525007963), ((1, 38), 0.07183215052364167), ((1, 39), 0.2700889600918331)])]\n",
            "aa (0, [((0, 0), 0.7751722819524031), ((0, 1), 0.7189247031122328), ((0, 2), 0.5280051068692923), ((0, 3), 0.458462676543293), ((0, 4), 0.031779311404463044), ((0, 5), 0.6978090882832404), ((0, 6), 0.6695177690151282), ((0, 7), 0.2775095795634109), ((0, 8), 0.5903236551219502), ((0, 9), 0.7768236340819892), ((0, 10), 0.6549047077156971), ((0, 11), 0.09380195452568817), ((0, 12), 0.7491940048665042), ((0, 13), 0.3057306770202348), ((0, 14), 0.6607584571525843), ((0, 15), 0.24607366556505406), ((0, 16), 0.6402283179164573), ((0, 17), 0.7236720119932946), ((0, 18), 0.04912697122506983), ((0, 19), 0.8497228462900142), ((0, 20), 0.10730740393415564), ((0, 21), 0.1306125833752874), ((0, 22), 0.06023100197138961), ((0, 23), 0.36025351858571947), ((0, 24), 0.4930477165827084), ((0, 25), 0.13993162344660626), ((0, 26), 0.902172266212365), ((0, 27), 0.9493451712317909), ((0, 28), 0.23649990981646268), ((0, 29), 0.7452088441898338), ((0, 30), 0.9177947090848465), ((0, 31), 0.6244411170250442), ((0, 32), 0.38452222161939803), ((0, 33), 0.5369807140757098), ((0, 34), 0.32041171430788357), ((0, 35), 0.07289266272930839), ((0, 36), 0.017230737774770827), ((0, 37), 0.9185756076123501), ((0, 38), 0.021446348299307555), ((0, 39), 0.34711938398788883), ((1, 0), 0.06165608148459164), ((1, 1), 0.0571822304646019), ((1, 2), 0.041996762076449624), ((1, 3), 0.0364654578094588), ((1, 4), 0.0025276804383958813), ((1, 5), 0.05550272501941939), ((1, 6), 0.05325247442776005), ((1, 7), 0.02207271034926791), ((1, 8), 0.04695348921765984), ((1, 9), 0.06178742764315793), ((1, 10), 0.05209017267988566), ((1, 11), 0.0074608717136830024), ((1, 12), 0.059589806920693045), ((1, 13), 0.024317375599681723), ((1, 14), 0.05255577143860554), ((1, 15), 0.019572343243592277), ((1, 16), 0.05092283387478489), ((1, 17), 0.057559824542741604), ((1, 18), 0.0039074881951597935), ((1, 19), 0.0675857254831425), ((1, 20), 0.008535075614675465), ((1, 21), 0.010388735860390593), ((1, 22), 0.004790686731075118), ((1, 23), 0.028654043512866233), ((1, 24), 0.03921630184305518), ((1, 25), 0.011129958821237755), ((1, 26), 0.07175747643946809), ((1, 27), 0.07550954103653686), ((1, 28), 0.01881086056639695), ((1, 29), 0.05927283300775705), ((1, 30), 0.07300006293689555), ((1, 31), 0.049667142762967825), ((1, 32), 0.03058434103073042), ((1, 33), 0.042710668884235296), ((1, 34), 0.025485084059284742), ((1, 35), 0.005797776903925791), ((1, 36), 0.0013705079464465854), ((1, 37), 0.07306217447566433), ((1, 38), 0.0017058115067770591), ((1, 39), 0.027609373454548586), ((0, 0), 0.5743755725574423), ((0, 1), 0.10757606934614218), ((0, 2), 0.32734359597740104), ((0, 3), 0.2612092764730091), ((0, 4), 0.10928635684197847), ((0, 5), 0.38249233074781613), ((0, 6), 0.6510335768822818), ((0, 7), 0.47874666271819744), ((0, 8), 0.034235928928840226), ((0, 9), 0.3259982654367288), ((0, 10), 0.07029939107861014), ((0, 11), 0.7050334578249073), ((0, 12), 0.6103734748782543), ((0, 13), 0.1531267019731784), ((0, 14), 0.6703427550915914), ((0, 15), 0.17465749939835473), ((0, 16), 0.2736024798429401), ((0, 17), 0.3396450843395122), ((0, 18), 0.3740042476828747), ((0, 19), 0.18563536766887584), ((0, 20), 0.06387256757645314), ((0, 21), 0.4540032097540645), ((0, 22), 0.07798198438403366), ((0, 23), 0.4390933753535061), ((0, 24), 0.2767233770970445), ((0, 25), 0.45101979500459555), ((0, 26), 0.2925513168437888), ((0, 27), 0.6092146047687654), ((0, 28), 0.05028543950835206), ((0, 29), 0.033276599516155234), ((0, 30), 0.08516996984335652), ((0, 31), 0.22232145514085797), ((0, 32), 0.6026825773614997), ((0, 33), 0.34854266195945544), ((0, 34), 0.3528765393744683), ((0, 35), 0.036410896658320646), ((0, 36), 0.4707153555857205), ((0, 37), 0.66741705047996), ((0, 38), 0.19095801004829066), ((0, 39), 0.23080968372785443), ((1, 0), 0.6237164996643528), ((1, 1), 0.11681724054084007), ((1, 2), 0.3554635879821439), ((1, 3), 0.28364809261680435), ((1, 4), 0.11867444788267222), ((1, 5), 0.4153497973812755), ((1, 6), 0.7069597022188312), ((1, 7), 0.5198727225934071), ((1, 8), 0.03717691833442003), ((1, 9), 0.3540026887102903), ((1, 10), 0.07633836156516055), ((1, 11), 0.7655983671151484), ((1, 12), 0.6628067512410782), ((1, 13), 0.1662808363082081), ((1, 14), 0.7279276082711055), ((1, 15), 0.18966120665581757), ((1, 16), 0.2971059167215172), ((1, 17), 0.3688218184300629), ((1, 18), 0.40613255745835714), ((1, 19), 0.201582113286611), ((1, 20), 0.06935945081365036), ((1, 21), 0.493003718043505), ((1, 22), 0.08468091726171977), ((1, 23), 0.4768130752529615), ((1, 24), 0.3004949102723309), ((1, 25), 0.4897640172388548), ((1, 26), 0.317682526959756), ((1, 27), 0.6615483300219485), ((1, 28), 0.054605139585904405), ((1, 29), 0.03613517907548749), ((1, 30), 0.09248637651961458), ((1, 31), 0.24141966759366953), ((1, 32), 0.654455177971573), ((1, 33), 0.3784837299627785), ((1, 34), 0.38318990303213524), ((1, 35), 0.03953872361293191), ((1, 36), 0.5111514972980941), ((1, 37), 0.7247505751126558), ((1, 38), 0.20736198978635847), ((1, 39), 0.25063706553951076)])\n",
            "aa (1, [((0, 0), 0.07410759596730601), ((0, 1), 0.006825525199461576), ((0, 2), 0.06416153552091115), ((0, 3), 0.038689705331459615), ((0, 4), 0.025839808695353777), ((0, 5), 0.072216158037948), ((0, 6), 0.03782596123529076), ((0, 7), 0.020736581315628368), ((0, 8), 0.005552789306497415), ((0, 9), 0.0065184156712842145), ((0, 10), 0.07140774129128742), ((0, 11), 0.05583169589147995), ((0, 12), 0.006763919592130332), ((0, 13), 0.05017456721326276), ((0, 14), 0.030656528430803184), ((0, 15), 0.03777915499925459), ((0, 16), 0.0039828463977397794), ((0, 17), 0.03847652107516293), ((0, 18), 0.034130503889325606), ((0, 19), 0.02330370504962054), ((0, 20), 0.05349637665706781), ((0, 21), 0.0670612461962113), ((0, 22), 0.011405872150067829), ((0, 23), 0.010827443084650163), ((0, 24), 0.06469644153411867), ((0, 25), 0.007965138230590491), ((0, 26), 0.07721537072706976), ((0, 27), 0.07535363939817157), ((0, 28), 0.014016117562306207), ((0, 29), 0.012889945645534176), ((0, 30), 0.05172381210119752), ((0, 31), 0.0077871800403880205), ((0, 32), 0.044138927544971125), ((0, 33), 0.018770346781024218), ((0, 34), 0.007950045145569889), ((0, 35), 0.0002896673087655287), ((0, 36), 0.08150653275609812), ((0, 37), 0.026206079395023237), ((0, 38), 0.01203142787252641), ((0, 39), 0.04523818121581989), ((1, 0), 0.442450226595668), ((1, 1), 0.04075095314748204), ((1, 2), 0.3830685041041835), ((1, 3), 0.2309920955791898), ((1, 4), 0.15427337863573126), ((1, 5), 0.43115763061393764), ((1, 6), 0.2258352183916046), ((1, 7), 0.1238051913864127), ((1, 8), 0.03315224107366352), ((1, 9), 0.038917393732173136), ((1, 10), 0.4263310785166128), ((1, 11), 0.3333362278990108), ((1, 12), 0.04038314449618943), ((1, 13), 0.2995610415245628), ((1, 14), 0.18303100746689205), ((1, 15), 0.22555576755434592), ((1, 16), 0.023779091308711982), ((1, 17), 0.22971930537092683), ((1, 18), 0.20377194783539546), ((1, 19), 0.13913188580927652), ((1, 20), 0.31939349354159463), ((1, 21), 0.4003808676831403), ((1, 22), 0.06809734753162285), ((1, 23), 0.06464390841080082), ((1, 24), 0.38626209423029517), ((1, 25), 0.047554871656413464), ((1, 26), 0.4610048110308775), ((1, 27), 0.4498895746292721), ((1, 28), 0.08368149459563883), ((1, 29), 0.07695782459585516), ((1, 30), 0.3088106163187758), ((1, 31), 0.04649239431449058), ((1, 32), 0.263526002146635), ((1, 33), 0.11206603153349243), ((1, 34), 0.04746476026094545), ((1, 35), 0.001729422803800129), ((1, 36), 0.4866246626441985), ((1, 37), 0.1564601525007963), ((1, 38), 0.07183215052364167), ((1, 39), 0.2700889600918331)])\n",
            "240 key-value pairs were sent over a network.\n",
            "[(0, [((0, 1), 0.8333262976578365), ((0, 2), 0.9195102383676045), ((0, 4), 0.16690547694179528), ((0, 5), 1.1525175770690044), ((0, 8), 0.6301123733572878), ((0, 9), 1.1093403151900023), ((0, 11), 0.8546671082420755), ((0, 12), 1.3663313993368889), ((0, 15), 0.4585103199626634), ((0, 16), 0.9178136441571372), ((0, 18), 0.4572617227972701), ((0, 19), 1.0586619190085105), ((0, 22), 0.1496188585054911), ((0, 23), 0.8101743370238758), ((0, 25), 0.5989165566817923), ((0, 26), 1.2719389537832235), ((0, 29), 0.7913753893515232), ((0, 32), 1.0313437265258687), ((0, 33), 0.9042937228161895), ((0, 36), 0.5694526261165894), ((0, 39), 0.6231672489315632), ((1, 0), 1.1278228077446126), ((1, 1), 0.214750424152924), ((1, 3), 0.551105646005453), ((1, 4), 0.27547550695679934), ((1, 7), 0.6657506243290877), ((1, 10), 0.554759612761659), ((1, 11), 1.1063954667278422), ((1, 14), 0.9635143871766031), ((1, 17), 0.6561009483437313), ((1, 18), 0.6138119934889124), ((1, 21), 0.9037733215870359), ((1, 24), 0.7259733063456812), ((1, 25), 0.548448847716506), ((1, 27), 1.1869474456877573), ((1, 28), 0.15709749474794016), ((1, 31), 0.33757920467112795), ((1, 32), 0.9485655211489384), ((1, 34), 0.4561397473523654), ((1, 35), 0.047065923320657836), ((1, 38), 0.2808999518167772), ((1, 39), 0.5483353990858923)]), (1, [((0, 0), 1.4236554504771515), ((0, 3), 0.7583616583477617), ((0, 6), 1.3583773071327006), ((0, 7), 0.7769928235972368), ((0, 10), 0.7966118400855947), ((0, 13), 0.509031946206676), ((0, 14), 1.3617577406749788), ((0, 17), 1.1017936174079697), ((0, 20), 0.22467634816767657), ((0, 21), 0.6516770393255632), ((0, 24), 0.8344675352138715), ((0, 27), 1.6339134153987278), ((0, 28), 0.30080146688712095), ((0, 30), 1.0546884910294005), ((0, 31), 0.8545497522062903), ((0, 34), 0.6812382988279218), ((0, 35), 0.10959322669639457), ((0, 37), 1.6121987374873332), ((0, 38), 0.2244357862201246), ((1, 2), 0.7805288541627771), ((1, 5), 0.9020101530146325), ((1, 6), 0.9860473950381958), ((1, 8), 0.11728264862574339), ((1, 9), 0.4547075100856213), ((1, 12), 0.7627797026579607), ((1, 13), 0.49015925343245265), ((1, 15), 0.43478931745375576), ((1, 16), 0.3718078419050141), ((1, 19), 0.40829972457902997), ((1, 20), 0.39728801996992047), ((1, 22), 0.15756895152441774), ((1, 23), 0.5701110271766285), ((1, 26), 0.8504448144301016), ((1, 29), 0.17236583667909972), ((1, 30), 0.47429705577528597), ((1, 33), 0.5332604303805062), ((1, 36), 0.9991466678887391), ((1, 37), 0.9542729020891165)])]\n",
            "[((0, 1), 0.8333262976578365), ((0, 2), 0.9195102383676045), ((0, 4), 0.16690547694179528), ((0, 5), 1.1525175770690044), ((0, 8), 0.6301123733572878), ((0, 9), 1.1093403151900023), ((0, 11), 0.8546671082420755), ((0, 12), 1.3663313993368889), ((0, 15), 0.4585103199626634), ((0, 16), 0.9178136441571372), ((0, 18), 0.4572617227972701), ((0, 19), 1.0586619190085105), ((0, 22), 0.1496188585054911), ((0, 23), 0.8101743370238758), ((0, 25), 0.5989165566817923), ((0, 26), 1.2719389537832235), ((0, 29), 0.7913753893515232), ((0, 32), 1.0313437265258687), ((0, 33), 0.9042937228161895), ((0, 36), 0.5694526261165894), ((0, 39), 0.6231672489315632), ((1, 0), 1.1278228077446126), ((1, 1), 0.214750424152924), ((1, 3), 0.551105646005453), ((1, 4), 0.27547550695679934), ((1, 7), 0.6657506243290877), ((1, 10), 0.554759612761659), ((1, 11), 1.1063954667278422), ((1, 14), 0.9635143871766031), ((1, 17), 0.6561009483437313), ((1, 18), 0.6138119934889124), ((1, 21), 0.9037733215870359), ((1, 24), 0.7259733063456812), ((1, 25), 0.548448847716506), ((1, 27), 1.1869474456877573), ((1, 28), 0.15709749474794016), ((1, 31), 0.33757920467112795), ((1, 32), 0.9485655211489384), ((1, 34), 0.4561397473523654), ((1, 35), 0.047065923320657836), ((1, 38), 0.2808999518167772), ((1, 39), 0.5483353990858923), ((0, 0), 1.4236554504771515), ((0, 3), 0.7583616583477617), ((0, 6), 1.3583773071327006), ((0, 7), 0.7769928235972368), ((0, 10), 0.7966118400855947), ((0, 13), 0.509031946206676), ((0, 14), 1.3617577406749788), ((0, 17), 1.1017936174079697), ((0, 20), 0.22467634816767657), ((0, 21), 0.6516770393255632), ((0, 24), 0.8344675352138715), ((0, 27), 1.6339134153987278), ((0, 28), 0.30080146688712095), ((0, 30), 1.0546884910294005), ((0, 31), 0.8545497522062903), ((0, 34), 0.6812382988279218), ((0, 35), 0.10959322669639457), ((0, 37), 1.6121987374873332), ((0, 38), 0.2244357862201246), ((1, 2), 0.7805288541627771), ((1, 5), 0.9020101530146325), ((1, 6), 0.9860473950381958), ((1, 8), 0.11728264862574339), ((1, 9), 0.4547075100856213), ((1, 12), 0.7627797026579607), ((1, 13), 0.49015925343245265), ((1, 15), 0.43478931745375576), ((1, 16), 0.3718078419050141), ((1, 19), 0.40829972457902997), ((1, 20), 0.39728801996992047), ((1, 22), 0.15756895152441774), ((1, 23), 0.5701110271766285), ((1, 26), 0.8504448144301016), ((1, 29), 0.17236583667909972), ((1, 30), 0.47429705577528597), ((1, 33), 0.5332604303805062), ((1, 36), 0.9991466678887391), ((1, 37), 0.9542729020891165)]\n"
          ]
        },
        {
          "output_type": "execute_result",
          "data": {
            "text/plain": [
              "True"
            ]
          },
          "metadata": {},
          "execution_count": 48
        }
      ]
    },
    {
      "cell_type": "code",
      "source": [],
      "metadata": {
        "id": "FIpqZIDrAw8V"
      },
      "execution_count": null,
      "outputs": []
    }
  ]
}