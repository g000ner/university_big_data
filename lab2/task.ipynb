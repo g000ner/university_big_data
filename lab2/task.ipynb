{
 "cells": [
  {
   "cell_type": "code",
   "execution_count": 1,
   "id": "d033832d-65b6-4c0d-ad08-8307009f3641",
   "metadata": {},
   "outputs": [
    {
     "name": "stdout",
     "output_type": "stream",
     "text": [
      "--2024-03-05 15:49:36--  https://git.ai.ssau.ru/tk/big_data/raw/branch/master/data/posts_sample.xml\n",
      "Resolving git.ai.ssau.ru (git.ai.ssau.ru)... 91.222.131.161\n",
      "Connecting to git.ai.ssau.ru (git.ai.ssau.ru)|91.222.131.161|:443... connected.\n",
      "HTTP request sent, awaiting response... 200 OK\n",
      "Length: 74162295 (71M) [text/plain]\n",
      "Saving to: ‘posts_sample.xml’\n",
      "\n",
      "posts_sample.xml    100%[===================>]  70.73M  1.95MB/s    in 51s     \n",
      "\n",
      "2024-03-05 15:50:27 (1.40 MB/s) - ‘posts_sample.xml’ saved [74162295/74162295]\n",
      "\n"
     ]
    }
   ],
   "source": [
    "!wget https://git.ai.ssau.ru/tk/big_data/raw/branch/master/data/posts_sample.xml"
   ]
  },
  {
   "cell_type": "code",
   "execution_count": 2,
   "id": "49e6b0a7-dcbc-41be-9254-1f970f96e986",
   "metadata": {},
   "outputs": [
    {
     "name": "stdout",
     "output_type": "stream",
     "text": [
      "--2024-03-05 15:50:27--  https://git.ai.ssau.ru/tk/big_data/raw/branch/master/data/programming-languages.csv\n",
      "Resolving git.ai.ssau.ru (git.ai.ssau.ru)... 91.222.131.161\n",
      "Connecting to git.ai.ssau.ru (git.ai.ssau.ru)|91.222.131.161|:443... connected.\n",
      "HTTP request sent, awaiting response... 200 OK\n",
      "Length: 40269 (39K) [text/plain]\n",
      "Saving to: ‘programming-languages.csv’\n",
      "\n",
      "programming-languag 100%[===================>]  39.33K  --.-KB/s    in 0.09s   \n",
      "\n",
      "2024-03-05 15:50:28 (461 KB/s) - ‘programming-languages.csv’ saved [40269/40269]\n",
      "\n"
     ]
    }
   ],
   "source": [
    "!wget https://git.ai.ssau.ru/tk/big_data/raw/branch/master/data/programming-languages.csv"
   ]
  },
  {
   "cell_type": "code",
   "execution_count": 3,
   "id": "529fa294-485f-44c7-ba90-4030f1040fbe",
   "metadata": {},
   "outputs": [],
   "source": [
    "import pyspark\n",
    "import os\n",
    "\n",
    "from datetime import datetime\n",
    "from pyspark.sql.functions import col\n",
    "from pyspark.sql import SparkSession\n",
    "from pyspark import SparkContext, SparkConf\n",
    "from pyspark.sql.types import StructType, StructField, StringType, DateType"
   ]
  },
  {
   "cell_type": "code",
   "execution_count": 6,
   "id": "a4ff6d74-0bae-40e1-b821-e9d3ccce6e51",
   "metadata": {},
   "outputs": [
    {
     "data": {
      "text/html": [
       "\n",
       "            <div>\n",
       "                <p><b>SparkSession - in-memory</b></p>\n",
       "                \n",
       "        <div>\n",
       "            <p><b>SparkContext</b></p>\n",
       "\n",
       "            <p><a href=\"http://172.25.160.54:4041\">Spark UI</a></p>\n",
       "\n",
       "            <dl>\n",
       "              <dt>Version</dt>\n",
       "                <dd><code>v3.0.0</code></dd>\n",
       "              <dt>Master</dt>\n",
       "                <dd><code>local[*]</code></dd>\n",
       "              <dt>AppName</dt>\n",
       "                <dd><code>L2</code></dd>\n",
       "            </dl>\n",
       "        </div>\n",
       "        \n",
       "            </div>\n",
       "        "
      ],
      "text/plain": [
       "<pyspark.sql.session.SparkSession at 0x7febaa341c18>"
      ]
     },
     "execution_count": 6,
     "metadata": {},
     "output_type": "execute_result"
    }
   ],
   "source": [
    "os.environ['PYSPARK_SUBMIT_ARGS'] = '--packages com.databricks:spark-xml_2.12:0.13.0 pyspark-shell'\n",
    "sc = SparkSession.builder.appName(\"l2\").master(\"local[*]\").getOrCreate()\n",
    "sc"
   ]
  },
  {
   "cell_type": "code",
   "execution_count": 12,
   "id": "78a4791d-2a8b-4b95-83be-63b17dcbaa07",
   "metadata": {},
   "outputs": [
    {
     "data": {
      "text/plain": [
       "['name',\n",
       " 'A# .NET',\n",
       " 'A# (Axiom)',\n",
       " 'A-0 System',\n",
       " 'A+',\n",
       " 'A++',\n",
       " 'ABAP',\n",
       " 'ABC',\n",
       " 'ABC ALGOL',\n",
       " 'ABSET']"
      ]
     },
     "execution_count": 12,
     "metadata": {},
     "output_type": "execute_result"
    }
   ],
   "source": [
    "prog_lang = sc.read.csv(\"programming-languages.csv\")\n",
    "prog_lang_list = [str(x[0]) for x in pro_lang.collect()]\n",
    "prog_lang_list[:10]"
   ]
  },
  {
   "cell_type": "code",
   "execution_count": 14,
   "id": "13179dd3-9833-4d31-97fd-a98a74eb9643",
   "metadata": {},
   "outputs": [
    {
     "data": {
      "text/plain": [
       "[Row(_AcceptedAnswerId=7, _AnswerCount=13, _Body=\"<p>I want to use a track-bar to change a form's opacity.</p>\\n\\n<p>This is my code:</p>\\n\\n<pre><code>decimal trans = trackBar1.Value / 5000;\\nthis.Opacity = trans;\\n</code></pre>\\n\\n<p>When I build the application, it gives the following error:</p>\\n\\n<blockquote>\\n  <p>Cannot implicitly convert type <code>'decimal'</code> to <code>'double'</code></p>\\n</blockquote>\\n\\n<p>I tried using <code>trans</code> and <code>double</code> but then the control doesn't work. This code worked fine in a past VB.NET project.</p>\\n\", _ClosedDate=None, _CommentCount=2, _CommunityOwnedDate=datetime.datetime(2012, 10, 31, 20, 42, 47, 213000), _CreationDate=datetime.datetime(2008, 8, 1, 2, 42, 52, 667000), _FavoriteCount=48, _Id=4, _LastActivityDate=datetime.datetime(2019, 7, 19, 5, 39, 54, 173000), _LastEditDate=datetime.datetime(2019, 7, 19, 5, 39, 54, 173000), _LastEditorDisplayName='Rich B', _LastEditorUserId=3641067, _OwnerDisplayName=None, _OwnerUserId=8, _ParentId=None, _PostTypeId=1, _Score=630, _Tags='<c#><floating-point><type-conversion><double><decimal>', _Title='Convert Decimal to Double?', _ViewCount=42817)]"
      ]
     },
     "execution_count": 14,
     "metadata": {},
     "output_type": "execute_result"
    }
   ],
   "source": [
    "posts = sc.read.format(\"xml\").options(rowTag=\"row\").load('posts_sample.xml')\n",
    "posts.take(1)"
   ]
  },
  {
   "cell_type": "code",
   "execution_count": 18,
   "id": "e8e9383b-e90f-4f66-aed6-482274219799",
   "metadata": {},
   "outputs": [
    {
     "name": "stdout",
     "output_type": "stream",
     "text": [
      "+--------------------+--------------------------+\n",
      "|Programming_language|Number_of_mentions_in_2010|\n",
      "+--------------------+--------------------------+\n",
      "|                Java|                        52|\n",
      "|          JavaScript|                        44|\n",
      "|                 PHP|                        42|\n",
      "|              Python|                        25|\n",
      "|         Objective-C|                        22|\n",
      "|                   C|                        20|\n",
      "|                Ruby|                        11|\n",
      "|              Delphi|                         7|\n",
      "|                   R|                         3|\n",
      "|                Bash|                         3|\n",
      "+--------------------+--------------------------+\n",
      "\n",
      "+--------------------+--------------------------+\n",
      "|Programming_language|Number_of_mentions_in_2011|\n",
      "+--------------------+--------------------------+\n",
      "|                 PHP|                        97|\n",
      "|                Java|                        92|\n",
      "|          JavaScript|                        82|\n",
      "|              Python|                        35|\n",
      "|         Objective-C|                        33|\n",
      "|                   C|                        24|\n",
      "|                Ruby|                        17|\n",
      "|              Delphi|                         8|\n",
      "|                Perl|                         8|\n",
      "|                Bash|                         7|\n",
      "+--------------------+--------------------------+\n",
      "\n",
      "+--------------------+--------------------------+\n",
      "|Programming_language|Number_of_mentions_in_2012|\n",
      "+--------------------+--------------------------+\n",
      "|                 PHP|                       136|\n",
      "|          JavaScript|                       129|\n",
      "|                Java|                       124|\n",
      "|              Python|                        65|\n",
      "|         Objective-C|                        45|\n",
      "|                   C|                        27|\n",
      "|                Ruby|                        25|\n",
      "|                Bash|                         9|\n",
      "|                   R|                         9|\n",
      "|              MATLAB|                         6|\n",
      "+--------------------+--------------------------+\n",
      "\n",
      "+--------------------+--------------------------+\n",
      "|Programming_language|Number_of_mentions_in_2013|\n",
      "+--------------------+--------------------------+\n",
      "|          JavaScript|                       196|\n",
      "|                Java|                       191|\n",
      "|                 PHP|                       173|\n",
      "|              Python|                        87|\n",
      "|         Objective-C|                        40|\n",
      "|                   C|                        36|\n",
      "|                Ruby|                        30|\n",
      "|                   R|                        25|\n",
      "|                Bash|                        11|\n",
      "|               Scala|                        10|\n",
      "+--------------------+--------------------------+\n",
      "\n",
      "+--------------------+--------------------------+\n",
      "|Programming_language|Number_of_mentions_in_2014|\n",
      "+--------------------+--------------------------+\n",
      "|          JavaScript|                       235|\n",
      "|                Java|                       228|\n",
      "|                 PHP|                       154|\n",
      "|              Python|                       103|\n",
      "|                   C|                        52|\n",
      "|         Objective-C|                        49|\n",
      "|                   R|                        28|\n",
      "|                Ruby|                        20|\n",
      "|              MATLAB|                        16|\n",
      "|                Bash|                        13|\n",
      "+--------------------+--------------------------+\n",
      "\n",
      "+--------------------+--------------------------+\n",
      "|Programming_language|Number_of_mentions_in_2015|\n",
      "+--------------------+--------------------------+\n",
      "|          JavaScript|                       268|\n",
      "|                Java|                       208|\n",
      "|                 PHP|                       147|\n",
      "|              Python|                       119|\n",
      "|                   R|                        43|\n",
      "|                   C|                        38|\n",
      "|         Objective-C|                        30|\n",
      "|                Ruby|                        20|\n",
      "|              MATLAB|                        16|\n",
      "|               Scala|                        13|\n",
      "+--------------------+--------------------------+\n",
      "\n",
      "+--------------------+--------------------------+\n",
      "|Programming_language|Number_of_mentions_in_2016|\n",
      "+--------------------+--------------------------+\n",
      "|          JavaScript|                       271|\n",
      "|                Java|                       178|\n",
      "|              Python|                       140|\n",
      "|                 PHP|                       126|\n",
      "|                   R|                        50|\n",
      "|                   C|                        32|\n",
      "|                Ruby|                        21|\n",
      "|                Bash|                        16|\n",
      "|               Scala|                        16|\n",
      "|              MATLAB|                        15|\n",
      "+--------------------+--------------------------+\n",
      "\n",
      "+--------------------+--------------------------+\n",
      "|Programming_language|Number_of_mentions_in_2017|\n",
      "+--------------------+--------------------------+\n",
      "|          JavaScript|                       244|\n",
      "|                Java|                       204|\n",
      "|              Python|                       185|\n",
      "|                 PHP|                       122|\n",
      "|                   R|                        53|\n",
      "|                   C|                        24|\n",
      "|         Objective-C|                        19|\n",
      "|                Ruby|                        16|\n",
      "|          TypeScript|                        14|\n",
      "|          PowerShell|                        14|\n",
      "+--------------------+--------------------------+\n",
      "\n",
      "+--------------------+--------------------------+\n",
      "|Programming_language|Number_of_mentions_in_2018|\n",
      "+--------------------+--------------------------+\n",
      "|              Python|                       214|\n",
      "|          JavaScript|                       194|\n",
      "|                Java|                       145|\n",
      "|                 PHP|                        99|\n",
      "|                   R|                        63|\n",
      "|                   C|                        24|\n",
      "|               Scala|                        22|\n",
      "|          TypeScript|                        21|\n",
      "|          PowerShell|                        13|\n",
      "|                Bash|                        12|\n",
      "+--------------------+--------------------------+\n",
      "\n",
      "+--------------------+--------------------------+\n",
      "|Programming_language|Number_of_mentions_in_2019|\n",
      "+--------------------+--------------------------+\n",
      "|              Python|                       162|\n",
      "|          JavaScript|                       131|\n",
      "|                Java|                        95|\n",
      "|                 PHP|                        59|\n",
      "|                   R|                        36|\n",
      "|                   C|                        14|\n",
      "|                  Go|                         9|\n",
      "|              MATLAB|                         9|\n",
      "|              Kotlin|                         9|\n",
      "|                Dart|                         9|\n",
      "+--------------------+--------------------------+\n",
      "\n"
     ]
    }
   ],
   "source": [
    "def language_detection(x): \n",
    "  tag = None\n",
    "  for language in prog_lang_list:\n",
    "    if \"<\" + language.lower() + \">\" in x._Tags.lower():\n",
    "      tag = language\n",
    "      break\n",
    "  if tag is None:\n",
    "    return None\n",
    "  return (x._Id, tag)\n",
    "\n",
    "\n",
    "def check_date(x, year):\n",
    "  start = datetime(year=year, month=1, day=1)\n",
    "  end = datetime(year=year, month=12, day=31)\n",
    "  CreationDate = x._CreationDate\n",
    "  return CreationDate >= start and CreationDate <= end\n",
    "\n",
    "final_result = {}\n",
    "for year in range(2010, 2020):\n",
    "  final_result[year] = posts.rdd\\\n",
    "      .filter(lambda x: x._Tags is not None and check_date(x, year))\\\n",
    "      .map(language_detection)\\\n",
    "      .filter(lambda x: x is not None)\\\n",
    "      .keyBy(lambda x: x[1])\\\n",
    "      .aggregateByKey(\n",
    "          0,\n",
    "          lambda x, y: x + 1,\n",
    "          lambda x1, x2: x1 + x2,)\\\n",
    "      .sortBy(lambda x: x[1], ascending=False)\\\n",
    "      .toDF()\n",
    "  final_result[year] = final_result[year].select(col(\"_1\").alias(\"Programming_language\"), \n",
    "                                                 col(\"_2\").alias(f\"Number_of_mentions_in_{year}\"))\\\n",
    "                                         .limit(10)\n",
    "  final_result[year].show()"
   ]
  },
  {
   "cell_type": "code",
   "execution_count": 19,
   "id": "16dc7ffe-6b44-49bf-a503-086693eeee27",
   "metadata": {},
   "outputs": [],
   "source": [
    "for year in final_result.keys():\n",
    "    final_result[year].write.format(\"parquet\").save(f\"top_{year}\")"
   ]
  },
  {
   "cell_type": "code",
   "execution_count": null,
   "id": "7feac951-be8c-4bcd-99f4-4905d2931d1e",
   "metadata": {},
   "outputs": [],
   "source": []
  }
 ],
 "metadata": {
  "kernelspec": {
   "display_name": "Python 3",
   "language": "python",
   "name": "python3"
  },
  "language_info": {
   "codemirror_mode": {
    "name": "ipython",
    "version": 3
   },
   "file_extension": ".py",
   "mimetype": "text/x-python",
   "name": "python",
   "nbconvert_exporter": "python",
   "pygments_lexer": "ipython3",
   "version": "3.6.9"
  }
 },
 "nbformat": 4,
 "nbformat_minor": 5
}
